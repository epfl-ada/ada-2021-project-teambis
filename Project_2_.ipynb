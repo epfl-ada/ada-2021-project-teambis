{
 "cells": [
  {
   "cell_type": "markdown",
   "metadata": {
    "id": "oA_fe4oxWT6p"
   },
   "source": [
    "# Applied data analysis\n",
    "## Self-confidence through quotations:\n",
    "\n"
   ]
  },
  {
   "cell_type": "markdown",
   "metadata": {
    "id": "dnXvjWR9NWvZ"
   },
   "source": [
    "### Mount the Google Drive in order to access to the files which are located on our drive\n"
   ]
  },
  {
   "cell_type": "code",
   "execution_count": null,
   "metadata": {
    "colab": {
     "base_uri": "https://localhost:8080/"
    },
    "id": "CEcIlRwfWY4C",
    "outputId": "b4c9cb6a-9c53-45c1-ad98-a68c6550c2bd"
   },
   "outputs": [
    {
     "name": "stdout",
     "output_type": "stream",
     "text": [
      "Mounted at /content/drive\n"
     ]
    }
   ],
   "source": [
    "from google.colab import drive\n",
    "drive._mount('/content/drive')"
   ]
  },
  {
   "cell_type": "markdown",
   "metadata": {
    "id": "5E6s11nPpS1S"
   },
   "source": [
    "### Install and import every packages that will be necessary for the analysis"
   ]
  },
  {
   "cell_type": "code",
   "execution_count": 3,
   "metadata": {
    "colab": {
     "base_uri": "https://localhost:8080/"
    },
    "id": "WDFHjZ-DpMXi",
    "outputId": "5ac51208-9817-41c8-a3c9-d8830978e78d"
   },
   "outputs": [
    {
     "name": "stdout",
     "output_type": "stream",
     "text": [
      "Requirement already satisfied: pickle-mixin in c:\\users\\flore\\anaconda3\\lib\\site-packages (1.0.2)\n",
      "Requirement already satisfied: pyarrow in c:\\users\\flore\\anaconda3\\lib\\site-packages (6.0.1)\n",
      "Requirement already satisfied: numpy>=1.16.6 in c:\\users\\flore\\anaconda3\\lib\\site-packages (from pyarrow) (1.20.1)\n",
      "Requirement already satisfied: pathlib in c:\\users\\flore\\anaconda3\\lib\\site-packages (1.0.1)\n"
     ]
    }
   ],
   "source": [
    "!pip install pickle-mixin\n",
    "!pip install pyarrow\n",
    "!pip install pathlib\n",
    "\n",
    "\n",
    "import pyarrow\n",
    "import pandas as pd\n",
    "import numpy as np\n",
    "import pathlib\n",
    "from datetime import datetime\n",
    "import sys\n",
    "import bz2\n",
    "import json\n",
    "import pickle\n",
    "import seaborn as sns\n",
    "import matplotlib.pyplot as plt"
   ]
  },
  {
   "cell_type": "markdown",
   "metadata": {
    "id": "jImkrItnY9wA"
   },
   "source": [
    "##Pre process of the data\n",
    "\n"
   ]
  },
  {
   "cell_type": "code",
   "execution_count": null,
   "metadata": {
    "id": "XsgGgvy_Qte3"
   },
   "outputs": [],
   "source": [
    "# The following function allows to only keep the attributes when a single evalue is given. \n",
    "#The function replaces array of size 1 by its first element\n",
    "#Indeed, some attributes are associated with an array of value, to make sure that the value we will use is the correct one, \n",
    "#we simple get rid of multiple valued element by replacing them with a 'Nan' value.\n",
    "\n",
    "def rem_mult(array):\n",
    "  if isinstance(array, np.ndarray):\n",
    "    if array.size == 1 :\n",
    "      array = array[0]\n",
    "    else :\n",
    "      array = np.nan\n",
    "  return array\n"
   ]
  },
  {
   "cell_type": "markdown",
   "metadata": {
    "id": "cKUy29h68N0J"
   },
   "source": [
    "#### Extracting the relevant data from the original files and saving them in a new file\n"
   ]
  },
  {
   "cell_type": "code",
   "execution_count": null,
   "metadata": {
    "colab": {
     "background_save": true
    },
    "id": "t7BjB7AW9qst"
   },
   "outputs": [],
   "source": [
    "path_to_file = '/content/drive/MyDrive/ADAprojet2021/Quotebank/quotes-2020.json.bz2' \n",
    "path_to_out = '/content/drive/MyDrive/ADAprojet2021/quotes-2020-clean.json.bz2'\n",
    "\n",
    "\n",
    "quotes_size =[]\n",
    "with bz2.open(path_to_out, 'wb') as d_file:\n",
    "    with bz2.open(path_to_file, 'rb') as s_file:\n",
    "        for instance in s_file:\n",
    "            instance = json.loads(instance) # loading a sample as a dictionnary\n",
    "            if (instance['speaker'] != 'None' and len(instance['qids']) == 1):\n",
    "              #Get rid of the quotes associated with no speaker as well as \n",
    "              # quotes associated with multiple qids\n",
    "                instance_out = {}\n",
    "                instance_out['speaker'] = instance['speaker']\n",
    "                instance_out['qids'] = instance['qids']\n",
    "                #remove [ and ] \n",
    "                instance_out['quotation'] = instance['quotation'].replace(\"[ \", \"\").replace(\" ]\", \"\")      \n",
    "                size = len(instance_out['quotation'].split())\n",
    "                quotes_size.append(size)\n",
    "                #Add the size of the quote in our new file\n",
    "                instance_out['size'] = size \n",
    "                d_file.write((json.dumps(instance_out)+'\\n').encode('utf-8')) # writing in the new file\n",
    "            "
   ]
  },
  {
   "cell_type": "markdown",
   "metadata": {
    "id": "6kpooZQ3s3od"
   },
   "source": [
    "## First step: pre-process the quotation\n",
    "\n",
    "  Indeed, since the whole analysis for this project is based on the quotations so it is important to keep only the quotations with comparable size\n"
   ]
  },
  {
   "cell_type": "code",
   "execution_count": null,
   "metadata": {
    "colab": {
     "background_save": true
    },
    "id": "aHMv0FD0Eh_W",
    "outputId": "13c97ad7-23a5-4cd5-fcd4-56564411c2ed"
   },
   "outputs": [
    {
     "data": {
      "image/png": "[encoded data removed]",
      "text/plain": [
       "<Figure size 921.6x576 with 1 Axes>"
      ]
     },
     "metadata": {},
     "output_type": "display_data"
    }
   ],
   "source": [
    "#See the distribution of the quotation length:\n",
    "sns.displot(data= quotes_size, kde = True, height=8, aspect=1.6) \n",
    "sns.set_style('white')\n",
    "plt.xlabel('Number of word in the quote')\n",
    "plt.title(\"Distribution of the number of word in the different quote\", x = 0.5, y = 1, fontsize = 15)\n",
    "plt.tight_layout()\n",
    "plt.show()"
   ]
  },
  {
   "cell_type": "markdown",
   "metadata": {
    "id": "0vOPobprkF2h"
   },
   "source": [
    "According to the distribution, the majority of the quotes are at most 100-words-long. In order to make sure that we analyse complete sentences, we are only going to keep sentences in a range 5 to 100 words long.\n"
   ]
  },
  {
   "cell_type": "code",
   "execution_count": null,
   "metadata": {
    "colab": {
     "background_save": true
    },
    "id": "-DzdyDHiwL9j"
   },
   "outputs": [],
   "source": [
    "#According to the distribution of the number of word in the quotes, we can select only the quotes containg between 5 and 100 words to make sure that we analyse at least one complete sentence.\n",
    "\n",
    "path_to_file = '/content/drive/MyDrive/ADAprojet2021/quotes-2020-clean.json.bz2'\n",
    "path_to_out= '/content/drive/MyDrive/ADAprojet2021/quotes-2020-processed.json.bz2'\n",
    "quotes_size1 =[]\n",
    "\n",
    "with bz2.open(path_to_out, 'wb') as d_file:\n",
    "    with bz2.open(path_to_file, 'rb') as s_file:\n",
    "        for instance in s_file:\n",
    "            instance = json.loads(instance) \n",
    "\n",
    "            if (5<= instance['size'] <= 100):\n",
    "              #We only copy the line associated with the qotation size between 5 and 100:\n",
    "                instance_out = instance\n",
    "\n",
    "                size = len(instance_out['quotation'].split())\n",
    "                quotes_size1.append(size)\n",
    "                d_file.write((json.dumps(instance_out)+'\\n').encode('utf-8'))\n",
    "\n",
    "#Q75 = np.array(quotes_size).quantile(0.75)\n",
    "#print(Q75)"
   ]
  },
  {
   "cell_type": "code",
   "execution_count": null,
   "metadata": {
    "id": "FnzapNhNP6N_"
   },
   "outputs": [],
   "source": [
    "sns.displot(data= quotes_size1, kde = True, height=8, aspect=1.6) \n",
    "sns.set_style('white')\n",
    "plt.xlabel('Number of word in the quote')\n",
    "plt.title(\"Distribution of the number of word in the different quote\", x = 0.5, y = 1, fontsize = 15)\n",
    "plt.tight_layout()\n",
    "plt.show()"
   ]
  },
  {
   "cell_type": "markdown",
   "metadata": {
    "id": "GmVrSNIMqNFd"
   },
   "source": [
    "## Second step : Pre-process the speakers attributes"
   ]
  },
  {
   "cell_type": "markdown",
   "metadata": {
    "id": "q3FnKKxRpiOw"
   },
   "source": [
    "During this analysis we are going to use some attributes of the speakers such as their gender, their qids ,their nationality and their US congress bio ID, if there is one.\n",
    "\n",
    "These extracted attributes will be save in a new file.\n",
    "\n",
    "The qIDs are kept so they will allow us to navigate between the quote file and the speaker file."
   ]
  },
  {
   "cell_type": "code",
   "execution_count": null,
   "metadata": {
    "colab": {
     "background_save": true
    },
    "id": "qGmQ7vkHvZdB"
   },
   "outputs": [],
   "source": [
    "#This function converts date of birth into datetime format, and replaces \n",
    "#by np.nan if speaker was born before 1900\n",
    "# According to the fact that we are performing a linguistic study, it is essential to make sure that the english spoken is fairily the same. \n",
    "#To do so, we decided to select the speakers of interest regarding the date of birth. \n",
    "#Such processing makes sure that the speakers are contemporary and may speak similarily.\n",
    "def dateofbirth(date):\n",
    "  #Remove speakers who are born before JC\n",
    "    if date[0] == '-' or date[1:5] == '0000': \n",
    "        date = np.nan\n",
    "    else:\n",
    "      #Notice here that we are only focusing on the year, this line will set the every birth days and months to first of january\n",
    "        date = datetime.strptime(date[1:5], '%Y')\n",
    "        if (date.year < 1900):\n",
    "            date = np.nan\n",
    "    return date\n",
    "\n",
    "#This function removes QIDS found in the sorted data that are irrelevant for the analysis\n",
    "def gender(id):\n",
    "    #remove erkek (which is a last name), homosexuality \n",
    "    if id == 'Q106299064' or id == 'Q6636':\n",
    "        return np.nan\n",
    "    #replace male organism, cis male by male\n",
    "    if id == 'Q44148' or id == 'Q15145778':\n",
    "        return 'Q6581097'\n",
    "    #same for female\n",
    "    if id== 'Q43445' or id == 'Q15145779':\n",
    "        return 'Q6581072'\n",
    "    else :\n",
    "        return id\n",
    "\n",
    "#function returns true if us citizen\n",
    "def us_to_bool(nat):\n",
    "    if isinstance(nat, np.ndarray):\n",
    "        return np.isin('Q30', nat)\n",
    "    else : return False\n",
    "\n",
    "#function returns true if in congress\n",
    "def congress(id):\n",
    "    if isinstance(id, str): return True\n",
    "    else : return False\n"
   ]
  },
  {
   "cell_type": "code",
   "execution_count": 16,
   "metadata": {
    "colab": {
     "base_uri": "https://localhost:8080/",
     "height": 562
    },
    "id": "33bcd47KqGK0",
    "outputId": "d57ac4ac-9803-497c-8719-1c5441456950"
   },
   "outputs": [
    {
     "data": {
      "text/html": [
       "<div>\n",
       "<style scoped>\n",
       "    .dataframe tbody tr th:only-of-type {\n",
       "        vertical-align: middle;\n",
       "    }\n",
       "\n",
       "    .dataframe tbody tr th {\n",
       "        vertical-align: top;\n",
       "    }\n",
       "\n",
       "    .dataframe thead th {\n",
       "        text-align: right;\n",
       "    }\n",
       "</style>\n",
       "<table border=\"1\" class=\"dataframe\">\n",
       "  <thead>\n",
       "    <tr style=\"text-align: right;\">\n",
       "      <th></th>\n",
       "      <th>id</th>\n",
       "      <th>label</th>\n",
       "      <th>gender</th>\n",
       "      <th>date_of_birth</th>\n",
       "      <th>nationality</th>\n",
       "      <th>US_congress_bio_ID</th>\n",
       "    </tr>\n",
       "  </thead>\n",
       "  <tbody>\n",
       "    <tr>\n",
       "      <th>2</th>\n",
       "      <td>Q18933</td>\n",
       "      <td>Rhoda Griffis</td>\n",
       "      <td>Q6581072</td>\n",
       "      <td>1965-01-01 00:00:00</td>\n",
       "      <td>True</td>\n",
       "      <td>False</td>\n",
       "    </tr>\n",
       "    <tr>\n",
       "      <th>3</th>\n",
       "      <td>Q18953</td>\n",
       "      <td>Peter DeLuise</td>\n",
       "      <td>Q6581097</td>\n",
       "      <td>1966-01-01 00:00:00</td>\n",
       "      <td>True</td>\n",
       "      <td>False</td>\n",
       "    </tr>\n",
       "    <tr>\n",
       "      <th>4</th>\n",
       "      <td>Q18971</td>\n",
       "      <td>Arthur P. Jacobs</td>\n",
       "      <td>Q6581097</td>\n",
       "      <td>1922-01-01 00:00:00</td>\n",
       "      <td>True</td>\n",
       "      <td>False</td>\n",
       "    </tr>\n",
       "    <tr>\n",
       "      <th>8</th>\n",
       "      <td>Q19190</td>\n",
       "      <td>Rupert Grint</td>\n",
       "      <td>Q6581097</td>\n",
       "      <td>1988-01-01 00:00:00</td>\n",
       "      <td>False</td>\n",
       "      <td>False</td>\n",
       "    </tr>\n",
       "    <tr>\n",
       "      <th>9</th>\n",
       "      <td>Q19205</td>\n",
       "      <td>Rob Bourdon</td>\n",
       "      <td>Q6581097</td>\n",
       "      <td>1979-01-01 00:00:00</td>\n",
       "      <td>True</td>\n",
       "      <td>False</td>\n",
       "    </tr>\n",
       "    <tr>\n",
       "      <th>...</th>\n",
       "      <td>...</td>\n",
       "      <td>...</td>\n",
       "      <td>...</td>\n",
       "      <td>...</td>\n",
       "      <td>...</td>\n",
       "      <td>...</td>\n",
       "    </tr>\n",
       "    <tr>\n",
       "      <th>9055974</th>\n",
       "      <td>Q210228</td>\n",
       "      <td>Kozo Yuki</td>\n",
       "      <td>Q6581097</td>\n",
       "      <td>1979-01-01 00:00:00</td>\n",
       "      <td>False</td>\n",
       "      <td>False</td>\n",
       "    </tr>\n",
       "    <tr>\n",
       "      <th>9055975</th>\n",
       "      <td>Q210231</td>\n",
       "      <td>Hayato Sasaki</td>\n",
       "      <td>Q6581097</td>\n",
       "      <td>1982-01-01 00:00:00</td>\n",
       "      <td>False</td>\n",
       "      <td>False</td>\n",
       "    </tr>\n",
       "    <tr>\n",
       "      <th>9055976</th>\n",
       "      <td>Q210284</td>\n",
       "      <td>Marinaldo Cícero da Silva</td>\n",
       "      <td>Q6581097</td>\n",
       "      <td>1986-01-01 00:00:00</td>\n",
       "      <td>False</td>\n",
       "      <td>False</td>\n",
       "    </tr>\n",
       "    <tr>\n",
       "      <th>9055978</th>\n",
       "      <td>Q210462</td>\n",
       "      <td>Christina Hendricks</td>\n",
       "      <td>Q6581072</td>\n",
       "      <td>1975-01-01 00:00:00</td>\n",
       "      <td>True</td>\n",
       "      <td>False</td>\n",
       "    </tr>\n",
       "    <tr>\n",
       "      <th>9055980</th>\n",
       "      <td>Q210547</td>\n",
       "      <td>Aubrey Plaza</td>\n",
       "      <td>Q6581072</td>\n",
       "      <td>1984-01-01 00:00:00</td>\n",
       "      <td>True</td>\n",
       "      <td>False</td>\n",
       "    </tr>\n",
       "  </tbody>\n",
       "</table>\n",
       "<p>3223289 rows × 6 columns</p>\n",
       "</div>"
      ],
      "text/plain": [
       "              id                      label  ... nationality US_congress_bio_ID\n",
       "2         Q18933              Rhoda Griffis  ...        True              False\n",
       "3         Q18953              Peter DeLuise  ...        True              False\n",
       "4         Q18971           Arthur P. Jacobs  ...        True              False\n",
       "8         Q19190               Rupert Grint  ...       False              False\n",
       "9         Q19205                Rob Bourdon  ...        True              False\n",
       "...          ...                        ...  ...         ...                ...\n",
       "9055974  Q210228                  Kozo Yuki  ...       False              False\n",
       "9055975  Q210231              Hayato Sasaki  ...       False              False\n",
       "9055976  Q210284  Marinaldo Cícero da Silva  ...       False              False\n",
       "9055978  Q210462        Christina Hendricks  ...        True              False\n",
       "9055980  Q210547               Aubrey Plaza  ...        True              False\n",
       "\n",
       "[3223289 rows x 6 columns]"
      ]
     },
     "metadata": {},
     "output_type": "display_data"
    },
    {
     "name": "stdout",
     "output_type": "stream",
     "text": [
      "Index                  25786312\n",
      "id                    211539869\n",
      "label                 238764324\n",
      "gender                  3225420\n",
      "date_of_birth         180504184\n",
      "nationality             3223289\n",
      "US_congress_bio_ID      3223289\n",
      "dtype: int64\n"
     ]
    }
   ],
   "source": [
    "\n",
    "#files = pathlib.Path('./parquet').glob('part-*-0d587965-3d8f-41ce-9771-5b8c9024dce9-c000.snappy.parquet')\n",
    "files = pathlib.Path(\"/content/drive/MyDrive/ADAprojet2021/Project datasets/speaker_attributes.parquet/\").glob(\"part-*-0d587965-3d8f-41ce-9771-5b8c9024dce9-c000.snappy.parquet\")\n",
    "df = pd.DataFrame()\n",
    "columns = ['id', 'label', 'gender','date_of_birth', 'nationality', 'US_congress_bio_ID']\n",
    "for path in files:\n",
    "    df = pd.concat([df, pd.read_parquet(path, columns = columns)], join='outer', ignore_index=True)\n",
    "    df = df.drop_duplicates(subset='id', keep = False)\n",
    "\n",
    "df.gender = df.gender.apply(lambda x: rem_mult(x))\n",
    "df.gender = df.gender.apply(lambda x: gender(x))\n",
    "\n",
    "df.date_of_birth = df.date_of_birth.apply(lambda x: rem_mult(x))\n",
    "\n",
    "df = df.dropna(subset = ['id', 'gender','date_of_birth'])\n",
    "df = df.astype({'gender': 'category'})\n",
    "\n",
    "df.date_of_birth = df.date_of_birth.apply(lambda x: dateofbirth(x))\n",
    "df = df.dropna(subset = ['date_of_birth'])\n",
    "\n",
    "df.nationality = df.nationality.apply(lambda x: us_to_bool(x))\n",
    "df.US_congress_bio_ID = df.US_congress_bio_ID.apply(lambda x: congress(x))\n",
    "\n",
    "\n",
    "display(df)\n",
    "print(df.memory_usage(deep=True))\n",
    "genders = df.gender.unique()\n",
    "\n",
    "\n",
    "path_to_out = '/content/drive/MyDrive/ADAprojet2021/speaker_attributes_processed.json.bz2'\n",
    "df.to_json(path_to_out, orient = 'records', compression = 'bz2') "
   ]
  },
  {
   "cell_type": "markdown",
   "metadata": {
    "id": "qerKaZwczsKt"
   },
   "source": [
    "Since we are doing an observationnal study, it is important to have a great notion of the distribution according to the different features. "
   ]
  },
  {
   "cell_type": "code",
   "execution_count": null,
   "metadata": {
    "id": "FCDzJmXXlh_X"
   },
   "outputs": [],
   "source": [
    "plt.figure(figsize=(50,20))\n",
    "sns.histplot(df.gender)\n",
    "plt.title(\"Histogram showing the distribution of gender \", fontsize=30)\n",
    "plt.xlabel(\"Gender\", fontsize=25)\n",
    "plt.ylabel(\"Numbers of individuals\", fontsize=25)\n",
    "plt.yscale('log')\n",
    "labels = ['transgender female', 'intersex', 'neutrois', 'genderqueer', 'eunuch', 'genderfluid', 'transgender person', 'shemale',\n",
    "          'transgender male', 'transmasculine', 'two-spirit', 'muxe', 'non-binary', 'third gender', 'agender', 'neutral sex',\n",
    "         'female', 'male', 'pangender', 'khatoey', 'bigender', 'demiboy', 'X-gender']\n",
    "plt.xticks(ticks = np.arange(23), labels = labels, rotation=45, fontsize=20)\n",
    "plt.show()"
   ]
  },
  {
   "cell_type": "code",
   "execution_count": null,
   "metadata": {
    "id": "QqAnNMuOweoW"
   },
   "outputs": [],
   "source": [
    "\n",
    "x = []\n",
    "for i in df.date_of_birth:\n",
    "  x.append(i.year)\n",
    "\n",
    "sns.displot(data=x, kde = True, height=8, aspect=1.6) \n",
    "sns.set_style('white')\n",
    "plt.xlabel('Year of birth')\n",
    "plt.xlim(1900,2021)\n",
    "plt.title(\"Distribution of the birth years\", x = 0.5, y = 1, fontsize = 15)\n",
    "plt.tight_layout()\n",
    "plt.show()"
   ]
  },
  {
   "cell_type": "markdown",
   "metadata": {
    "id": "RJZMkIKi4y2y"
   },
   "source": [
    "Preprocessing of the citations: Put them in the right format, extract the tense of the citation to properly assign the right score.\n"
   ]
  },
  {
   "cell_type": "code",
   "execution_count": 47,
   "metadata": {
    "colab": {
     "base_uri": "https://localhost:8080/"
    },
    "id": "iEXXUZjT4yN7",
    "outputId": "c638bc74-0576-40b7-b515-a8838a784bc1"
   },
   "outputs": [
    {
     "name": "stdout",
     "output_type": "stream",
     "text": [
      "[nltk_data] Downloading package punkt to /root/nltk_data...\n",
      "[nltk_data]   Package punkt is already up-to-date!\n",
      "[nltk_data] Downloading package averaged_perceptron_tagger to\n",
      "[nltk_data]     /root/nltk_data...\n",
      "[nltk_data]   Unzipping taggers/averaged_perceptron_tagger.zip.\n"
     ]
    }
   ],
   "source": [
    "#NLP libraries\n",
    "import spacy, nltk, gensim, sklearn\n",
    "from nltk import pos_tag, word_tokenize\n",
    "nltk.download('punkt')\n",
    "nltk.download('averaged_perceptron_tagger')\n",
    "\n",
    "\n",
    "nlp = spacy.load('en_core_web_sm')\n"
   ]
  },
  {
   "cell_type": "code",
   "execution_count": 127,
   "metadata": {
    "colab": {
     "base_uri": "https://localhost:8080/",
     "height": 381
    },
    "id": "01M3gjtV5Nmn",
    "outputId": "7f056f9b-b31c-4e9b-9484-448e8a78295a"
   },
   "outputs": [
    {
     "ename": "KeyboardInterrupt",
     "evalue": "ignored",
     "output_type": "error",
     "traceback": [
      "\u001b[0;31m---------------------------------------------------------------------------\u001b[0m",
      "\u001b[0;31mKeyboardInterrupt\u001b[0m                         Traceback (most recent call last)",
      "\u001b[0;32m<ipython-input-127-af8332cc0731>\u001b[0m in \u001b[0;36m<module>\u001b[0;34m()\u001b[0m\n\u001b[1;32m     20\u001b[0m       \u001b[0mtense\u001b[0m \u001b[0;34m=\u001b[0m \u001b[0;34m'past'\u001b[0m\u001b[0;34m\u001b[0m\u001b[0;34m\u001b[0m\u001b[0m\n\u001b[1;32m     21\u001b[0m \u001b[0;34m\u001b[0m\u001b[0m\n\u001b[0;32m---> 22\u001b[0;31m     \u001b[0mquotes\u001b[0m \u001b[0;34m=\u001b[0m \u001b[0mquotes\u001b[0m\u001b[0;34m.\u001b[0m\u001b[0mappend\u001b[0m\u001b[0;34m(\u001b[0m\u001b[0;34m{\u001b[0m\u001b[0;34m'qids'\u001b[0m\u001b[0;34m:\u001b[0m\u001b[0minstance\u001b[0m\u001b[0;34m[\u001b[0m\u001b[0;34m'qids'\u001b[0m\u001b[0;34m]\u001b[0m\u001b[0;34m,\u001b[0m \u001b[0;34m'quotation'\u001b[0m\u001b[0;34m:\u001b[0m\u001b[0minstance\u001b[0m\u001b[0;34m[\u001b[0m\u001b[0;34m'quotation'\u001b[0m\u001b[0;34m]\u001b[0m\u001b[0;34m,\u001b[0m \u001b[0;34m'tense'\u001b[0m\u001b[0;34m:\u001b[0m \u001b[0mtense\u001b[0m\u001b[0;34m}\u001b[0m\u001b[0;34m,\u001b[0m \u001b[0mignore_index\u001b[0m\u001b[0;34m=\u001b[0m\u001b[0;32mTrue\u001b[0m\u001b[0;34m)\u001b[0m\u001b[0;34m\u001b[0m\u001b[0;34m\u001b[0m\u001b[0m\n\u001b[0m",
      "\u001b[0;32m/usr/local/lib/python3.7/dist-packages/pandas/core/frame.py\u001b[0m in \u001b[0;36mappend\u001b[0;34m(self, other, ignore_index, verify_integrity, sort)\u001b[0m\n\u001b[1;32m   7749\u001b[0m             \u001b[0mignore_index\u001b[0m\u001b[0;34m=\u001b[0m\u001b[0mignore_index\u001b[0m\u001b[0;34m,\u001b[0m\u001b[0;34m\u001b[0m\u001b[0;34m\u001b[0m\u001b[0m\n\u001b[1;32m   7750\u001b[0m             \u001b[0mverify_integrity\u001b[0m\u001b[0;34m=\u001b[0m\u001b[0mverify_integrity\u001b[0m\u001b[0;34m,\u001b[0m\u001b[0;34m\u001b[0m\u001b[0;34m\u001b[0m\u001b[0m\n\u001b[0;32m-> 7751\u001b[0;31m             \u001b[0msort\u001b[0m\u001b[0;34m=\u001b[0m\u001b[0msort\u001b[0m\u001b[0;34m,\u001b[0m\u001b[0;34m\u001b[0m\u001b[0;34m\u001b[0m\u001b[0m\n\u001b[0m\u001b[1;32m   7752\u001b[0m         )\n\u001b[1;32m   7753\u001b[0m \u001b[0;34m\u001b[0m\u001b[0m\n",
      "\u001b[0;32m/usr/local/lib/python3.7/dist-packages/pandas/core/reshape/concat.py\u001b[0m in \u001b[0;36mconcat\u001b[0;34m(objs, axis, join, ignore_index, keys, levels, names, verify_integrity, sort, copy)\u001b[0m\n\u001b[1;32m    285\u001b[0m     )\n\u001b[1;32m    286\u001b[0m \u001b[0;34m\u001b[0m\u001b[0m\n\u001b[0;32m--> 287\u001b[0;31m     \u001b[0;32mreturn\u001b[0m \u001b[0mop\u001b[0m\u001b[0;34m.\u001b[0m\u001b[0mget_result\u001b[0m\u001b[0;34m(\u001b[0m\u001b[0;34m)\u001b[0m\u001b[0;34m\u001b[0m\u001b[0;34m\u001b[0m\u001b[0m\n\u001b[0m\u001b[1;32m    288\u001b[0m \u001b[0;34m\u001b[0m\u001b[0m\n\u001b[1;32m    289\u001b[0m \u001b[0;34m\u001b[0m\u001b[0m\n",
      "\u001b[0;32m/usr/local/lib/python3.7/dist-packages/pandas/core/reshape/concat.py\u001b[0m in \u001b[0;36mget_result\u001b[0;34m(self)\u001b[0m\n\u001b[1;32m    501\u001b[0m \u001b[0;34m\u001b[0m\u001b[0m\n\u001b[1;32m    502\u001b[0m             new_data = concatenate_block_managers(\n\u001b[0;32m--> 503\u001b[0;31m                 \u001b[0mmgrs_indexers\u001b[0m\u001b[0;34m,\u001b[0m \u001b[0mself\u001b[0m\u001b[0;34m.\u001b[0m\u001b[0mnew_axes\u001b[0m\u001b[0;34m,\u001b[0m \u001b[0mconcat_axis\u001b[0m\u001b[0;34m=\u001b[0m\u001b[0mself\u001b[0m\u001b[0;34m.\u001b[0m\u001b[0mbm_axis\u001b[0m\u001b[0;34m,\u001b[0m \u001b[0mcopy\u001b[0m\u001b[0;34m=\u001b[0m\u001b[0mself\u001b[0m\u001b[0;34m.\u001b[0m\u001b[0mcopy\u001b[0m\u001b[0;34m,\u001b[0m\u001b[0;34m\u001b[0m\u001b[0;34m\u001b[0m\u001b[0m\n\u001b[0m\u001b[1;32m    504\u001b[0m             )\n\u001b[1;32m    505\u001b[0m             \u001b[0;32mif\u001b[0m \u001b[0;32mnot\u001b[0m \u001b[0mself\u001b[0m\u001b[0;34m.\u001b[0m\u001b[0mcopy\u001b[0m\u001b[0;34m:\u001b[0m\u001b[0;34m\u001b[0m\u001b[0;34m\u001b[0m\u001b[0m\n",
      "\u001b[0;32m/usr/local/lib/python3.7/dist-packages/pandas/core/internals/concat.py\u001b[0m in \u001b[0;36mconcatenate_block_managers\u001b[0;34m(mgrs_indexers, axes, concat_axis, copy)\u001b[0m\n\u001b[1;32m     77\u001b[0m         \u001b[0;32melse\u001b[0m\u001b[0;34m:\u001b[0m\u001b[0;34m\u001b[0m\u001b[0;34m\u001b[0m\u001b[0m\n\u001b[1;32m     78\u001b[0m             b = make_block(\n\u001b[0;32m---> 79\u001b[0;31m                 \u001b[0m_concatenate_join_units\u001b[0m\u001b[0;34m(\u001b[0m\u001b[0mjoin_units\u001b[0m\u001b[0;34m,\u001b[0m \u001b[0mconcat_axis\u001b[0m\u001b[0;34m,\u001b[0m \u001b[0mcopy\u001b[0m\u001b[0;34m=\u001b[0m\u001b[0mcopy\u001b[0m\u001b[0;34m,\u001b[0m\u001b[0;34m)\u001b[0m\u001b[0;34m,\u001b[0m\u001b[0;34m\u001b[0m\u001b[0;34m\u001b[0m\u001b[0m\n\u001b[0m\u001b[1;32m     80\u001b[0m                 \u001b[0mplacement\u001b[0m\u001b[0;34m=\u001b[0m\u001b[0mplacement\u001b[0m\u001b[0;34m,\u001b[0m\u001b[0;34m\u001b[0m\u001b[0;34m\u001b[0m\u001b[0m\n\u001b[1;32m     81\u001b[0m             )\n",
      "\u001b[0;32m/usr/local/lib/python3.7/dist-packages/pandas/core/internals/concat.py\u001b[0m in \u001b[0;36m_concatenate_join_units\u001b[0;34m(join_units, concat_axis, copy)\u001b[0m\n\u001b[1;32m    344\u001b[0m             \u001b[0mconcat_values\u001b[0m \u001b[0;34m=\u001b[0m \u001b[0mnp\u001b[0m\u001b[0;34m.\u001b[0m\u001b[0matleast_2d\u001b[0m\u001b[0;34m(\u001b[0m\u001b[0mconcat_values\u001b[0m\u001b[0;34m)\u001b[0m\u001b[0;34m\u001b[0m\u001b[0;34m\u001b[0m\u001b[0m\n\u001b[1;32m    345\u001b[0m     \u001b[0;32melse\u001b[0m\u001b[0;34m:\u001b[0m\u001b[0;34m\u001b[0m\u001b[0;34m\u001b[0m\u001b[0m\n\u001b[0;32m--> 346\u001b[0;31m         \u001b[0mconcat_values\u001b[0m \u001b[0;34m=\u001b[0m \u001b[0mconcat_compat\u001b[0m\u001b[0;34m(\u001b[0m\u001b[0mto_concat\u001b[0m\u001b[0;34m,\u001b[0m \u001b[0maxis\u001b[0m\u001b[0;34m=\u001b[0m\u001b[0mconcat_axis\u001b[0m\u001b[0;34m,\u001b[0m\u001b[0;34m)\u001b[0m\u001b[0;34m\u001b[0m\u001b[0;34m\u001b[0m\u001b[0m\n\u001b[0m\u001b[1;32m    347\u001b[0m \u001b[0;34m\u001b[0m\u001b[0m\n\u001b[1;32m    348\u001b[0m     \u001b[0;32mreturn\u001b[0m \u001b[0mconcat_values\u001b[0m\u001b[0;34m\u001b[0m\u001b[0;34m\u001b[0m\u001b[0m\n",
      "\u001b[0;32m/usr/local/lib/python3.7/dist-packages/pandas/core/dtypes/concat.py\u001b[0m in \u001b[0;36mconcat_compat\u001b[0;34m(to_concat, axis)\u001b[0m\n\u001b[1;32m    178\u001b[0m                 \u001b[0mto_concat\u001b[0m \u001b[0;34m=\u001b[0m \u001b[0;34m[\u001b[0m\u001b[0mx\u001b[0m\u001b[0;34m.\u001b[0m\u001b[0mastype\u001b[0m\u001b[0;34m(\u001b[0m\u001b[0;34m\"object\"\u001b[0m\u001b[0;34m)\u001b[0m \u001b[0;32mfor\u001b[0m \u001b[0mx\u001b[0m \u001b[0;32min\u001b[0m \u001b[0mto_concat\u001b[0m\u001b[0;34m]\u001b[0m\u001b[0;34m\u001b[0m\u001b[0;34m\u001b[0m\u001b[0m\n\u001b[1;32m    179\u001b[0m \u001b[0;34m\u001b[0m\u001b[0m\n\u001b[0;32m--> 180\u001b[0;31m     \u001b[0;32mreturn\u001b[0m \u001b[0mnp\u001b[0m\u001b[0;34m.\u001b[0m\u001b[0mconcatenate\u001b[0m\u001b[0;34m(\u001b[0m\u001b[0mto_concat\u001b[0m\u001b[0;34m,\u001b[0m \u001b[0maxis\u001b[0m\u001b[0;34m=\u001b[0m\u001b[0maxis\u001b[0m\u001b[0;34m)\u001b[0m\u001b[0;34m\u001b[0m\u001b[0;34m\u001b[0m\u001b[0m\n\u001b[0m\u001b[1;32m    181\u001b[0m \u001b[0;34m\u001b[0m\u001b[0m\n\u001b[1;32m    182\u001b[0m \u001b[0;34m\u001b[0m\u001b[0m\n",
      "\u001b[0;32m<__array_function__ internals>\u001b[0m in \u001b[0;36mconcatenate\u001b[0;34m(*args, **kwargs)\u001b[0m\n",
      "\u001b[0;31mKeyboardInterrupt\u001b[0m: "
     ]
    }
   ],
   "source": [
    "path = '/content/drive/MyDrive/ADAprojet2021/quotes-2020-processed.json.bz2'\n",
    "quotes = pd.DataFrame(columns=('qids','quotation','verbs' 'tense', 'score'))\n",
    "\n",
    "#create an array containing the tags associated with the tense \n",
    "present = [\"VBP\", \"VBZ\",\"VBG\"]\n",
    "past = [\"VBD\", \"VBN\"]\n",
    "\n",
    "with bz2.open(path, 'rb') as s_file:\n",
    "  for instance in s_file:\n",
    "    tense = ['None']\n",
    "    instance = json.loads(instance) \n",
    "    text = nltk.word_tokenize(instance['quotation'])\n",
    "    tags = nltk.pos_tag(text)\n",
    "\n",
    "    for word,pos in tags:\n",
    "      tense = [pos for word,pos in tags if np.isin(pos, past + present)]\n",
    "  #Check if every verbs are conjugated at the same tense, and assigning the tense to the quotes\n",
    "    if set(tense).issubset(set(present)) == True:\n",
    "      tense = 'present'\n",
    "    if set(tense).issubset(set(past)) == True:\n",
    "      tense = 'past'\n",
    "\n",
    "    quotes = quotes.append({'qids':instance['qids'], 'quotation':instance['quotation'], 'tense': tense}, ignore_index=True)"
   ]
  },
  {
   "cell_type": "code",
   "execution_count": 103,
   "metadata": {
    "colab": {
     "base_uri": "https://localhost:8080/"
    },
    "id": "jKBHW1vn66Z8",
    "outputId": "c815e38c-8076-473f-dc7d-fe26a4226a11"
   },
   "outputs": [
    {
     "name": "stdout",
     "output_type": "stream",
     "text": [
      "{'speaker': 'Sue Myrick', 'qids': ['Q367796'], 'quotation': 'Department of Homeland Security was livid and strongly urged to have the agenda pulled.', 'size': 14}\n",
      "Department of Homeland Security was livid and strongly urged to have the agenda pulled.\n",
      "1\n",
      "{'speaker': 'Meghan King Edmonds', 'qids': ['Q20684375'], 'quotation': 'I met them when they just turned 4 and 7. They were little. They felt like my full-blown stepkids.', 'size': 19}\n",
      "I met them when they just turned 4 and 7. They were little. They felt like my full-blown stepkids.\n",
      "2\n",
      "{'speaker': 'Dexter Smith', 'qids': ['Q5268447'], 'quotation': 'The delay will have an impact on Slough but that might be mitigated by the fact we are going to have this Western Rail Link to Heathrow. It looks like that may come in sooner than Crossrail.', 'size': 37}\n",
      "The delay will have an impact on Slough but that might be mitigated by the fact we are going to have this Western Rail Link to Heathrow. It looks like that may come in sooner than Crossrail.\n",
      "3\n",
      "{'speaker': 'Barry Coppinger', 'qids': ['Q4864119'], 'quotation': 'The scheme treats addiction as an illness and the results so far have been extremely encouraging.', 'size': 16}\n",
      "The scheme treats addiction as an illness and the results so far have been extremely encouraging.\n",
      "4\n",
      "{'speaker': 'Ben Carson', 'qids': ['Q816459'], 'quotation': 'These actions will allow households who have an FHA-insured mortgage to meet the challenges of COVID-19 without fear of losing their homes, and help steady market concerns,', 'size': 27}\n",
      "These actions will allow households who have an FHA-insured mortgage to meet the challenges of COVID-19 without fear of losing their homes, and help steady market concerns,\n",
      "5\n",
      "{'speaker': 'Paul Masterton', 'qids': ['Q30164281'], 'quotation': '1. FM is entitled to go straight to press conference after COBRA + not a surprise. If it annoys you you could suggest to PM he does likewise.', 'size': 28}\n",
      "1. FM is entitled to go straight to press conference after COBRA + not a surprise. If it annoys you you could suggest to PM he does likewise.\n",
      "6\n",
      "{'speaker': 'Aphelele Fassi', 'qids': ['Q56255401'], 'quotation': '11 straight weeks of pre-season,', 'size': 5}\n",
      "11 straight weeks of pre-season,\n",
      "7\n",
      "{'speaker': 'Micha Kaufman', 'qids': ['Q26923564'], 'quotation': '2019 was a landmark year for Fiverr as we completed a successful IPO, expanded the Fiverr ecosystem with new products, increased our international reach, and most importantly, continued our extraordinary growth momentum and march toward profitability,', 'size': 36}\n",
      "2019 was a landmark year for Fiverr as we completed a successful IPO, expanded the Fiverr ecosystem with new products, increased our international reach, and most importantly, continued our extraordinary growth momentum and march toward profitability,\n",
      "8\n",
      "{'speaker': 'Amy Schumer', 'qids': ['Q4749380'], 'quotation': \"7pm is when most hospitals change shifts. That's why. We love you heroes.\", 'size': 13}\n",
      "7pm is when most hospitals change shifts. That's why. We love you heroes.\n",
      "9\n",
      "{'speaker': 'Leon Krier', 'qids': ['Q970000'], 'quotation': 'A city is not an accident but the result of coherent visions and aims.', 'size': 14}\n",
      "A city is not an accident but the result of coherent visions and aims.\n",
      "10\n"
     ]
    }
   ],
   "source": [
    "#Extract a small part of the whole file to test \n",
    "path = '/content/drive/MyDrive/ADAprojet2021/quotes-2020-processed.json.bz2'\n",
    "test = pd.DataFrame(columns=('qids','quotation'))\n",
    "i = 0\n",
    "with bz2.open(path, 'rb') as s_file:\n",
    "  for instance in s_file:\n",
    "    instance = json.loads(instance) \n",
    "    print(instance)\n",
    "    print(instance['quotation'])\n",
    "    i = i + 1\n",
    "    test = test.append({'qids': instance['qids'], 'quotation': instance['quotation']}, ignore_index=True)\n",
    "    print(i)\n",
    "    if i == 10:\n",
    "      break\n"
   ]
  },
  {
   "cell_type": "code",
   "execution_count": 126,
   "metadata": {
    "colab": {
     "base_uri": "https://localhost:8080/"
    },
    "id": "8_ndfm0aCi2B",
    "outputId": "1351e720-b62c-4cd7-e4b8-a4e81bb212a6"
   },
   "outputs": [
    {
     "name": "stdout",
     "output_type": "stream",
     "text": [
      "<class 'str'>\n",
      "None\n",
      "<class 'str'>\n",
      "None\n",
      "<class 'str'>\n",
      "None\n",
      "<class 'str'>\n",
      "None\n",
      "<class 'str'>\n",
      "None\n",
      "<class 'str'>\n",
      "None\n",
      "<class 'str'>\n",
      "None\n",
      "<class 'str'>\n",
      "None\n",
      "<class 'str'>\n",
      "None\n",
      "<class 'str'>\n",
      "None\n"
     ]
    }
   ],
   "source": [
    "from nltk.text import Text\n",
    "import re \n",
    "\n",
    "for text in test['quotation']:\n",
    "  x = text\n",
    "  print(type(x))\n",
    "  y = re.match('is', x)\n",
    "  print(y)"
   ]
  },
  {
   "cell_type": "code",
   "execution_count": null,
   "metadata": {
    "id": "cx0MEzbZw5NM"
   },
   "outputs": [],
   "source": []
  },
  {
   "cell_type": "code",
   "execution_count": null,
   "metadata": {},
   "outputs": [],
   "source": []
  },
  {
   "cell_type": "code",
   "execution_count": null,
   "metadata": {},
   "outputs": [],
   "source": []
  },
  {
   "cell_type": "code",
   "execution_count": 1,
   "metadata": {},
   "outputs": [],
   "source": [
    "#si besoin\n",
    "#pip install -U sentence-transformers"
   ]
  },
  {
   "cell_type": "code",
   "execution_count": 4,
   "metadata": {},
   "outputs": [
    {
     "data": {
      "text/plain": [
       "array([[0.22059387, 0.47637683, 0.22743046]], dtype=float32)"
      ]
     },
     "execution_count": 4,
     "metadata": {},
     "output_type": "execute_result"
    }
   ],
   "source": [
    "#test de comparaison semantique avec des trucs randoms\n",
    "\n",
    "sentences = [\n",
    "    \"Three years later, the coffin was still full of Jello.\",\n",
    "    \"The fish dreamed of escaping the fishbowl and into the toilet where he saw his friend go.\",\n",
    "    \"The person box was packed with jelly many dozens of months later.\",\n",
    "    \"He found a leprechaun in his walnut shell.\"\n",
    "]\n",
    "\n",
    "from sentence_transformers import SentenceTransformer\n",
    "\n",
    "model = SentenceTransformer(r'C:\\Users\\flore\\Desktop\\EPFL\\MA1\\ada\\PROJET\\pretrained_model') #'bert-base-nli-mean-tokens'\n",
    "\n",
    "sentence_embeddings = model.encode(sentences)\n",
    "\n",
    "from sklearn.metrics.pairwise import cosine_similarity\n",
    "\n",
    "cosine_similarity(\n",
    "    [sentence_embeddings[0]],\n",
    "    sentence_embeddings[1:]\n",
    ")"
   ]
  },
  {
   "cell_type": "code",
   "execution_count": 8,
   "metadata": {},
   "outputs": [
    {
     "name": "stdout",
     "output_type": "stream",
     "text": [
      "{'quoteID': '2020-01-16-000088', 'quotation': '[ Department of Homeland Security ] was livid and strongly urged to have the agenda pulled.', 'speaker': 'Sue Myrick'}\n",
      "{'quoteID': '2020-01-24-000168', 'quotation': '[ I met them ] when they just turned 4 and 7. They were little. They felt like my full-blown stepkids.', 'speaker': 'Meghan King Edmonds'}\n",
      "{'quoteID': '2020-01-17-000357', 'quotation': '[ The delay ] will have an impact [ on Slough ] but that might be mitigated by the fact we are going to have this Western Rail Link to Heathrow. It looks like that may come in sooner than Crossrail.', 'speaker': 'Dexter Smith'}\n",
      "{'quoteID': '2020-04-02-000239', 'quotation': '[ The scheme ] treats addiction as an illness and the results so far have been extremely encouraging.', 'speaker': 'Barry Coppinger'}\n",
      "{'quoteID': '2020-03-19-000276', 'quotation': '[ These ] actions will allow households who have an FHA-insured mortgage to meet the challenges of COVID-19 without fear of losing their homes, and help steady market concerns,', 'speaker': 'Ben Carson'}\n",
      "{'quoteID': '2020-02-02-000235', 'quotation': '... Under a President Biden, the possibilities are endless,', 'speaker': 'Danny Davis'}\n",
      "{'quoteID': '2020-03-12-000358', 'quotation': '1. FM is entitled to go straight to press conference after COBRA + not a surprise. If it annoys you you could suggest to PM he does likewise.', 'speaker': 'Paul Masterton'}\n",
      "{'quoteID': '2020-01-08-000594', 'quotation': '11 straight weeks of pre-season,', 'speaker': 'Aphelele Fassi'}\n",
      "{'quoteID': '2020-02-21-000455', 'quotation': '2019 was a landmark year for Fiverr as we completed a successful IPO, expanded the Fiverr ecosystem with new products, increased our international reach, and most importantly, continued our extraordinary growth momentum and march toward profitability,', 'speaker': 'Micha Kaufman'}\n",
      "{'quoteID': '2020-04-01-000532', 'quotation': \"7pm is when most hospitals change shifts. That's why. We love you heroes.\", 'speaker': 'Amy Schumer'}\n"
     ]
    },
    {
     "data": {
      "text/plain": [
       "array([[ 0.01433591,  0.02702463,  0.04557954,  0.07573312, -0.02040301,\n",
       "         0.09890234,  0.07345733,  0.0720223 ,  0.02289211,  0.05893324]],\n",
       "      dtype=float32)"
      ]
     },
     "execution_count": 8,
     "metadata": {},
     "output_type": "execute_result"
    }
   ],
   "source": [
    "#test de comparaison semantique de quelques une de nos citations avec une des phrases types du paper\n",
    "#j'ai fait comme dans un exemple de BERT que j'ai trouvé sur internet. j'ai pris le pretrained model all-MiniLM-L6-v2\n",
    "\n",
    "\n",
    "#note: normalement pas besoin d'avoir le model sur l'ordi, il suffit de mettre le nom 'all-MiniLM-L6-v2' et SentenceTransformer va le chercher tout seul sur internet, mais là il y a un bug genre ajd, \n",
    "#donc j'ai téléchargé le model sur mon ordi et mis le path\n",
    "from sentence_transformers import SentenceTransformer\n",
    "model = SentenceTransformer(r'C:\\Users\\flore\\Desktop\\EPFL\\MA1\\ada\\PROJET\\pretrained_model') #with model all-MiniLM-L6-v2' # or use 'bert-base-nli-mean-tokens'\n",
    "\n",
    "\n",
    "#Extract a small part of the whole file to test \n",
    "path = r'C:\\Users\\flore\\Desktop\\EPFL\\MA1\\ada\\PROJET\\quotes-2020-precessed.json.bz2' #path de mon ordi\n",
    "test = pd.DataFrame(columns=('qids','quotation'))\n",
    "i = 0\n",
    "with bz2.open(path, 'rb') as s_file:\n",
    "  for instance in s_file:\n",
    "    instance = json.loads(instance) \n",
    "    print(instance)\n",
    "    #print(instance['quotation'])\n",
    "    i = i + 1\n",
    "    test = test.append({'quoteID': instance['quoteID'], 'quotation': instance['quotation']}, ignore_index=True)\n",
    "    #print(i)\n",
    "    if i == 10:\n",
    "      break\n",
    "\n",
    "#embedding des 10 citations\n",
    "sentence_embeddings = model.encode(test['quotation'])\n",
    "\n",
    "#comparaison avec une des phrase du paper: cosine similarity\n",
    "from sklearn.metrics.pairwise import cosine_similarity\n",
    "to_compare = [\"I'm sure it's\"]\n",
    "to_compare_embedding = model.encode(to_compare)\n",
    "\n",
    "cosine_similarity(\n",
    "    [to_compare_embedding[0]],\n",
    "    sentence_embeddings[0:]\n",
    ")\n",
    "\n",
    "#l'output ets un array des coefficients de similarité (là ils osnt tous ba vu qu'aucune citation n'a un truc prche de I'm sure it's)"
   ]
  },
  {
   "cell_type": "code",
   "execution_count": 22,
   "metadata": {},
   "outputs": [
    {
     "data": {
      "text/plain": [
       "array([[0.7573065 , 0.02370122, 0.0167593 , 0.07905838, 0.12434015,\n",
       "        0.13122094, 0.01477368, 0.07131456, 0.1100079 , 0.1029016 ]],\n",
       "      dtype=float32)"
      ]
     },
     "execution_count": 22,
     "metadata": {},
     "output_type": "execute_result"
    }
   ],
   "source": [
    "#autre test avec le début de citation pour voir si il donne bien un score plus élevé pour cette citation\n",
    "to_compare_2 = [\"Department of Homeland Security was livid and\"]\n",
    "to_compare_2_embedding = model.encode(to_compare_2)\n",
    "\n",
    "cosine_similarity(\n",
    "    [to_compare_2_embedding[0]],\n",
    "    sentence_embeddings[0:]\n",
    ")\n",
    "#le premier est bien plus élevé"
   ]
  }
 ],
 "metadata": {
  "colab": {
   "collapsed_sections": [],
   "name": "Project_2_.ipynb",
   "provenance": []
  },
  "kernelspec": {
   "display_name": "Python 3",
   "language": "python",
   "name": "python3"
  },
  "language_info": {
   "codemirror_mode": {
    "name": "ipython",
    "version": 3
   },
   "file_extension": ".py",
   "mimetype": "text/x-python",
   "name": "python",
   "nbconvert_exporter": "python",
   "pygments_lexer": "ipython3",
   "version": "3.8.8"
  }
 },
 "nbformat": 4,
 "nbformat_minor": 4
}
