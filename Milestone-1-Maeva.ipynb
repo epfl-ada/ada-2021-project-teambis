{
 "cells": [
  {
   "cell_type": "markdown",
   "id": "1dc7c89b-2768-4ca5-b25e-5de1e6372ec9",
   "metadata": {},
   "source": [
    "# Milestone - Maeva\n",
    "\n",
    "## **Idea 1:** ##\n",
    "Considering that humans are biologically influenced by seasons due to the sunlight exposure variation during a year, it could be interesting to evaluate if there are notable rhetoric changes with respect to the year period. One might postulate that during summer/sunny period, citations tend to be more positive/motivating/inspiring while in winter they might express neutral/aggressive/depressive tones. If there are fluctuations, a second factor to investigate would be the possible difference between males and females. Indeed, as a result of their biological difference, significant variation on their behavior/rhetoric could also be observed.\n",
    "In order to perform this analysis, we assume that the time of publishing and the period when the speech was said are contained in the same season. However, supplementary data sets are required: a data set containing the country where the speaker is living most of the time and a data set with the sunlight exposure with respect of localization and the period of the year.\n",
    "The tone analysis can be performed using a lexical-based algorithm relying on NLP and a provided dictionary.\n",
    "\n",
    "\n",
    "## **Idea 2:** ## \n",
    "We tend to believe that literature is the safest source of information since the discovery of writing. But during several years, oral transmission was the tradition way to transmit history. An interesting experiment with this data would be to analyze them in order to extract dates, periods and contexts in every citation, merge them and generate a timeline. Once done, we could be able to evaluate if oral information is coherent with is known from the writings. This could be done by performing a pre-trained word model (e.g. Spacy). \n",
    "\n",
    "\n",
    "## **Idea 3:** ##\n",
    "Humans share similar and different opinions on several subjects, and it is sometimes hard for the listeners to fully understand a speech due to a lack of knowledge on one speaker’s personality traits or personal values. \n",
    "It is common to compare what is unknown with something more familiar in order to generate an opinion. \n",
    "What could be interesting with this data would be to evaluate speakers’ personal traits tendency with respect to different factors (e.g.  Schwartz’s Basic Values: universalism, self-direction, hedonism…) through their citations. Finally, we could synthetize them in a polygonal graph or we could express those personality traits in terms of comparisons with other speakers’ characteristics that the reader would be more familiar with. For example, if a listener is interested in knowing more about Bill Clinton but has great notions of ASAP Rocky and 50 cent’s personal traits, then the algorithm could return the percentage of similarity between them with respect of the different factors. \n",
    "This analysis could be done using NLP and deep learning.\n",
    "\n",
    "## Feedback: ##  \n",
    "\n",
    "### Idea #1\n",
    "\n",
    "Original and interesting idea, it is clear and well-explained.\n",
    "### Idea #2\n",
    "\n",
    "How would you evaluate if oral information is coherent with what is written? It is not clear the approach you would use to estimate this coherence.\n",
    "\n",
    "### Idea #3\n",
    "\n",
    "Interesting idea, but not sure about its feasibility. We appreciate the effort in creating such an original idea. "
   ]
  },
  {
   "cell_type": "code",
   "execution_count": null,
   "id": "68f43f1b-c8ca-427b-bc3e-0cc3904a4e06",
   "metadata": {},
   "outputs": [],
   "source": []
  }
 ],
 "metadata": {
  "kernelspec": {
   "display_name": "Python 3",
   "language": "python",
   "name": "python3"
  },
  "language_info": {
   "name": ""
  }
 },
 "nbformat": 4,
 "nbformat_minor": 5
}
