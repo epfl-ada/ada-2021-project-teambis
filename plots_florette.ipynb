{
  "cells": [
    {
      "cell_type": "markdown",
      "metadata": {
        "id": "oA_fe4oxWT6p"
      },
      "source": [
        "# Applied data analysis\n",
        "## Self-confidence through quotations:\n",
        "\n"
      ]
    },
    {
      "cell_type": "markdown",
      "source": [
        "# Set the environment properly "
      ],
      "metadata": {
        "id": "YK_J_Eag8RRI"
      }
    },
    {
      "cell_type": "markdown",
      "metadata": {
        "id": "dnXvjWR9NWvZ"
      },
      "source": [
        "### Mount the Google Drive in order to access to the files which are located on our drive\n"
      ]
    },
    {
      "cell_type": "code",
      "execution_count": null,
      "metadata": {
        "colab": {
          "base_uri": "https://localhost:8080/"
        },
        "id": "CEcIlRwfWY4C",
        "outputId": "097f7097-db79-4210-8816-ad5764be6b0d"
      },
      "outputs": [
        {
          "output_type": "stream",
          "name": "stdout",
          "text": [
            "Mounted at /content/drive\n"
          ]
        }
      ],
      "source": [
        "from google.colab import drive\n",
        "drive._mount('/content/drive')"
      ]
    },
    {
      "cell_type": "markdown",
      "metadata": {
        "id": "5E6s11nPpS1S"
      },
      "source": [
        "### Install and import every packages that will be necessary for the analysis"
      ]
    },
    {
      "cell_type": "code",
      "execution_count": null,
      "metadata": {
        "colab": {
          "base_uri": "https://localhost:8080/"
        },
        "id": "WDFHjZ-DpMXi",
        "outputId": "8a30d9f2-f889-4d3b-bddb-fd4f3ca288ed"
      },
      "outputs": [
        {
          "output_type": "stream",
          "name": "stdout",
          "text": [
            "Collecting pickle-mixin\n",
            "  Downloading pickle-mixin-1.0.2.tar.gz (5.1 kB)\n",
            "Building wheels for collected packages: pickle-mixin\n",
            "  Building wheel for pickle-mixin (setup.py) ... \u001b[?25l\u001b[?25hdone\n",
            "  Created wheel for pickle-mixin: filename=pickle_mixin-1.0.2-py3-none-any.whl size=6008 sha256=c92ace553ff505564d5f0662c9653cbf55d265761a2faaea3f09baf8400be8d7\n",
            "  Stored in directory: /root/.cache/pip/wheels/d0/70/0b/673e09a7ed429660d22352a1b117b4f616a8fc054bdd7eb157\n",
            "Successfully built pickle-mixin\n",
            "Installing collected packages: pickle-mixin\n",
            "Successfully installed pickle-mixin-1.0.2\n",
            "Requirement already satisfied: pyarrow in /usr/local/lib/python3.7/dist-packages (3.0.0)\n",
            "Requirement already satisfied: numpy>=1.16.6 in /usr/local/lib/python3.7/dist-packages (from pyarrow) (1.19.5)\n",
            "Requirement already satisfied: pathlib in /usr/local/lib/python3.7/dist-packages (1.0.1)\n",
            "Collecting contractions\n",
            "  Downloading contractions-0.0.58-py2.py3-none-any.whl (8.0 kB)\n",
            "Collecting textsearch>=0.0.21\n",
            "  Downloading textsearch-0.0.21-py2.py3-none-any.whl (7.5 kB)\n",
            "Collecting anyascii\n",
            "  Downloading anyascii-0.3.0-py3-none-any.whl (284 kB)\n",
            "\u001b[K     |████████████████████████████████| 284 kB 15.5 MB/s \n",
            "\u001b[?25hCollecting pyahocorasick\n",
            "  Downloading pyahocorasick-1.4.2.tar.gz (321 kB)\n",
            "\u001b[K     |████████████████████████████████| 321 kB 51.8 MB/s \n",
            "\u001b[?25hBuilding wheels for collected packages: pyahocorasick\n",
            "  Building wheel for pyahocorasick (setup.py) ... \u001b[?25l\u001b[?25hdone\n",
            "  Created wheel for pyahocorasick: filename=pyahocorasick-1.4.2-cp37-cp37m-linux_x86_64.whl size=85451 sha256=3d449b719f0a09a37f3bd7151d217840be4b3d109dd88c93e924c061b1dac5d2\n",
            "  Stored in directory: /root/.cache/pip/wheels/25/19/a6/8f363d9939162782bb8439d886469756271abc01f76fbd790f\n",
            "Successfully built pyahocorasick\n",
            "Installing collected packages: pyahocorasick, anyascii, textsearch, contractions\n",
            "Successfully installed anyascii-0.3.0 contractions-0.0.58 pyahocorasick-1.4.2 textsearch-0.0.21\n"
          ]
        }
      ],
      "source": [
        "!pip install pickle-mixin\n",
        "!pip install pyarrow\n",
        "!pip install pathlib\n",
        "!pip install contractions\n",
        "\n",
        "\n",
        "import pyarrow\n",
        "import pandas as pd\n",
        "import numpy as np\n",
        "import pathlib\n",
        "from datetime import datetime\n",
        "import sys\n",
        "import bz2\n",
        "import json\n",
        "import pickle\n",
        "import seaborn as sns\n",
        "import matplotlib.pyplot as plt"
      ]
    },
    {
      "cell_type": "markdown",
      "metadata": {
        "id": "jImkrItnY9wA"
      },
      "source": [
        "# Preprocessing of the data\n",
        "\n"
      ]
    },
    {
      "cell_type": "code",
      "execution_count": null,
      "metadata": {
        "id": "XsgGgvy_Qte3"
      },
      "outputs": [],
      "source": [
        "# The following function allows to only keep the attributes when a single value is given. \n",
        "#The function replaces array of size 1 by its first element\n",
        "#Indeed, some attributes are associated with an array of value, to make sure that the value we will use is the correct one, \n",
        "#we simple get rid of multiple valued element by replacing them with a 'Nan' value.\n",
        "\n",
        "def rem_mult(array):\n",
        "  if isinstance(array, np.ndarray):\n",
        "    if array.size == 1 :\n",
        "      array = array[0]\n",
        "    else :\n",
        "      array = np.nan\n",
        "  return array\n"
      ]
    },
    {
      "cell_type": "markdown",
      "metadata": {
        "id": "cKUy29h68N0J"
      },
      "source": [
        "#### Extracting the relevant data from the original files and saving them in a new file\n"
      ]
    },
    {
      "cell_type": "code",
      "execution_count": null,
      "metadata": {
        "id": "t7BjB7AW9qst"
      },
      "outputs": [],
      "source": [
        "path_to_file = '/content/drive/MyDrive/ADAprojet2021/Quotebank/quotes-2020.json.bz2' \n",
        "path_to_out = '/content/drive/MyDrive/ADAprojet2021/quotes-2020-clean.json.bz2'\n",
        "\n",
        "\n",
        "quotes_size =[]\n",
        "with bz2.open(path_to_out, 'wb') as d_file:\n",
        "    with bz2.open(path_to_file, 'rb') as s_file:\n",
        "        for instance in s_file:\n",
        "            instance = json.loads(instance) # loading a sample as a dictionary\n",
        "            if (instance['speaker'] != 'None' and len(instance['qids']) == 1):\n",
        "              #Get rid of the quotes associated with no speaker as well as \n",
        "              # quotes associated with multiple qids\n",
        "                instance_out = {}\n",
        "                instance_out['speaker'] = instance['speaker']\n",
        "                instance_out['qids'] = instance['qids']\n",
        "                #remove [ and ] \n",
        "                instance_out['quotation'] = instance['quotation'].replace(\"[ \", \"\").replace(\" ]\", \"\")      \n",
        "                size = len(instance_out['quotation'].split())\n",
        "                quotes_size.append(size)\n",
        "                #Add the size of the quote in our new file\n",
        "                instance_out['size'] = size \n",
        "                d_file.write((json.dumps(instance_out)+'\\n').encode('utf-8')) # writing in the new file\n",
        "            "
      ]
    },
    {
      "cell_type": "markdown",
      "metadata": {
        "id": "6kpooZQ3s3od"
      },
      "source": [
        "## First step: pre-process the quotation\n",
        "\n",
        "  Indeed, since the whole analysis for this project is based on the quotations so it is important to keep only the quotations with comparable size\n"
      ]
    },
    {
      "cell_type": "code",
      "execution_count": null,
      "metadata": {
        "id": "aHMv0FD0Eh_W",
        "colab": {
          "base_uri": "https://localhost:8080/",
          "height": 585
        },
        "outputId": "1903d710-5b0a-4869-f3cb-ea4c7257a2f1"
      },
      "outputs": [
        {
          "output_type": "display_data",
          "data": {
            "image/png": "[encoded data removed]",
            "text/plain": [
              "<Figure size 921.6x576 with 1 Axes>"
            ]
          },
          "metadata": {
            "needs_background": "light"
          }
        }
      ],
      "source": [
        "#See the distribution of the quotation length:\n",
        "sns.displot(data= quotes_size, kde = True, height=8, aspect=1.6) \n",
        "sns.set_style('white')\n",
        "plt.xlabel('Number of word in the quote')\n",
        "plt.title(\"Distribution of the number of word in the different quote\", x = 0.5, y = 1, fontsize = 15)\n",
        "plt.tight_layout()\n",
        "plt.savefig('/content/drive/MyDrive/ADAprojet2021/dist_quotes.png', bbox_inches='tight')\n",
        "plt.show()"
      ]
    },
    {
      "cell_type": "markdown",
      "metadata": {
        "id": "0vOPobprkF2h"
      },
      "source": [
        "According to the distribution, the majority of the quotes are at most 100-words-long. In order to make sure that we analyse complete sentences, we are only going to keep sentences in a range 5 to 100 words long.\n"
      ]
    },
    {
      "cell_type": "code",
      "execution_count": null,
      "metadata": {
        "id": "-DzdyDHiwL9j"
      },
      "outputs": [],
      "source": [
        "#According to the distribution of the number of word in the quotes, we can select only the quotes containg between 5 and 100 words to make sure that we analyse at least one complete sentence.\n",
        "\n",
        "path_to_file = '/content/drive/MyDrive/ADAprojet2021/quotes-2020-clean.json.bz2'\n",
        "path_to_out= '/content/drive/MyDrive/ADAprojet2021/quotes-2020-processed.json.bz2'\n",
        "quotes_size1 =[]\n",
        "\n",
        "with bz2.open(path_to_out, 'wb') as d_file:\n",
        "    with bz2.open(path_to_file, 'rb') as s_file:\n",
        "        for instance in s_file:\n",
        "            instance = json.loads(instance) \n",
        "\n",
        "            if (5<= instance['size'] <= 100):\n",
        "              #We only copy the line associated with the quotation size between 5 and 100:\n",
        "                instance_out = instance\n",
        "\n",
        "                size = len(instance_out['quotation'].split())\n",
        "                quotes_size1.append(size)\n",
        "                d_file.write((json.dumps(instance_out)+'\\n').encode('utf-8'))\n",
        "\n"
      ]
    },
    {
      "cell_type": "code",
      "execution_count": null,
      "metadata": {
        "id": "FnzapNhNP6N_",
        "colab": {
          "base_uri": "https://localhost:8080/",
          "height": 585
        },
        "outputId": "9a9e0f80-61f4-4555-bbe2-29a70150dd87"
      },
      "outputs": [
        {
          "output_type": "display_data",
          "data": {
            "image/png": "[encoded data removed]",
            "text/plain": [
              "<Figure size 921.6x576 with 1 Axes>"
            ]
          },
          "metadata": {}
        }
      ],
      "source": [
        "sns.displot(data= quotes_size1, kde = True, height=8, aspect=1.6) \n",
        "sns.set_style('white')\n",
        "plt.xlabel('Number of word in the quote')\n",
        "plt.title(\"Distribution of the number of word in the different quote\", x = 0.5, y = 1, fontsize = 15)\n",
        "plt.tight_layout()\n",
        "plt.savefig('/content/drive/MyDrive/ADAprojet2021/dist_quotes_processed.png', bbox_inches='tight')\n",
        "plt.show()"
      ]
    },
    {
      "cell_type": "markdown",
      "metadata": {
        "id": "GmVrSNIMqNFd"
      },
      "source": [
        "## Second step : Pre-process the speakers attributes"
      ]
    },
    {
      "cell_type": "markdown",
      "metadata": {
        "id": "q3FnKKxRpiOw"
      },
      "source": [
        "During this analysis we are going to use some attributes of the speakers such as their gender, their qids ,their nationality and their US congress bio ID, if there is one.\n",
        "\n",
        "These extracted attributes will be save in a new file.\n",
        "\n",
        "The qIDs are kept so they will allow us to navigate between the quote file and the speaker file."
      ]
    },
    {
      "cell_type": "code",
      "execution_count": null,
      "metadata": {
        "id": "qGmQ7vkHvZdB"
      },
      "outputs": [],
      "source": [
        "#This function converts date of birth into datetime format, and replaces \n",
        "#by np.nan if speaker was born before 1900\n",
        "# According to the fact that we are performing a linguistic study, it is essential to make sure that the english spoken is fairily the same. \n",
        "#To do so, we decided to select the speakers of interest regarding the date of birth. \n",
        "#Such processing makes sure that the speakers are contemporary and may speak similarily.\n",
        "\n",
        "def dateofbirth(date):\n",
        "  #Remove speakers who are born before JC\n",
        "    if date[0] == '-' or date[1:5] == '0000': \n",
        "        date = np.nan\n",
        "    else:\n",
        "      #Notice here that we are only focusing on the year, this line will set the every birth days and months to first of january\n",
        "        date = datetime.strptime(date[1:5], '%Y')\n",
        "        if (date.year < 1900):\n",
        "            date = np.nan\n",
        "    return date\n",
        "\n",
        "#This function removes QIDS found in the sorted data that are irrelevant for the analysis\n",
        "def gender(id):\n",
        "    #remove erkek (which is a last name), homosexuality \n",
        "    if id == 'Q106299064' or id == 'Q6636':\n",
        "        return np.nan\n",
        "    #replace male organism, cis male by male\n",
        "    if id == 'Q44148' or id == 'Q15145778':\n",
        "        return 'Q6581097'\n",
        "    #same for female\n",
        "    if id== 'Q43445' or id == 'Q15145779':\n",
        "        return 'Q6581072'\n",
        "    else :\n",
        "        return id\n",
        "\n",
        "#function returns true if us citizen\n",
        "def us_to_bool(nat):\n",
        "    if isinstance(nat, np.ndarray):\n",
        "        return np.isin('Q30', nat)\n",
        "    else : return False\n",
        "\n",
        "#function returns true if in congress\n",
        "def congress(id):\n",
        "    if isinstance(id, str): return True\n",
        "    else : return False\n"
      ]
    },
    {
      "cell_type": "code",
      "execution_count": null,
      "metadata": {
        "id": "33bcd47KqGK0",
        "colab": {
          "base_uri": "https://localhost:8080/",
          "height": 562
        },
        "outputId": "3eda88d6-69c0-4c4f-9de9-8508a26dc0d0"
      },
      "outputs": [
        {
          "output_type": "display_data",
          "data": {
            "text/html": [
              "<div>\n",
              "<style scoped>\n",
              "    .dataframe tbody tr th:only-of-type {\n",
              "        vertical-align: middle;\n",
              "    }\n",
              "\n",
              "    .dataframe tbody tr th {\n",
              "        vertical-align: top;\n",
              "    }\n",
              "\n",
              "    .dataframe thead th {\n",
              "        text-align: right;\n",
              "    }\n",
              "</style>\n",
              "<table border=\"1\" class=\"dataframe\">\n",
              "  <thead>\n",
              "    <tr style=\"text-align: right;\">\n",
              "      <th></th>\n",
              "      <th>id</th>\n",
              "      <th>label</th>\n",
              "      <th>gender</th>\n",
              "      <th>date_of_birth</th>\n",
              "      <th>nationality</th>\n",
              "      <th>US_congress_bio_ID</th>\n",
              "    </tr>\n",
              "  </thead>\n",
              "  <tbody>\n",
              "    <tr>\n",
              "      <th>2</th>\n",
              "      <td>Q18933</td>\n",
              "      <td>Rhoda Griffis</td>\n",
              "      <td>Q6581072</td>\n",
              "      <td>1965-01-01 00:00:00</td>\n",
              "      <td>True</td>\n",
              "      <td>False</td>\n",
              "    </tr>\n",
              "    <tr>\n",
              "      <th>3</th>\n",
              "      <td>Q18953</td>\n",
              "      <td>Peter DeLuise</td>\n",
              "      <td>Q6581097</td>\n",
              "      <td>1966-01-01 00:00:00</td>\n",
              "      <td>True</td>\n",
              "      <td>False</td>\n",
              "    </tr>\n",
              "    <tr>\n",
              "      <th>4</th>\n",
              "      <td>Q18971</td>\n",
              "      <td>Arthur P. Jacobs</td>\n",
              "      <td>Q6581097</td>\n",
              "      <td>1922-01-01 00:00:00</td>\n",
              "      <td>True</td>\n",
              "      <td>False</td>\n",
              "    </tr>\n",
              "    <tr>\n",
              "      <th>8</th>\n",
              "      <td>Q19190</td>\n",
              "      <td>Rupert Grint</td>\n",
              "      <td>Q6581097</td>\n",
              "      <td>1988-01-01 00:00:00</td>\n",
              "      <td>False</td>\n",
              "      <td>False</td>\n",
              "    </tr>\n",
              "    <tr>\n",
              "      <th>9</th>\n",
              "      <td>Q19205</td>\n",
              "      <td>Rob Bourdon</td>\n",
              "      <td>Q6581097</td>\n",
              "      <td>1979-01-01 00:00:00</td>\n",
              "      <td>True</td>\n",
              "      <td>False</td>\n",
              "    </tr>\n",
              "    <tr>\n",
              "      <th>...</th>\n",
              "      <td>...</td>\n",
              "      <td>...</td>\n",
              "      <td>...</td>\n",
              "      <td>...</td>\n",
              "      <td>...</td>\n",
              "      <td>...</td>\n",
              "    </tr>\n",
              "    <tr>\n",
              "      <th>9055974</th>\n",
              "      <td>Q210228</td>\n",
              "      <td>Kozo Yuki</td>\n",
              "      <td>Q6581097</td>\n",
              "      <td>1979-01-01 00:00:00</td>\n",
              "      <td>False</td>\n",
              "      <td>False</td>\n",
              "    </tr>\n",
              "    <tr>\n",
              "      <th>9055975</th>\n",
              "      <td>Q210231</td>\n",
              "      <td>Hayato Sasaki</td>\n",
              "      <td>Q6581097</td>\n",
              "      <td>1982-01-01 00:00:00</td>\n",
              "      <td>False</td>\n",
              "      <td>False</td>\n",
              "    </tr>\n",
              "    <tr>\n",
              "      <th>9055976</th>\n",
              "      <td>Q210284</td>\n",
              "      <td>Marinaldo Cícero da Silva</td>\n",
              "      <td>Q6581097</td>\n",
              "      <td>1986-01-01 00:00:00</td>\n",
              "      <td>False</td>\n",
              "      <td>False</td>\n",
              "    </tr>\n",
              "    <tr>\n",
              "      <th>9055978</th>\n",
              "      <td>Q210462</td>\n",
              "      <td>Christina Hendricks</td>\n",
              "      <td>Q6581072</td>\n",
              "      <td>1975-01-01 00:00:00</td>\n",
              "      <td>True</td>\n",
              "      <td>False</td>\n",
              "    </tr>\n",
              "    <tr>\n",
              "      <th>9055980</th>\n",
              "      <td>Q210547</td>\n",
              "      <td>Aubrey Plaza</td>\n",
              "      <td>Q6581072</td>\n",
              "      <td>1984-01-01 00:00:00</td>\n",
              "      <td>True</td>\n",
              "      <td>False</td>\n",
              "    </tr>\n",
              "  </tbody>\n",
              "</table>\n",
              "<p>3223289 rows × 6 columns</p>\n",
              "</div>"
            ],
            "text/plain": [
              "              id                      label  ... nationality US_congress_bio_ID\n",
              "2         Q18933              Rhoda Griffis  ...        True              False\n",
              "3         Q18953              Peter DeLuise  ...        True              False\n",
              "4         Q18971           Arthur P. Jacobs  ...        True              False\n",
              "8         Q19190               Rupert Grint  ...       False              False\n",
              "9         Q19205                Rob Bourdon  ...        True              False\n",
              "...          ...                        ...  ...         ...                ...\n",
              "9055974  Q210228                  Kozo Yuki  ...       False              False\n",
              "9055975  Q210231              Hayato Sasaki  ...       False              False\n",
              "9055976  Q210284  Marinaldo Cícero da Silva  ...       False              False\n",
              "9055978  Q210462        Christina Hendricks  ...        True              False\n",
              "9055980  Q210547               Aubrey Plaza  ...        True              False\n",
              "\n",
              "[3223289 rows x 6 columns]"
            ]
          },
          "metadata": {}
        },
        {
          "output_type": "stream",
          "name": "stdout",
          "text": [
            "Index                  25786312\n",
            "id                    211539869\n",
            "label                 238764324\n",
            "gender                  3225420\n",
            "date_of_birth         180504184\n",
            "nationality             3223289\n",
            "US_congress_bio_ID      3223289\n",
            "dtype: int64\n"
          ]
        }
      ],
      "source": [
        "\n",
        "#files = pathlib.Path('./parquet').glob('part-*-0d587965-3d8f-41ce-9771-5b8c9024dce9-c000.snappy.parquet')\n",
        "files = pathlib.Path(\"/content/drive/MyDrive/ADAprojet2021/Project datasets/speaker_attributes.parquet/\").glob(\"part-*-0d587965-3d8f-41ce-9771-5b8c9024dce9-c000.snappy.parquet\")\n",
        "df = pd.DataFrame()\n",
        "columns = ['id', 'label', 'gender','date_of_birth', 'nationality', 'US_congress_bio_ID']\n",
        "for path in files:\n",
        "    df = pd.concat([df, pd.read_parquet(path, columns = columns)], join='outer', ignore_index=True)\n",
        "    df = df.drop_duplicates(subset='id', keep = False)\n",
        "\n",
        "df.gender = df.gender.apply(lambda x: rem_mult(x))\n",
        "df.gender = df.gender.apply(lambda x: gender(x))\n",
        "\n",
        "df.date_of_birth = df.date_of_birth.apply(lambda x: rem_mult(x))\n",
        "\n",
        "df = df.dropna(subset = ['id', 'gender','date_of_birth'])\n",
        "df = df.astype({'gender': 'category'})\n",
        "\n",
        "df.date_of_birth = df.date_of_birth.apply(lambda x: dateofbirth(x))\n",
        "df = df.dropna(subset = ['date_of_birth'])\n",
        "\n",
        "df.nationality = df.nationality.apply(lambda x: us_to_bool(x))\n",
        "df.US_congress_bio_ID = df.US_congress_bio_ID.apply(lambda x: congress(x))\n",
        "\n",
        "\n",
        "display(df)\n",
        "print(df.memory_usage(deep=True))\n",
        "genders = df.gender.unique()\n",
        "\n",
        "\n",
        "path_to_out = '/content/drive/MyDrive/ADAprojet2021/speaker_attributes_processed.json.bz2'\n",
        "df.to_json(path_to_out, orient = 'records', compression = 'bz2') "
      ]
    },
    {
      "cell_type": "markdown",
      "metadata": {
        "id": "qerKaZwczsKt"
      },
      "source": [
        "Since we are doing an observationnal study, it is important to have a great notion of the distribution according to the different features. "
      ]
    },
    {
      "cell_type": "code",
      "execution_count": null,
      "metadata": {
        "id": "FCDzJmXXlh_X",
        "colab": {
          "base_uri": "https://localhost:8080/",
          "height": 595
        },
        "outputId": "8e854722-cf53-435c-b066-956c4e662506"
      },
      "outputs": [
        {
          "output_type": "display_data",
          "data": {
            "image/png": "[encoded data removed]",
            "text/plain": [
              "<Figure size 3600x1440 with 1 Axes>"
            ]
          },
          "metadata": {
            "needs_background": "light"
          }
        }
      ],
      "source": [
        "plt.figure(figsize=(50,20))\n",
        "sns.histplot(df.gender)\n",
        "plt.title(\"Histogram showing the distribution of gender \", fontsize=30)\n",
        "plt.xlabel(\"Gender\", fontsize=25)\n",
        "plt.ylabel(\"Numbers of individuals\", fontsize=25)\n",
        "plt.yscale('log')\n",
        "labels = ['transgender female', 'intersex', 'neutrois', 'genderqueer', 'eunuch', 'genderfluid', 'transgender person', 'shemale',\n",
        "          'transgender male', 'transmasculine', 'two-spirit', 'muxe', 'non-binary', 'third gender', 'agender', 'neutral sex',\n",
        "         'female', 'male', 'pangender', 'khatoey', 'bigender', 'demiboy', 'X-gender']\n",
        "plt.xticks(ticks = np.arange(23), labels = labels, rotation=45, fontsize=20)\n",
        "plt.savefig('/content/drive/MyDrive/ADAprojet2021/hist_gender.png', bbox_inches='tight')\n",
        "plt.show()"
      ]
    },
    {
      "cell_type": "code",
      "execution_count": null,
      "metadata": {
        "id": "QqAnNMuOweoW",
        "colab": {
          "base_uri": "https://localhost:8080/",
          "height": 585
        },
        "outputId": "e4bb5511-34ff-405f-8cb0-8ee550fb644b"
      },
      "outputs": [
        {
          "output_type": "display_data",
          "data": {
            "image/png": "[encoded data removed]",
            "text/plain": [
              "<Figure size 921.6x576 with 1 Axes>"
            ]
          },
          "metadata": {
            "needs_background": "light"
          }
        }
      ],
      "source": [
        "\n",
        "x = []\n",
        "for i in df.date_of_birth:\n",
        "  x.append(i.year)\n",
        "\n",
        "sns.displot(data=x, kde = True, height=8, aspect=1.6) \n",
        "sns.set_style('white')\n",
        "plt.xlabel('Year of birth')\n",
        "plt.xlim(1900,2021)\n",
        "plt.title(\"Distribution of the birth years\", x = 0.5, y = 1, fontsize = 15)\n",
        "plt.tight_layout()\n",
        "plt.savefig('/content/drive/MyDrive/ADAprojet2021/dist_birth.png', bbox_inches='tight')\n",
        "plt.show()"
      ]
    },
    {
      "cell_type": "markdown",
      "metadata": {
        "id": "gbhEbKWw75LC"
      },
      "source": [
        "## Joinining both datasets\n",
        "In this step, we remove quotes by speakers we removed from the speaker dataframe (e.g. because we didn't know the gender), and we count the number of quotes per speaker, so as to remove speakers that don't have quotes assigned. "
      ]
    },
    {
      "cell_type": "code",
      "execution_count": null,
      "metadata": {
        "id": "9ZKM7gk175LC"
      },
      "outputs": [],
      "source": [
        "#create a file merging the quotes with the speaker information, to remove quotes by speakers of which we did not have sufficient info\n",
        "path_to_file = '/content/drive/MyDrive/ADAprojet2021/quotes-2020-processed.json.bz2' \n",
        "path_to_pickle = '/content/picklefile.pkl'\n",
        "\n",
        "#function to turn the qids from the quotebank file from list to string format\n",
        "def list_to_first(qids):\n",
        "  return qids[0]\n",
        "\n",
        "\n",
        "#We set the number of quote to zero for every speakers first\n",
        "df['quote_nbr'] = np.zeros(df.shape[0])\n",
        "\n"
      ]
    },
    {
      "cell_type": "code",
      "source": [
        "#create a file merging the quotes with the speaker information,\n",
        "# to remove quotes by speakers of which we did not have sufficient info\n",
        "\n",
        "#We open the file containing all the quotes separated in large chunks \n",
        "df_reader = pd.read_json(path_to_file, lines=True, compression='bz2', chunksize=100000, orient = 'records')\n",
        "chunk_list = []\n",
        "\n",
        "#at the same time we are going to extract the remaining quote for NLP:\n",
        "for chunk in df_reader:\n",
        "    chunk.qids = chunk.qids.apply(lambda x: list_to_first(x))\n",
        "\n",
        "    #keep only the relevant ids\n",
        "    chunk = chunk[(chunk.qids).isin(df.id.tolist())]\n",
        "    chunk_list.append(chunk)\n",
        "\n",
        "    occurences = chunk.qids.value_counts()\n",
        "    occurences = pd.DataFrame(occurences)\n",
        "    occurences['id'] = occurences.index.to_series()\n",
        "    occurences.columns = ['quote_nbr', 'id']\n",
        "    df = pd.merge(df, occurences, on='id', how='left' )\n",
        "    df['quote_nbr'] = df.pop('quote_nbr_x')+ df.pop('quote_nbr_y')\n",
        "\n",
        "#we only keep quotations as well as the qids of the speaker associated with them\n",
        "quotes = pd.concat(chunk_list)[['qids','quotation']]"
      ],
      "metadata": {
        "id": "9zd7EfJQAi-O"
      },
      "execution_count": null,
      "outputs": []
    },
    {
      "cell_type": "code",
      "source": [
        "#save the final speaker file into a pickle\n",
        "df.to_pickle('/content/drive/MyDrive/ADAprojet2021/speakers_info.pkl', 'bz2')\n"
      ],
      "metadata": {
        "id": "I_jtQbMHLO0k"
      },
      "execution_count": null,
      "outputs": []
    },
    {
      "cell_type": "code",
      "source": [
        "#Make sur that the pickle was properly saved:\n",
        "print(pd.read_pickle('/content/drive/MyDrive/ADAprojet2021/speakers_info.pkl','bz2'))"
      ],
      "metadata": {
        "colab": {
          "base_uri": "https://localhost:8080/"
        },
        "id": "yNlH-eC1LRT4",
        "outputId": "251973fd-69d2-4cea-8020-5686f009f972"
      },
      "execution_count": null,
      "outputs": [
        {
          "output_type": "stream",
          "name": "stdout",
          "text": [
            "              id                      label  ... US_congress_bio_ID quote_nbr\n",
            "0         Q18933              Rhoda Griffis  ...              False       NaN\n",
            "1         Q18953              Peter DeLuise  ...              False       NaN\n",
            "2         Q18971           Arthur P. Jacobs  ...              False       NaN\n",
            "3         Q19190               Rupert Grint  ...              False       NaN\n",
            "4         Q19205                Rob Bourdon  ...              False       NaN\n",
            "...          ...                        ...  ...                ...       ...\n",
            "3223284  Q210228                  Kozo Yuki  ...              False       NaN\n",
            "3223285  Q210231              Hayato Sasaki  ...              False       NaN\n",
            "3223286  Q210284  Marinaldo Cícero da Silva  ...              False       NaN\n",
            "3223287  Q210462        Christina Hendricks  ...              False       NaN\n",
            "3223288  Q210547               Aubrey Plaza  ...              False       NaN\n",
            "\n",
            "[3223289 rows x 7 columns]\n"
          ]
        }
      ]
    },
    {
      "cell_type": "markdown",
      "metadata": {
        "id": "RJZMkIKi4y2y"
      },
      "source": [
        "# Natural language processing:\n",
        "\n",
        "Preprocessing of the citations: Put them in the right format, extract the tense of the citation to properly assign the right score.\n"
      ]
    },
    {
      "cell_type": "code",
      "execution_count": null,
      "metadata": {
        "id": "iEXXUZjT4yN7",
        "colab": {
          "base_uri": "https://localhost:8080/"
        },
        "outputId": "51d748d0-3481-4193-9d16-9c7a897bcf52"
      },
      "outputs": [
        {
          "output_type": "stream",
          "name": "stdout",
          "text": [
            "[nltk_data] Downloading package punkt to /root/nltk_data...\n",
            "[nltk_data]   Unzipping tokenizers/punkt.zip.\n",
            "[nltk_data] Downloading package averaged_perceptron_tagger to\n",
            "[nltk_data]     /root/nltk_data...\n",
            "[nltk_data]   Unzipping taggers/averaged_perceptron_tagger.zip.\n"
          ]
        }
      ],
      "source": [
        "#NLP libraries\n",
        "import spacy, nltk, gensim, sklearn\n",
        "from nltk import pos_tag, word_tokenize\n",
        "nltk.download('punkt')\n",
        "nltk.download('averaged_perceptron_tagger')\n",
        "\n",
        "# je sais pas si ca va etre utile mais je le laisse pour le moment\n",
        "nlp = spacy.load('en_core_web_sm')\n"
      ]
    },
    {
      "cell_type": "markdown",
      "metadata": {
        "id": "go9y1BgxJkwU"
      },
      "source": [
        "Expression that we want to target in the citations and their associated score:"
      ]
    },
    {
      "cell_type": "markdown",
      "source": [
        "# Processing of the expressions of confidence for comparison\n"
      ],
      "metadata": {
        "id": "JSG4q19JNrJQ"
      }
    },
    {
      "cell_type": "code",
      "execution_count": null,
      "metadata": {
        "id": "UOKsSId6Jj4x"
      },
      "outputs": [],
      "source": [
        "#sentences and associated scores to be used as starting point (taken from the Wesson & Pulford paper)\n",
        "sentences = pd.DataFrame(columns = ['sentence', 'score_present','score_past'])\n",
        "\n",
        "\n",
        "#We also removed phrases that were in two parts (I think ... isn't it, I think ... but I can't be sure)\n",
        "sentences.sentence = [\"I'm absolutely certain\", \"I'm positive\", \"I'm certain\", \"I know for a fact\", \"I know\", \"I'm confident\", \"I have no doubt\", \"I'm sure\", \"I have no doubt, I mean I'm sure\", \"I'm fairly confident\", \"I remember\", \"I believe\", \"I would say\", \"I suspect\", \"I could be mistaken but I'm sure\", \"I think\", \"I'm not completely confident, but I think\", \"I can't say for sure, but\", \"I think ... but I can't be sure\", \"I'm not certain but\",\"I'm not sure but\",\"... I think\", \"I guess\", \"I could be wrong, but I think\", \"I think, I think\", \"I think ... isn't it\", \"I'm guessing, but I would say\", \"I suppose\", \"Oh, I don't know, I suppose\", \"I'm not sure, it's kind of ...\"]\n",
        "\n",
        "\n"
      ]
    },
    {
      "cell_type": "markdown",
      "source": [
        "Process the citation to have them in a convenient format:\n"
      ],
      "metadata": {
        "id": "JkF0kT-CXhU5"
      }
    },
    {
      "cell_type": "code",
      "source": [
        "#score in the article follow uk grading system (0-7, 7 being the best). \n",
        "sentences.score_present = [6.61, 6.57, 6.55, 6.5, 6.45, 6.43, 6.3, 6.02, 5.95, 5.32, 5.18, 4.86, 4.7, 4.68, 4.68, 4.66, 4.2, 4.16, 4.16, 4.14, 3.84, 3.75, 3.75, 3.68, 3.61, 3.48, 3.39, 3.34, 3.02, 2.91]\n",
        "sentences.score_past = [6.33, 5.96, 5.90, 6.25, 6.08, 6.06, 5.88, 5.52, 5.40, 5.25, 5.25, 4.56, 4.29, 4.25, 4.17, 4.06, 4.12, 3.81, 3.48, 3.65, 3.44, 3.40, 3.56, 3.67, 3.19, 3.08, 2.92, 3.13, 2.94, 2.88]\n",
        "\n",
        "#We change this to a 0-1 scale, as it is more intuitive. \n",
        "sentences.score_present = sentences['score_present'].apply(lambda x: x/7)\n",
        "sentences.score_past = sentences['score_past'].apply(lambda x: x/7)\n",
        "\n",
        "\n"
      ],
      "metadata": {
        "id": "Dy57mzK0Xa6a"
      },
      "execution_count": null,
      "outputs": []
    },
    {
      "cell_type": "markdown",
      "source": [
        "Due to the fact that some expressions are separated into two parts we decided to throw them out of the sentenced used for the comparison. We decided to also get rid of the expression that will probably won't appear in the quotes\n"
      ],
      "metadata": {
        "id": "2ih3GHUynD3L"
      }
    },
    {
      "cell_type": "code",
      "source": [
        "sentences = sentences[sentences.sentence != \"I think ... isn't it\"]\n",
        "sentences = sentences[sentences.sentence != \"I think ... but I can't be sure\"]\n",
        "sentences = sentences[sentences.sentence != \"... I think\"]\n",
        "sentences = sentences[sentences.sentence != \"I think, I think\"]\n",
        "sentences = sentences[sentences.sentence != \"I'm not sure, it's kind of ...\" ]\n"
      ],
      "metadata": {
        "id": "sCFb8D2unR6I"
      },
      "execution_count": null,
      "outputs": []
    },
    {
      "cell_type": "markdown",
      "source": [
        "To make sure that the expression will be recognized, we explicit the verb that are truncated e.g \"I'm\" and \"I am\""
      ],
      "metadata": {
        "id": "gfcRTOLVpFr5"
      }
    },
    {
      "cell_type": "code",
      "source": [
        "import contractions\n",
        "\n",
        "#this function allows to expand rhe contracted verb, it returns the expanded form as well as the score associated with it. \n",
        "#since the expanded form has the exat meaning, we kept the same score\n",
        "\n",
        "def expanded_form(exp):\n",
        "\n",
        "  expanded_words = []\n",
        "  for word in exp.split():\n",
        "    expanded_words.append(contractions.fix(word))\n",
        "  expanded_text = ' '.join(expanded_words)\n",
        "\n",
        "  return({'sentence': contractions.fix(expanded_text), 'score_present': sentences[sentences.sentence == exp].score_present.item(), 'score_past':sentences[sentences.sentence == exp].score_past.item()})\n",
        "\n"
      ],
      "metadata": {
        "id": "ls3S0njqpFR-"
      },
      "execution_count": null,
      "outputs": []
    },
    {
      "cell_type": "code",
      "source": [
        "#Now we add those expanded form of expression in the original set on sentences \n",
        "for expanded in sentences['sentence'].apply(lambda x: expanded_form(x)):\n",
        "  sentences = sentences.append(expanded, ignore_index=True)\n",
        "\n",
        "#since some expressions didn't need to be expanded there are duplicated, s we get rid of those\n",
        "sentences = sentences.drop_duplicates()\n",
        "\n",
        "#to enable proper comparison we need to case fold the expressions to avoid a missing\n",
        "sentences.sentence = sentences['sentence'].apply(lambda x: x.casefold())\n",
        "display(sentences)"
      ],
      "metadata": {
        "colab": {
          "base_uri": "https://localhost:8080/",
          "height": 1000
        },
        "id": "YTXw8lA-NEwJ",
        "outputId": "69c6dcf6-e136-4b90-e000-36a951db3701"
      },
      "execution_count": null,
      "outputs": [
        {
          "output_type": "display_data",
          "data": {
            "text/html": [
              "\n",
              "  <div id=\"df-05600f04-4883-4b3f-9010-ed251cd6502d\">\n",
              "    <div class=\"colab-df-container\">\n",
              "      <div>\n",
              "<style scoped>\n",
              "    .dataframe tbody tr th:only-of-type {\n",
              "        vertical-align: middle;\n",
              "    }\n",
              "\n",
              "    .dataframe tbody tr th {\n",
              "        vertical-align: top;\n",
              "    }\n",
              "\n",
              "    .dataframe thead th {\n",
              "        text-align: right;\n",
              "    }\n",
              "</style>\n",
              "<table border=\"1\" class=\"dataframe\">\n",
              "  <thead>\n",
              "    <tr style=\"text-align: right;\">\n",
              "      <th></th>\n",
              "      <th>sentence</th>\n",
              "      <th>score_present</th>\n",
              "      <th>score_past</th>\n",
              "    </tr>\n",
              "  </thead>\n",
              "  <tbody>\n",
              "    <tr>\n",
              "      <th>0</th>\n",
              "      <td>i'm absolutely certain</td>\n",
              "      <td>0.944286</td>\n",
              "      <td>0.904286</td>\n",
              "    </tr>\n",
              "    <tr>\n",
              "      <th>1</th>\n",
              "      <td>i'm positive</td>\n",
              "      <td>0.938571</td>\n",
              "      <td>0.851429</td>\n",
              "    </tr>\n",
              "    <tr>\n",
              "      <th>2</th>\n",
              "      <td>i'm certain</td>\n",
              "      <td>0.935714</td>\n",
              "      <td>0.842857</td>\n",
              "    </tr>\n",
              "    <tr>\n",
              "      <th>3</th>\n",
              "      <td>i know for a fact</td>\n",
              "      <td>0.928571</td>\n",
              "      <td>0.892857</td>\n",
              "    </tr>\n",
              "    <tr>\n",
              "      <th>4</th>\n",
              "      <td>i know</td>\n",
              "      <td>0.921429</td>\n",
              "      <td>0.868571</td>\n",
              "    </tr>\n",
              "    <tr>\n",
              "      <th>5</th>\n",
              "      <td>i'm confident</td>\n",
              "      <td>0.918571</td>\n",
              "      <td>0.865714</td>\n",
              "    </tr>\n",
              "    <tr>\n",
              "      <th>6</th>\n",
              "      <td>i have no doubt</td>\n",
              "      <td>0.900000</td>\n",
              "      <td>0.840000</td>\n",
              "    </tr>\n",
              "    <tr>\n",
              "      <th>7</th>\n",
              "      <td>i'm sure</td>\n",
              "      <td>0.860000</td>\n",
              "      <td>0.788571</td>\n",
              "    </tr>\n",
              "    <tr>\n",
              "      <th>8</th>\n",
              "      <td>i have no doubt, i mean i'm sure</td>\n",
              "      <td>0.850000</td>\n",
              "      <td>0.771429</td>\n",
              "    </tr>\n",
              "    <tr>\n",
              "      <th>9</th>\n",
              "      <td>i'm fairly confident</td>\n",
              "      <td>0.760000</td>\n",
              "      <td>0.750000</td>\n",
              "    </tr>\n",
              "    <tr>\n",
              "      <th>10</th>\n",
              "      <td>i remember</td>\n",
              "      <td>0.740000</td>\n",
              "      <td>0.750000</td>\n",
              "    </tr>\n",
              "    <tr>\n",
              "      <th>11</th>\n",
              "      <td>i believe</td>\n",
              "      <td>0.694286</td>\n",
              "      <td>0.651429</td>\n",
              "    </tr>\n",
              "    <tr>\n",
              "      <th>12</th>\n",
              "      <td>i would say</td>\n",
              "      <td>0.671429</td>\n",
              "      <td>0.612857</td>\n",
              "    </tr>\n",
              "    <tr>\n",
              "      <th>13</th>\n",
              "      <td>i suspect</td>\n",
              "      <td>0.668571</td>\n",
              "      <td>0.607143</td>\n",
              "    </tr>\n",
              "    <tr>\n",
              "      <th>14</th>\n",
              "      <td>i could be mistaken but i'm sure</td>\n",
              "      <td>0.668571</td>\n",
              "      <td>0.595714</td>\n",
              "    </tr>\n",
              "    <tr>\n",
              "      <th>15</th>\n",
              "      <td>i think</td>\n",
              "      <td>0.665714</td>\n",
              "      <td>0.580000</td>\n",
              "    </tr>\n",
              "    <tr>\n",
              "      <th>16</th>\n",
              "      <td>i'm not completely confident, but i think</td>\n",
              "      <td>0.600000</td>\n",
              "      <td>0.588571</td>\n",
              "    </tr>\n",
              "    <tr>\n",
              "      <th>17</th>\n",
              "      <td>i can't say for sure, but</td>\n",
              "      <td>0.594286</td>\n",
              "      <td>0.544286</td>\n",
              "    </tr>\n",
              "    <tr>\n",
              "      <th>18</th>\n",
              "      <td>i'm not certain but</td>\n",
              "      <td>0.591429</td>\n",
              "      <td>0.521429</td>\n",
              "    </tr>\n",
              "    <tr>\n",
              "      <th>19</th>\n",
              "      <td>i'm not sure but</td>\n",
              "      <td>0.548571</td>\n",
              "      <td>0.491429</td>\n",
              "    </tr>\n",
              "    <tr>\n",
              "      <th>20</th>\n",
              "      <td>i guess</td>\n",
              "      <td>0.535714</td>\n",
              "      <td>0.508571</td>\n",
              "    </tr>\n",
              "    <tr>\n",
              "      <th>21</th>\n",
              "      <td>i could be wrong, but i think</td>\n",
              "      <td>0.525714</td>\n",
              "      <td>0.524286</td>\n",
              "    </tr>\n",
              "    <tr>\n",
              "      <th>22</th>\n",
              "      <td>i'm guessing, but i would say</td>\n",
              "      <td>0.484286</td>\n",
              "      <td>0.417143</td>\n",
              "    </tr>\n",
              "    <tr>\n",
              "      <th>23</th>\n",
              "      <td>i suppose</td>\n",
              "      <td>0.477143</td>\n",
              "      <td>0.447143</td>\n",
              "    </tr>\n",
              "    <tr>\n",
              "      <th>24</th>\n",
              "      <td>oh, i don't know, i suppose</td>\n",
              "      <td>0.431429</td>\n",
              "      <td>0.420000</td>\n",
              "    </tr>\n",
              "    <tr>\n",
              "      <th>25</th>\n",
              "      <td>i am absolutely certain</td>\n",
              "      <td>0.944286</td>\n",
              "      <td>0.904286</td>\n",
              "    </tr>\n",
              "    <tr>\n",
              "      <th>26</th>\n",
              "      <td>i am positive</td>\n",
              "      <td>0.938571</td>\n",
              "      <td>0.851429</td>\n",
              "    </tr>\n",
              "    <tr>\n",
              "      <th>27</th>\n",
              "      <td>i am certain</td>\n",
              "      <td>0.935714</td>\n",
              "      <td>0.842857</td>\n",
              "    </tr>\n",
              "    <tr>\n",
              "      <th>30</th>\n",
              "      <td>i am confident</td>\n",
              "      <td>0.918571</td>\n",
              "      <td>0.865714</td>\n",
              "    </tr>\n",
              "    <tr>\n",
              "      <th>32</th>\n",
              "      <td>i am sure</td>\n",
              "      <td>0.860000</td>\n",
              "      <td>0.788571</td>\n",
              "    </tr>\n",
              "    <tr>\n",
              "      <th>33</th>\n",
              "      <td>i have no doubt, i mean i am sure</td>\n",
              "      <td>0.850000</td>\n",
              "      <td>0.771429</td>\n",
              "    </tr>\n",
              "    <tr>\n",
              "      <th>34</th>\n",
              "      <td>i am fairly confident</td>\n",
              "      <td>0.760000</td>\n",
              "      <td>0.750000</td>\n",
              "    </tr>\n",
              "    <tr>\n",
              "      <th>39</th>\n",
              "      <td>i could be mistaken but i am sure</td>\n",
              "      <td>0.668571</td>\n",
              "      <td>0.595714</td>\n",
              "    </tr>\n",
              "    <tr>\n",
              "      <th>41</th>\n",
              "      <td>i am not completely confident, but i think</td>\n",
              "      <td>0.600000</td>\n",
              "      <td>0.588571</td>\n",
              "    </tr>\n",
              "    <tr>\n",
              "      <th>42</th>\n",
              "      <td>i cannot say for sure, but</td>\n",
              "      <td>0.594286</td>\n",
              "      <td>0.544286</td>\n",
              "    </tr>\n",
              "    <tr>\n",
              "      <th>43</th>\n",
              "      <td>i am not certain but</td>\n",
              "      <td>0.591429</td>\n",
              "      <td>0.521429</td>\n",
              "    </tr>\n",
              "    <tr>\n",
              "      <th>44</th>\n",
              "      <td>i am not sure but</td>\n",
              "      <td>0.548571</td>\n",
              "      <td>0.491429</td>\n",
              "    </tr>\n",
              "    <tr>\n",
              "      <th>47</th>\n",
              "      <td>i am guessing, but i would say</td>\n",
              "      <td>0.484286</td>\n",
              "      <td>0.417143</td>\n",
              "    </tr>\n",
              "    <tr>\n",
              "      <th>49</th>\n",
              "      <td>oh, i do not know, i suppose</td>\n",
              "      <td>0.431429</td>\n",
              "      <td>0.420000</td>\n",
              "    </tr>\n",
              "  </tbody>\n",
              "</table>\n",
              "</div>\n",
              "      <button class=\"colab-df-convert\" onclick=\"convertToInteractive('df-05600f04-4883-4b3f-9010-ed251cd6502d')\"\n",
              "              title=\"Convert this dataframe to an interactive table.\"\n",
              "              style=\"display:none;\">\n",
              "        \n",
              "  <svg xmlns=\"http://www.w3.org/2000/svg\" height=\"24px\"viewBox=\"0 0 24 24\"\n",
              "       width=\"24px\">\n",
              "    <path d=\"M0 0h24v24H0V0z\" fill=\"none\"/>\n",
              "    <path d=\"M18.56 5.44l.94 2.06.94-2.06 2.06-.94-2.06-.94-.94-2.06-.94 2.06-2.06.94zm-11 1L8.5 8.5l.94-2.06 2.06-.94-2.06-.94L8.5 2.5l-.94 2.06-2.06.94zm10 10l.94 2.06.94-2.06 2.06-.94-2.06-.94-.94-2.06-.94 2.06-2.06.94z\"/><path d=\"M17.41 7.96l-1.37-1.37c-.4-.4-.92-.59-1.43-.59-.52 0-1.04.2-1.43.59L10.3 9.45l-7.72 7.72c-.78.78-.78 2.05 0 2.83L4 21.41c.39.39.9.59 1.41.59.51 0 1.02-.2 1.41-.59l7.78-7.78 2.81-2.81c.8-.78.8-2.07 0-2.86zM5.41 20L4 18.59l7.72-7.72 1.47 1.35L5.41 20z\"/>\n",
              "  </svg>\n",
              "      </button>\n",
              "      \n",
              "  <style>\n",
              "    .colab-df-container {\n",
              "      display:flex;\n",
              "      flex-wrap:wrap;\n",
              "      gap: 12px;\n",
              "    }\n",
              "\n",
              "    .colab-df-convert {\n",
              "      background-color: #E8F0FE;\n",
              "      border: none;\n",
              "      border-radius: 50%;\n",
              "      cursor: pointer;\n",
              "      display: none;\n",
              "      fill: #1967D2;\n",
              "      height: 32px;\n",
              "      padding: 0 0 0 0;\n",
              "      width: 32px;\n",
              "    }\n",
              "\n",
              "    .colab-df-convert:hover {\n",
              "      background-color: #E2EBFA;\n",
              "      box-shadow: 0px 1px 2px rgba(60, 64, 67, 0.3), 0px 1px 3px 1px rgba(60, 64, 67, 0.15);\n",
              "      fill: #174EA6;\n",
              "    }\n",
              "\n",
              "    [theme=dark] .colab-df-convert {\n",
              "      background-color: #3B4455;\n",
              "      fill: #D2E3FC;\n",
              "    }\n",
              "\n",
              "    [theme=dark] .colab-df-convert:hover {\n",
              "      background-color: #434B5C;\n",
              "      box-shadow: 0px 1px 3px 1px rgba(0, 0, 0, 0.15);\n",
              "      filter: drop-shadow(0px 1px 2px rgba(0, 0, 0, 0.3));\n",
              "      fill: #FFFFFF;\n",
              "    }\n",
              "  </style>\n",
              "\n",
              "      <script>\n",
              "        const buttonEl =\n",
              "          document.querySelector('#df-05600f04-4883-4b3f-9010-ed251cd6502d button.colab-df-convert');\n",
              "        buttonEl.style.display =\n",
              "          google.colab.kernel.accessAllowed ? 'block' : 'none';\n",
              "\n",
              "        async function convertToInteractive(key) {\n",
              "          const element = document.querySelector('#df-05600f04-4883-4b3f-9010-ed251cd6502d');\n",
              "          const dataTable =\n",
              "            await google.colab.kernel.invokeFunction('convertToInteractive',\n",
              "                                                     [key], {});\n",
              "          if (!dataTable) return;\n",
              "\n",
              "          const docLinkHtml = 'Like what you see? Visit the ' +\n",
              "            '<a target=\"_blank\" href=https://colab.research.google.com/notebooks/data_table.ipynb>data table notebook</a>'\n",
              "            + ' to learn more about interactive tables.';\n",
              "          element.innerHTML = '';\n",
              "          dataTable['output_type'] = 'display_data';\n",
              "          await google.colab.output.renderOutput(dataTable, element);\n",
              "          const docLink = document.createElement('div');\n",
              "          docLink.innerHTML = docLinkHtml;\n",
              "          element.appendChild(docLink);\n",
              "        }\n",
              "      </script>\n",
              "    </div>\n",
              "  </div>\n",
              "  "
            ],
            "text/plain": [
              "                                      sentence  score_present  score_past\n",
              "0                       i'm absolutely certain       0.944286    0.904286\n",
              "1                                 i'm positive       0.938571    0.851429\n",
              "2                                  i'm certain       0.935714    0.842857\n",
              "3                            i know for a fact       0.928571    0.892857\n",
              "4                                       i know       0.921429    0.868571\n",
              "5                                i'm confident       0.918571    0.865714\n",
              "6                              i have no doubt       0.900000    0.840000\n",
              "7                                     i'm sure       0.860000    0.788571\n",
              "8             i have no doubt, i mean i'm sure       0.850000    0.771429\n",
              "9                         i'm fairly confident       0.760000    0.750000\n",
              "10                                  i remember       0.740000    0.750000\n",
              "11                                   i believe       0.694286    0.651429\n",
              "12                                 i would say       0.671429    0.612857\n",
              "13                                   i suspect       0.668571    0.607143\n",
              "14            i could be mistaken but i'm sure       0.668571    0.595714\n",
              "15                                     i think       0.665714    0.580000\n",
              "16   i'm not completely confident, but i think       0.600000    0.588571\n",
              "17                   i can't say for sure, but       0.594286    0.544286\n",
              "18                         i'm not certain but       0.591429    0.521429\n",
              "19                            i'm not sure but       0.548571    0.491429\n",
              "20                                     i guess       0.535714    0.508571\n",
              "21               i could be wrong, but i think       0.525714    0.524286\n",
              "22               i'm guessing, but i would say       0.484286    0.417143\n",
              "23                                   i suppose       0.477143    0.447143\n",
              "24                 oh, i don't know, i suppose       0.431429    0.420000\n",
              "25                     i am absolutely certain       0.944286    0.904286\n",
              "26                               i am positive       0.938571    0.851429\n",
              "27                                i am certain       0.935714    0.842857\n",
              "30                              i am confident       0.918571    0.865714\n",
              "32                                   i am sure       0.860000    0.788571\n",
              "33           i have no doubt, i mean i am sure       0.850000    0.771429\n",
              "34                       i am fairly confident       0.760000    0.750000\n",
              "39           i could be mistaken but i am sure       0.668571    0.595714\n",
              "41  i am not completely confident, but i think       0.600000    0.588571\n",
              "42                  i cannot say for sure, but       0.594286    0.544286\n",
              "43                        i am not certain but       0.591429    0.521429\n",
              "44                           i am not sure but       0.548571    0.491429\n",
              "47              i am guessing, but i would say       0.484286    0.417143\n",
              "49                oh, i do not know, i suppose       0.431429    0.420000"
            ]
          },
          "metadata": {}
        }
      ]
    },
    {
      "cell_type": "markdown",
      "source": [
        "# Cellule pour generer des dataframe tests"
      ],
      "metadata": {
        "id": "T7pNLSUcvqwR"
      }
    },
    {
      "cell_type": "markdown",
      "source": [
        "Je laisse la cellule qui genere un data frame test si quelqu'un a besoin d'un sous ensemble pour tester ses trucs"
      ],
      "metadata": {
        "id": "1thY2CFI9kD-"
      }
    },
    {
      "cell_type": "code",
      "execution_count": null,
      "metadata": {
        "id": "jKBHW1vn66Z8"
      },
      "outputs": [],
      "source": [
        "#Extract a small part of the whole file to test \n",
        "path = '/content/drive/MyDrive/ADAprojet2021/quotes-2020-processed.json.bz2'\n",
        "test = pd.DataFrame(columns=('qids','quotation', 'findings', 'score'))\n",
        "i = 0\n",
        "with bz2.open(path, 'rb') as s_file:\n",
        "  for instance in s_file:\n",
        "    instance = json.loads(instance) \n",
        "    i = i + 1\n",
        "    test = test.append({'qids': instance['qids'], 'quotation': instance['quotation']}, ignore_index=True)\n",
        "    if i == 15:\n",
        "      break\n"
      ]
    },
    {
      "cell_type": "code",
      "source": [
        "#sous ensemble expression-score de test\n",
        "test_exp = pd.DataFrame(columns = ['sentence', 'score_past', 'score_present'])\n",
        "test_exp.score_present = ['1','2','3','4','5']\n",
        "test_exp.score_past = ['-1','-2','-3','-4','-5']\n",
        "test_exp.sentence = ['is', 'not', 'why', 'the', 'of']\n",
        "display(test_exp)"
      ],
      "metadata": {
        "id": "f9LvBCjVjQGN",
        "colab": {
          "base_uri": "https://localhost:8080/"
        },
        "outputId": "f0f4bf0e-a1e3-412a-c0c8-f552df16c440"
      },
      "execution_count": null,
      "outputs": [
        {
          "output_type": "display_data",
          "data": {
            "text/html": [
              "<div>\n",
              "<style scoped>\n",
              "    .dataframe tbody tr th:only-of-type {\n",
              "        vertical-align: middle;\n",
              "    }\n",
              "\n",
              "    .dataframe tbody tr th {\n",
              "        vertical-align: top;\n",
              "    }\n",
              "\n",
              "    .dataframe thead th {\n",
              "        text-align: right;\n",
              "    }\n",
              "</style>\n",
              "<table border=\"1\" class=\"dataframe\">\n",
              "  <thead>\n",
              "    <tr style=\"text-align: right;\">\n",
              "      <th></th>\n",
              "      <th>sentence</th>\n",
              "      <th>score_past</th>\n",
              "      <th>score_present</th>\n",
              "    </tr>\n",
              "  </thead>\n",
              "  <tbody>\n",
              "    <tr>\n",
              "      <th>0</th>\n",
              "      <td>is</td>\n",
              "      <td>-1</td>\n",
              "      <td>1</td>\n",
              "    </tr>\n",
              "    <tr>\n",
              "      <th>1</th>\n",
              "      <td>not</td>\n",
              "      <td>-2</td>\n",
              "      <td>2</td>\n",
              "    </tr>\n",
              "    <tr>\n",
              "      <th>2</th>\n",
              "      <td>why</td>\n",
              "      <td>-3</td>\n",
              "      <td>3</td>\n",
              "    </tr>\n",
              "    <tr>\n",
              "      <th>3</th>\n",
              "      <td>the</td>\n",
              "      <td>-4</td>\n",
              "      <td>4</td>\n",
              "    </tr>\n",
              "    <tr>\n",
              "      <th>4</th>\n",
              "      <td>of</td>\n",
              "      <td>-5</td>\n",
              "      <td>5</td>\n",
              "    </tr>\n",
              "  </tbody>\n",
              "</table>\n",
              "</div>"
            ],
            "text/plain": [
              "  sentence score_past score_present\n",
              "0       is         -1             1\n",
              "1      not         -2             2\n",
              "2      why         -3             3\n",
              "3      the         -4             4\n",
              "4       of         -5             5"
            ]
          },
          "metadata": {}
        }
      ]
    },
    {
      "cell_type": "markdown",
      "metadata": {
        "id": "JzEBUqBTF5IU"
      },
      "source": [
        "# Find the expressions of confidence in the quotations\n"
      ]
    },
    {
      "cell_type": "code",
      "execution_count": null,
      "metadata": {
        "id": "8_ndfm0aCi2B",
        "colab": {
          "base_uri": "https://localhost:8080/",
          "height": 218
        },
        "outputId": "f92a6114-5f1d-476a-cfcc-d2b962f3c540"
      },
      "outputs": [
        {
          "output_type": "error",
          "ename": "NameError",
          "evalue": "ignored",
          "traceback": [
            "\u001b[0;31m---------------------------------------------------------------------------\u001b[0m",
            "\u001b[0;31mNameError\u001b[0m                                 Traceback (most recent call last)",
            "\u001b[0;32m<ipython-input-13-76d4b583de53>\u001b[0m in \u001b[0;36m<module>\u001b[0;34m()\u001b[0m\n\u001b[1;32m      4\u001b[0m \u001b[0;31m#to enable proper comparison we need to case fold the citations to avoid a missing\u001b[0m\u001b[0;34m\u001b[0m\u001b[0;34m\u001b[0m\u001b[0;34m\u001b[0m\u001b[0m\n\u001b[1;32m      5\u001b[0m \u001b[0;34m\u001b[0m\u001b[0m\n\u001b[0;32m----> 6\u001b[0;31m \u001b[0mquotes\u001b[0m\u001b[0;34m[\u001b[0m\u001b[0;34m'quotation'\u001b[0m\u001b[0;34m]\u001b[0m\u001b[0;34m=\u001b[0m \u001b[0mquotes\u001b[0m\u001b[0;34m[\u001b[0m\u001b[0;34m'quotation'\u001b[0m\u001b[0;34m]\u001b[0m\u001b[0;34m.\u001b[0m\u001b[0mapply\u001b[0m\u001b[0;34m(\u001b[0m\u001b[0;32mlambda\u001b[0m \u001b[0mx\u001b[0m\u001b[0;34m:\u001b[0m \u001b[0mx\u001b[0m\u001b[0;34m.\u001b[0m\u001b[0mcasefold\u001b[0m\u001b[0;34m(\u001b[0m\u001b[0;34m)\u001b[0m\u001b[0;34m)\u001b[0m\u001b[0;34m\u001b[0m\u001b[0;34m\u001b[0m\u001b[0m\n\u001b[0m\u001b[1;32m      7\u001b[0m \u001b[0;34m\u001b[0m\u001b[0m\n",
            "\u001b[0;31mNameError\u001b[0m: name 'quotes' is not defined"
          ]
        }
      ],
      "source": [
        "from nltk.text import Text\n",
        "import re \n",
        "\n",
        "#to enable proper comparison we need to case fold the citations to avoid a missing\n",
        "\n",
        "quotes['quotation']= quotes['quotation'].apply(lambda x: x.casefold())\n",
        "\n"
      ]
    },
    {
      "cell_type": "code",
      "source": [
        "#a mettre plus tot du coup \n",
        "#Apparemment le warning c'est un conniere de desaccord entre numpy et native python du coup je vais juste les ingnorer avec les lignes suivante :\n",
        "import warnings; warnings.simplefilter('ignore')\n"
      ],
      "metadata": {
        "id": "vUz7qaMX9wqi"
      },
      "execution_count": null,
      "outputs": []
    },
    {
      "cell_type": "code",
      "execution_count": null,
      "metadata": {
        "id": "UZa0bl0-JPnF"
      },
      "outputs": [],
      "source": [
        "#put the different expression in a format enable multiple comparison:\n",
        "rx = r\"(?=\\b({})\\b)\".format(\"|\".join(map(re.escape, sorted(sentences.sentence, key=len, reverse=True))))\n",
        "#rx = r\"(?=\\b({})\\b)\".format(\"|\".join(map(re.escape, sorted(test_exp.sentence, key=len, reverse=True))))\n",
        "pattern = re.compile(rx)\n",
        "\n",
        "#create an array containing the tags associated with the tense \n",
        "present = [\"VBP\", \"VBZ\",\"VBG\"]\n",
        "past = [\"VBD\", \"VBN\"]\n",
        "\n",
        "chunk_list = []\n",
        "for chunk in np.array_split(quotes, 80):\n",
        "  #keep the expressions found in an array to allow score assessing:\n",
        "\n",
        "  chunk['findings'] = chunk['quotation'].apply(lambda x: np.unique(re.findall(pattern, x)))\n",
        "#We compare the tags obtained with the tense vector to assess a tense to tue quotes\n",
        "  chunk['tags'] = chunk['quotation'].apply(lambda x: [pos for word,pos in nltk.pos_tag(nltk.word_tokenize(x)) if np.isin(pos, past + present)])\n",
        "\n",
        "  chunk['tense'] = chunk['tags'].apply(lambda x: 'present' if set(x).issubset(set(present)) == True else 'past' )\n",
        "  chunk_list.append(chunk)\n",
        "\n",
        "quotes_test =  pd.concat(chunk_list)[['qids','quotation', 'findings', 'tags', 'tense']]\n",
        "\n",
        "\n",
        "\n",
        "\n"
      ]
    },
    {
      "cell_type": "markdown",
      "source": [
        "Some expressions take into account the tense of the sentences, hence we create a new column that indicates the tense in order to properly assess the score "
      ],
      "metadata": {
        "id": "NKjqSI-t93Pg"
      }
    },
    {
      "cell_type": "code",
      "source": [
        "quotes_test =[]\n",
        "quotes_test.to_pickle('/content/drive/MyDrive/ADAprojet2021/quotes_info.pkl', 'bz2')"
      ],
      "metadata": {
        "id": "rPVkYhoPEfj-",
        "colab": {
          "base_uri": "https://localhost:8080/",
          "height": 183
        },
        "outputId": "1ad6f4c2-b792-4374-e598-88475a9fcb10"
      },
      "execution_count": null,
      "outputs": [
        {
          "output_type": "error",
          "ename": "AttributeError",
          "evalue": "ignored",
          "traceback": [
            "\u001b[0;31m---------------------------------------------------------------------------\u001b[0m",
            "\u001b[0;31mAttributeError\u001b[0m                            Traceback (most recent call last)",
            "\u001b[0;32m<ipython-input-8-5e2969ca767b>\u001b[0m in \u001b[0;36m<module>\u001b[0;34m()\u001b[0m\n\u001b[1;32m      1\u001b[0m \u001b[0mquotes_test\u001b[0m \u001b[0;34m=\u001b[0m\u001b[0;34m[\u001b[0m\u001b[0;34m]\u001b[0m\u001b[0;34m\u001b[0m\u001b[0;34m\u001b[0m\u001b[0m\n\u001b[0;32m----> 2\u001b[0;31m \u001b[0mquotes_test\u001b[0m\u001b[0;34m.\u001b[0m\u001b[0mto_pickle\u001b[0m\u001b[0;34m(\u001b[0m\u001b[0;34m'/content/drive/MyDrive/ADAprojet2021/quotes_info.pkl'\u001b[0m\u001b[0;34m,\u001b[0m \u001b[0;34m'bz2'\u001b[0m\u001b[0;34m)\u001b[0m\u001b[0;34m\u001b[0m\u001b[0;34m\u001b[0m\u001b[0m\n\u001b[0m",
            "\u001b[0;31mAttributeError\u001b[0m: 'list' object has no attribute 'to_pickle'"
          ]
        }
      ]
    },
    {
      "cell_type": "code",
      "source": [
        "quotes = pd.read_pickle('/content/drive/MyDrive/ADAprojet2021/ADA projet support/quotes_info.pkl','bz2')"
      ],
      "metadata": {
        "id": "3rEPwa1VFpmj"
      },
      "execution_count": null,
      "outputs": []
    },
    {
      "cell_type": "code",
      "source": [
        "#Now that we have both time and expressisons of confidence, we compare theses expressions with the different quotes and extract the expressions found as weel as the score associated to them.\n",
        "\n",
        "quotes.loc[quotes[\"tense\"] == 'present', 'score'] = quotes[quotes.tense == 'present']['findings'].apply(lambda x: [float(sentences['score_present'][ind]) for ind in sentences.index if(sentences['sentence'][ind] in x)])\n",
        "quotes.loc[quotes[\"tense\"] == 'past', 'score'] = quotes[quotes.tense == 'past']['findings'].apply(lambda x: [float(sentences['score_past'][ind]) for ind in sentences.index if(sentences['sentence'][ind] in x)])\n",
        "\n",
        "display(quotes)"
      ],
      "metadata": {
        "colab": {
          "base_uri": "https://localhost:8080/",
          "height": 423
        },
        "id": "lmeDxAqSwAjf",
        "outputId": "51455494-9686-445b-bbb7-527726af03b9"
      },
      "execution_count": null,
      "outputs": [
        {
          "output_type": "display_data",
          "data": {
            "text/html": [
              "\n",
              "  <div id=\"df-45a28588-ac2b-4f09-821d-d321a7fcac0d\">\n",
              "    <div class=\"colab-df-container\">\n",
              "      <div>\n",
              "<style scoped>\n",
              "    .dataframe tbody tr th:only-of-type {\n",
              "        vertical-align: middle;\n",
              "    }\n",
              "\n",
              "    .dataframe tbody tr th {\n",
              "        vertical-align: top;\n",
              "    }\n",
              "\n",
              "    .dataframe thead th {\n",
              "        text-align: right;\n",
              "    }\n",
              "</style>\n",
              "<table border=\"1\" class=\"dataframe\">\n",
              "  <thead>\n",
              "    <tr style=\"text-align: right;\">\n",
              "      <th></th>\n",
              "      <th>qids</th>\n",
              "      <th>quotation</th>\n",
              "      <th>findings</th>\n",
              "      <th>tense</th>\n",
              "      <th>score</th>\n",
              "      <th>score_mean</th>\n",
              "      <th>score_std</th>\n",
              "      <th>score_max</th>\n",
              "    </tr>\n",
              "  </thead>\n",
              "  <tbody>\n",
              "    <tr>\n",
              "      <th>45</th>\n",
              "      <td>Q6274563</td>\n",
              "      <td>and festivalgoers are also drawn to coming in ...</td>\n",
              "      <td>[i think]</td>\n",
              "      <td>past</td>\n",
              "      <td>[0.58]</td>\n",
              "      <td>0.580000</td>\n",
              "      <td>0.0</td>\n",
              "      <td>0.580000</td>\n",
              "    </tr>\n",
              "    <tr>\n",
              "      <th>50</th>\n",
              "      <td>Q7493177</td>\n",
              "      <td>and i think we've come to a time where we are ...</td>\n",
              "      <td>[i think]</td>\n",
              "      <td>past</td>\n",
              "      <td>[0.58]</td>\n",
              "      <td>0.580000</td>\n",
              "      <td>0.0</td>\n",
              "      <td>0.580000</td>\n",
              "    </tr>\n",
              "    <tr>\n",
              "      <th>178</th>\n",
              "      <td>Q21061798</td>\n",
              "      <td>everyone deserves a second chance but to get a...</td>\n",
              "      <td>[i think]</td>\n",
              "      <td>past</td>\n",
              "      <td>[0.58]</td>\n",
              "      <td>0.580000</td>\n",
              "      <td>0.0</td>\n",
              "      <td>0.580000</td>\n",
              "    </tr>\n",
              "    <tr>\n",
              "      <th>220</th>\n",
              "      <td>Q8064960</td>\n",
              "      <td>having spoken with fernando, i think he's now ...</td>\n",
              "      <td>[i think]</td>\n",
              "      <td>past</td>\n",
              "      <td>[0.58]</td>\n",
              "      <td>0.580000</td>\n",
              "      <td>0.0</td>\n",
              "      <td>0.580000</td>\n",
              "    </tr>\n",
              "    <tr>\n",
              "      <th>265</th>\n",
              "      <td>Q289365</td>\n",
              "      <td>i always have targets, in life and in tennis. ...</td>\n",
              "      <td>[i think]</td>\n",
              "      <td>present</td>\n",
              "      <td>[0.6657142857142857]</td>\n",
              "      <td>0.665714</td>\n",
              "      <td>0.0</td>\n",
              "      <td>0.665714</td>\n",
              "    </tr>\n",
              "    <tr>\n",
              "      <th>...</th>\n",
              "      <td>...</td>\n",
              "      <td>...</td>\n",
              "      <td>...</td>\n",
              "      <td>...</td>\n",
              "      <td>...</td>\n",
              "      <td>...</td>\n",
              "      <td>...</td>\n",
              "      <td>...</td>\n",
              "    </tr>\n",
              "    <tr>\n",
              "      <th>2451812</th>\n",
              "      <td>Q567</td>\n",
              "      <td>we have also touched on barriers related to ho...</td>\n",
              "      <td>[i think]</td>\n",
              "      <td>past</td>\n",
              "      <td>[0.58]</td>\n",
              "      <td>0.580000</td>\n",
              "      <td>0.0</td>\n",
              "      <td>0.580000</td>\n",
              "    </tr>\n",
              "    <tr>\n",
              "      <th>2451822</th>\n",
              "      <td>Q42311</td>\n",
              "      <td>we have raced many races, i think there have b...</td>\n",
              "      <td>[i think]</td>\n",
              "      <td>past</td>\n",
              "      <td>[0.58]</td>\n",
              "      <td>0.580000</td>\n",
              "      <td>0.0</td>\n",
              "      <td>0.580000</td>\n",
              "    </tr>\n",
              "    <tr>\n",
              "      <th>2451879</th>\n",
              "      <td>Q22686</td>\n",
              "      <td>we've been given i think really given tremendo...</td>\n",
              "      <td>[i think]</td>\n",
              "      <td>past</td>\n",
              "      <td>[0.58]</td>\n",
              "      <td>0.580000</td>\n",
              "      <td>0.0</td>\n",
              "      <td>0.580000</td>\n",
              "    </tr>\n",
              "    <tr>\n",
              "      <th>2451902</th>\n",
              "      <td>Q16234907</td>\n",
              "      <td>when the virus was announced, the post was slo...</td>\n",
              "      <td>[i think]</td>\n",
              "      <td>past</td>\n",
              "      <td>[0.58]</td>\n",
              "      <td>0.580000</td>\n",
              "      <td>0.0</td>\n",
              "      <td>0.580000</td>\n",
              "    </tr>\n",
              "    <tr>\n",
              "      <th>2451938</th>\n",
              "      <td>Q3809926</td>\n",
              "      <td>you can enjoy this comic without having read a...</td>\n",
              "      <td>[i guess]</td>\n",
              "      <td>past</td>\n",
              "      <td>[0.5085714285714286]</td>\n",
              "      <td>0.508571</td>\n",
              "      <td>0.0</td>\n",
              "      <td>0.508571</td>\n",
              "    </tr>\n",
              "  </tbody>\n",
              "</table>\n",
              "<p>135648 rows × 8 columns</p>\n",
              "</div>\n",
              "      <button class=\"colab-df-convert\" onclick=\"convertToInteractive('df-45a28588-ac2b-4f09-821d-d321a7fcac0d')\"\n",
              "              title=\"Convert this dataframe to an interactive table.\"\n",
              "              style=\"display:none;\">\n",
              "        \n",
              "  <svg xmlns=\"http://www.w3.org/2000/svg\" height=\"24px\"viewBox=\"0 0 24 24\"\n",
              "       width=\"24px\">\n",
              "    <path d=\"M0 0h24v24H0V0z\" fill=\"none\"/>\n",
              "    <path d=\"M18.56 5.44l.94 2.06.94-2.06 2.06-.94-2.06-.94-.94-2.06-.94 2.06-2.06.94zm-11 1L8.5 8.5l.94-2.06 2.06-.94-2.06-.94L8.5 2.5l-.94 2.06-2.06.94zm10 10l.94 2.06.94-2.06 2.06-.94-2.06-.94-.94-2.06-.94 2.06-2.06.94z\"/><path d=\"M17.41 7.96l-1.37-1.37c-.4-.4-.92-.59-1.43-.59-.52 0-1.04.2-1.43.59L10.3 9.45l-7.72 7.72c-.78.78-.78 2.05 0 2.83L4 21.41c.39.39.9.59 1.41.59.51 0 1.02-.2 1.41-.59l7.78-7.78 2.81-2.81c.8-.78.8-2.07 0-2.86zM5.41 20L4 18.59l7.72-7.72 1.47 1.35L5.41 20z\"/>\n",
              "  </svg>\n",
              "      </button>\n",
              "      \n",
              "  <style>\n",
              "    .colab-df-container {\n",
              "      display:flex;\n",
              "      flex-wrap:wrap;\n",
              "      gap: 12px;\n",
              "    }\n",
              "\n",
              "    .colab-df-convert {\n",
              "      background-color: #E8F0FE;\n",
              "      border: none;\n",
              "      border-radius: 50%;\n",
              "      cursor: pointer;\n",
              "      display: none;\n",
              "      fill: #1967D2;\n",
              "      height: 32px;\n",
              "      padding: 0 0 0 0;\n",
              "      width: 32px;\n",
              "    }\n",
              "\n",
              "    .colab-df-convert:hover {\n",
              "      background-color: #E2EBFA;\n",
              "      box-shadow: 0px 1px 2px rgba(60, 64, 67, 0.3), 0px 1px 3px 1px rgba(60, 64, 67, 0.15);\n",
              "      fill: #174EA6;\n",
              "    }\n",
              "\n",
              "    [theme=dark] .colab-df-convert {\n",
              "      background-color: #3B4455;\n",
              "      fill: #D2E3FC;\n",
              "    }\n",
              "\n",
              "    [theme=dark] .colab-df-convert:hover {\n",
              "      background-color: #434B5C;\n",
              "      box-shadow: 0px 1px 3px 1px rgba(0, 0, 0, 0.15);\n",
              "      filter: drop-shadow(0px 1px 2px rgba(0, 0, 0, 0.3));\n",
              "      fill: #FFFFFF;\n",
              "    }\n",
              "  </style>\n",
              "\n",
              "      <script>\n",
              "        const buttonEl =\n",
              "          document.querySelector('#df-45a28588-ac2b-4f09-821d-d321a7fcac0d button.colab-df-convert');\n",
              "        buttonEl.style.display =\n",
              "          google.colab.kernel.accessAllowed ? 'block' : 'none';\n",
              "\n",
              "        async function convertToInteractive(key) {\n",
              "          const element = document.querySelector('#df-45a28588-ac2b-4f09-821d-d321a7fcac0d');\n",
              "          const dataTable =\n",
              "            await google.colab.kernel.invokeFunction('convertToInteractive',\n",
              "                                                     [key], {});\n",
              "          if (!dataTable) return;\n",
              "\n",
              "          const docLinkHtml = 'Like what you see? Visit the ' +\n",
              "            '<a target=\"_blank\" href=https://colab.research.google.com/notebooks/data_table.ipynb>data table notebook</a>'\n",
              "            + ' to learn more about interactive tables.';\n",
              "          element.innerHTML = '';\n",
              "          dataTable['output_type'] = 'display_data';\n",
              "          await google.colab.output.renderOutput(dataTable, element);\n",
              "          const docLink = document.createElement('div');\n",
              "          docLink.innerHTML = docLinkHtml;\n",
              "          element.appendChild(docLink);\n",
              "        }\n",
              "      </script>\n",
              "    </div>\n",
              "  </div>\n",
              "  "
            ],
            "text/plain": [
              "              qids  ... score_max\n",
              "45        Q6274563  ...  0.580000\n",
              "50        Q7493177  ...  0.580000\n",
              "178      Q21061798  ...  0.580000\n",
              "220       Q8064960  ...  0.580000\n",
              "265        Q289365  ...  0.665714\n",
              "...            ...  ...       ...\n",
              "2451812       Q567  ...  0.580000\n",
              "2451822     Q42311  ...  0.580000\n",
              "2451879     Q22686  ...  0.580000\n",
              "2451902  Q16234907  ...  0.580000\n",
              "2451938   Q3809926  ...  0.508571\n",
              "\n",
              "[135648 rows x 8 columns]"
            ]
          },
          "metadata": {}
        }
      ]
    },
    {
      "cell_type": "code",
      "source": [
        "#If we decide to define the quote score by averaging the values in the score array: \n",
        "\n",
        "quotes['score_mean'] = quotes['score'].apply(lambda x: np.mean(x))\n",
        "\n",
        "\n",
        "quotes['score_std'] = quotes['score'].apply(lambda x: np.std(x))\n",
        "\n",
        "\n",
        "#to handle empty score arrays, we initiate the minimum value of an output element to 0. It means that for empty vector the function will return zero.\n",
        "quotes['score_max'] = quotes['score'].apply(lambda x: np.amax(x, initial=0))\n",
        "\n"
      ],
      "metadata": {
        "id": "4GQqZ8Nrw9-F"
      },
      "execution_count": null,
      "outputs": []
    },
    {
      "cell_type": "code",
      "source": [
        "#je fais ca avec des nouvelles variables pour eviter que gache tout\n",
        "x = quotes\n",
        "y = x[~x.findings.str.len().eq(0)]"
      ],
      "metadata": {
        "id": "N6Jct4yOX5hf"
      },
      "execution_count": null,
      "outputs": []
    },
    {
      "cell_type": "code",
      "source": [
        "y.to_pickle('/content/drive/MyDrive/ADAprojet2021/ADA projet support/quotes_info.pkl', 'bz2')"
      ],
      "metadata": {
        "id": "RvRjdyPgbC-2"
      },
      "execution_count": null,
      "outputs": []
    },
    {
      "cell_type": "code",
      "source": [
        "y"
      ],
      "metadata": {
        "colab": {
          "base_uri": "https://localhost:8080/",
          "height": 423
        },
        "id": "87t9SaQyal8T",
        "outputId": "48e8a156-47ad-493b-8978-dfb7c0c70b58"
      },
      "execution_count": null,
      "outputs": [
        {
          "output_type": "execute_result",
          "data": {
            "text/html": [
              "\n",
              "  <div id=\"df-810b606b-00bb-46c2-9fb5-89b1be27103c\">\n",
              "    <div class=\"colab-df-container\">\n",
              "      <div>\n",
              "<style scoped>\n",
              "    .dataframe tbody tr th:only-of-type {\n",
              "        vertical-align: middle;\n",
              "    }\n",
              "\n",
              "    .dataframe tbody tr th {\n",
              "        vertical-align: top;\n",
              "    }\n",
              "\n",
              "    .dataframe thead th {\n",
              "        text-align: right;\n",
              "    }\n",
              "</style>\n",
              "<table border=\"1\" class=\"dataframe\">\n",
              "  <thead>\n",
              "    <tr style=\"text-align: right;\">\n",
              "      <th></th>\n",
              "      <th>qids</th>\n",
              "      <th>quotation</th>\n",
              "      <th>findings</th>\n",
              "      <th>tense</th>\n",
              "      <th>score</th>\n",
              "      <th>score_mean</th>\n",
              "      <th>score_std</th>\n",
              "      <th>score_max</th>\n",
              "    </tr>\n",
              "  </thead>\n",
              "  <tbody>\n",
              "    <tr>\n",
              "      <th>45</th>\n",
              "      <td>Q6274563</td>\n",
              "      <td>and festivalgoers are also drawn to coming in ...</td>\n",
              "      <td>[i think]</td>\n",
              "      <td>past</td>\n",
              "      <td>[0.58]</td>\n",
              "      <td>0.580000</td>\n",
              "      <td>0.0</td>\n",
              "      <td>0.580000</td>\n",
              "    </tr>\n",
              "    <tr>\n",
              "      <th>50</th>\n",
              "      <td>Q7493177</td>\n",
              "      <td>and i think we've come to a time where we are ...</td>\n",
              "      <td>[i think]</td>\n",
              "      <td>past</td>\n",
              "      <td>[0.58]</td>\n",
              "      <td>0.580000</td>\n",
              "      <td>0.0</td>\n",
              "      <td>0.580000</td>\n",
              "    </tr>\n",
              "    <tr>\n",
              "      <th>178</th>\n",
              "      <td>Q21061798</td>\n",
              "      <td>everyone deserves a second chance but to get a...</td>\n",
              "      <td>[i think]</td>\n",
              "      <td>past</td>\n",
              "      <td>[0.58]</td>\n",
              "      <td>0.580000</td>\n",
              "      <td>0.0</td>\n",
              "      <td>0.580000</td>\n",
              "    </tr>\n",
              "    <tr>\n",
              "      <th>220</th>\n",
              "      <td>Q8064960</td>\n",
              "      <td>having spoken with fernando, i think he's now ...</td>\n",
              "      <td>[i think]</td>\n",
              "      <td>past</td>\n",
              "      <td>[0.58]</td>\n",
              "      <td>0.580000</td>\n",
              "      <td>0.0</td>\n",
              "      <td>0.580000</td>\n",
              "    </tr>\n",
              "    <tr>\n",
              "      <th>265</th>\n",
              "      <td>Q289365</td>\n",
              "      <td>i always have targets, in life and in tennis. ...</td>\n",
              "      <td>[i think]</td>\n",
              "      <td>present</td>\n",
              "      <td>[0.6657142857142857]</td>\n",
              "      <td>0.665714</td>\n",
              "      <td>0.0</td>\n",
              "      <td>0.665714</td>\n",
              "    </tr>\n",
              "    <tr>\n",
              "      <th>...</th>\n",
              "      <td>...</td>\n",
              "      <td>...</td>\n",
              "      <td>...</td>\n",
              "      <td>...</td>\n",
              "      <td>...</td>\n",
              "      <td>...</td>\n",
              "      <td>...</td>\n",
              "      <td>...</td>\n",
              "    </tr>\n",
              "    <tr>\n",
              "      <th>2451812</th>\n",
              "      <td>Q567</td>\n",
              "      <td>we have also touched on barriers related to ho...</td>\n",
              "      <td>[i think]</td>\n",
              "      <td>past</td>\n",
              "      <td>[0.58]</td>\n",
              "      <td>0.580000</td>\n",
              "      <td>0.0</td>\n",
              "      <td>0.580000</td>\n",
              "    </tr>\n",
              "    <tr>\n",
              "      <th>2451822</th>\n",
              "      <td>Q42311</td>\n",
              "      <td>we have raced many races, i think there have b...</td>\n",
              "      <td>[i think]</td>\n",
              "      <td>past</td>\n",
              "      <td>[0.58]</td>\n",
              "      <td>0.580000</td>\n",
              "      <td>0.0</td>\n",
              "      <td>0.580000</td>\n",
              "    </tr>\n",
              "    <tr>\n",
              "      <th>2451879</th>\n",
              "      <td>Q22686</td>\n",
              "      <td>we've been given i think really given tremendo...</td>\n",
              "      <td>[i think]</td>\n",
              "      <td>past</td>\n",
              "      <td>[0.58]</td>\n",
              "      <td>0.580000</td>\n",
              "      <td>0.0</td>\n",
              "      <td>0.580000</td>\n",
              "    </tr>\n",
              "    <tr>\n",
              "      <th>2451902</th>\n",
              "      <td>Q16234907</td>\n",
              "      <td>when the virus was announced, the post was slo...</td>\n",
              "      <td>[i think]</td>\n",
              "      <td>past</td>\n",
              "      <td>[0.58]</td>\n",
              "      <td>0.580000</td>\n",
              "      <td>0.0</td>\n",
              "      <td>0.580000</td>\n",
              "    </tr>\n",
              "    <tr>\n",
              "      <th>2451938</th>\n",
              "      <td>Q3809926</td>\n",
              "      <td>you can enjoy this comic without having read a...</td>\n",
              "      <td>[i guess]</td>\n",
              "      <td>past</td>\n",
              "      <td>[0.5085714285714286]</td>\n",
              "      <td>0.508571</td>\n",
              "      <td>0.0</td>\n",
              "      <td>0.508571</td>\n",
              "    </tr>\n",
              "  </tbody>\n",
              "</table>\n",
              "<p>135648 rows × 8 columns</p>\n",
              "</div>\n",
              "      <button class=\"colab-df-convert\" onclick=\"convertToInteractive('df-810b606b-00bb-46c2-9fb5-89b1be27103c')\"\n",
              "              title=\"Convert this dataframe to an interactive table.\"\n",
              "              style=\"display:none;\">\n",
              "        \n",
              "  <svg xmlns=\"http://www.w3.org/2000/svg\" height=\"24px\"viewBox=\"0 0 24 24\"\n",
              "       width=\"24px\">\n",
              "    <path d=\"M0 0h24v24H0V0z\" fill=\"none\"/>\n",
              "    <path d=\"M18.56 5.44l.94 2.06.94-2.06 2.06-.94-2.06-.94-.94-2.06-.94 2.06-2.06.94zm-11 1L8.5 8.5l.94-2.06 2.06-.94-2.06-.94L8.5 2.5l-.94 2.06-2.06.94zm10 10l.94 2.06.94-2.06 2.06-.94-2.06-.94-.94-2.06-.94 2.06-2.06.94z\"/><path d=\"M17.41 7.96l-1.37-1.37c-.4-.4-.92-.59-1.43-.59-.52 0-1.04.2-1.43.59L10.3 9.45l-7.72 7.72c-.78.78-.78 2.05 0 2.83L4 21.41c.39.39.9.59 1.41.59.51 0 1.02-.2 1.41-.59l7.78-7.78 2.81-2.81c.8-.78.8-2.07 0-2.86zM5.41 20L4 18.59l7.72-7.72 1.47 1.35L5.41 20z\"/>\n",
              "  </svg>\n",
              "      </button>\n",
              "      \n",
              "  <style>\n",
              "    .colab-df-container {\n",
              "      display:flex;\n",
              "      flex-wrap:wrap;\n",
              "      gap: 12px;\n",
              "    }\n",
              "\n",
              "    .colab-df-convert {\n",
              "      background-color: #E8F0FE;\n",
              "      border: none;\n",
              "      border-radius: 50%;\n",
              "      cursor: pointer;\n",
              "      display: none;\n",
              "      fill: #1967D2;\n",
              "      height: 32px;\n",
              "      padding: 0 0 0 0;\n",
              "      width: 32px;\n",
              "    }\n",
              "\n",
              "    .colab-df-convert:hover {\n",
              "      background-color: #E2EBFA;\n",
              "      box-shadow: 0px 1px 2px rgba(60, 64, 67, 0.3), 0px 1px 3px 1px rgba(60, 64, 67, 0.15);\n",
              "      fill: #174EA6;\n",
              "    }\n",
              "\n",
              "    [theme=dark] .colab-df-convert {\n",
              "      background-color: #3B4455;\n",
              "      fill: #D2E3FC;\n",
              "    }\n",
              "\n",
              "    [theme=dark] .colab-df-convert:hover {\n",
              "      background-color: #434B5C;\n",
              "      box-shadow: 0px 1px 3px 1px rgba(0, 0, 0, 0.15);\n",
              "      filter: drop-shadow(0px 1px 2px rgba(0, 0, 0, 0.3));\n",
              "      fill: #FFFFFF;\n",
              "    }\n",
              "  </style>\n",
              "\n",
              "      <script>\n",
              "        const buttonEl =\n",
              "          document.querySelector('#df-810b606b-00bb-46c2-9fb5-89b1be27103c button.colab-df-convert');\n",
              "        buttonEl.style.display =\n",
              "          google.colab.kernel.accessAllowed ? 'block' : 'none';\n",
              "\n",
              "        async function convertToInteractive(key) {\n",
              "          const element = document.querySelector('#df-810b606b-00bb-46c2-9fb5-89b1be27103c');\n",
              "          const dataTable =\n",
              "            await google.colab.kernel.invokeFunction('convertToInteractive',\n",
              "                                                     [key], {});\n",
              "          if (!dataTable) return;\n",
              "\n",
              "          const docLinkHtml = 'Like what you see? Visit the ' +\n",
              "            '<a target=\"_blank\" href=https://colab.research.google.com/notebooks/data_table.ipynb>data table notebook</a>'\n",
              "            + ' to learn more about interactive tables.';\n",
              "          element.innerHTML = '';\n",
              "          dataTable['output_type'] = 'display_data';\n",
              "          await google.colab.output.renderOutput(dataTable, element);\n",
              "          const docLink = document.createElement('div');\n",
              "          docLink.innerHTML = docLinkHtml;\n",
              "          element.appendChild(docLink);\n",
              "        }\n",
              "      </script>\n",
              "    </div>\n",
              "  </div>\n",
              "  "
            ],
            "text/plain": [
              "              qids  ... score_max\n",
              "45        Q6274563  ...  0.580000\n",
              "50        Q7493177  ...  0.580000\n",
              "178      Q21061798  ...  0.580000\n",
              "220       Q8064960  ...  0.580000\n",
              "265        Q289365  ...  0.665714\n",
              "...            ...  ...       ...\n",
              "2451812       Q567  ...  0.580000\n",
              "2451822     Q42311  ...  0.580000\n",
              "2451879     Q22686  ...  0.580000\n",
              "2451902  Q16234907  ...  0.580000\n",
              "2451938   Q3809926  ...  0.508571\n",
              "\n",
              "[135648 rows x 8 columns]"
            ]
          },
          "metadata": {},
          "execution_count": 14
        }
      ]
    },
    {
      "cell_type": "markdown",
      "source": [
        "## Code de Florette pour les plots"
      ],
      "metadata": {
        "id": "INlM8dp3w2s0"
      }
    },
    {
      "cell_type": "code",
      "source": [
        "#create a signle array containing all the expression founds in the quotation\n",
        "all = np.array([])\n",
        "for finding in y.findings: #y corresponds to quote_info, we iterate on the expressions found for each quote\n",
        "  all = np.concatenate((all,finding)) #the expressions for the quotes are added in the array\n",
        " \n",
        "\n"
      ],
      "metadata": {
        "id": "r0VXxk_Ai07b"
      },
      "execution_count": null,
      "outputs": []
    },
    {
      "cell_type": "code",
      "source": [
        "#plloting the distribution of the expression (for both men and women)\n",
        "\n",
        "fig = plt.figure()\n",
        "\n",
        "p = sns.countplot(all, order = pd.Series(all).value_counts().index, color = \"cornflowerblue\", ) \n",
        "p.set_yscale('log')\n",
        "\n",
        "plt.title(\"Distribution of expressions\", fontsize=15)\n",
        "plt.xlabel(\"Expression\")\n",
        "plt.ylabel(\"Count\")\n",
        "plt.xticks(rotation=45)\n",
        "plt.tight_layout()\n",
        "fig.set_size_inches(10, 6)\n",
        "plt.savefig('/content/drive/MyDrive/ADAprojet2021/distribution_of_expression_log_scale.png', bbox_inches='tight')\n",
        "plt.show()\n"
      ],
      "metadata": {
        "colab": {
          "base_uri": "https://localhost:8080/",
          "height": 424
        },
        "id": "s1dJ0KMA1bAe",
        "outputId": "fda37de3-198e-4b58-d537-7321b3baa050"
      },
      "execution_count": null,
      "outputs": [
        {
          "output_type": "stream",
          "name": "stderr",
          "text": [
            "/usr/local/lib/python3.7/dist-packages/seaborn/_decorators.py:43: FutureWarning: Pass the following variable as a keyword arg: x. From version 0.12, the only valid positional argument will be `data`, and passing other arguments without an explicit keyword will result in an error or misinterpretation.\n",
            "  FutureWarning\n"
          ]
        },
        {
          "output_type": "display_data",
          "data": {
            "image/png": "[encoded data removed]",
            "text/plain": [
              "<Figure size 720x432 with 1 Axes>"
            ]
          },
          "metadata": {
            "needs_background": "light"
          }
        }
      ]
    },
    {
      "cell_type": "markdown",
      "source": [
        "Now, we search for a difference between men and women for the distribution of used expression."
      ],
      "metadata": {
        "id": "XVPyWKyOyofS"
      }
    },
    {
      "cell_type": "code",
      "source": [
        "quotes = pd.read_pickle('/content/drive/MyDrive/ADAprojet2021/ADA projet support/quotes_info_2020.pkl', 'bz2') \n",
        "speaker = pd.read_pickle('/content/drive/MyDrive/ADAprojet2021/ADA projet support/speaker_attributes_processed.pk1', 'bz2')\n"
      ],
      "metadata": {
        "id": "ODrr-0JfDh73"
      },
      "execution_count": null,
      "outputs": []
    },
    {
      "cell_type": "code",
      "source": [
        "#we create a copy of quotes and speaker, more convenient for the tests\n",
        "q = quotes\n",
        "s = speaker\n",
        "\n",
        "#merginf of the quptes and the speakers\n",
        "s.rename(columns = {'id' : 'qids'}, inplace=True)\n",
        "merged = q.merge(speaker, on='qids')"
      ],
      "metadata": {
        "id": "OcXNw7jpIt6u"
      },
      "execution_count": null,
      "outputs": []
    },
    {
      "cell_type": "code",
      "source": [
        "#create a signle array containing all the expression founds in the quotation of men and women separated\n",
        "all_men = np.array([]) #for the men\n",
        "for finding in merged.findings[merged.gender=='Q6581097']: #men\n",
        "  all_men = np.concatenate((all_men,finding))\n",
        "\n",
        "\n",
        "all_women = np.array([]) #for the women\n",
        "for finding in merged.findings[merged.gender=='Q6581072']: #women\n",
        "  all_women = np.concatenate((all_women,finding))\n"
      ],
      "metadata": {
        "id": "IvyI-Twa72L6"
      },
      "execution_count": null,
      "outputs": []
    },
    {
      "cell_type": "code",
      "source": [
        "#plotting of the distribution of the expressions used by the men\n",
        "fig = plt.figure()\n",
        "\n",
        "p = sns.countplot(all_men, order = pd.Series(all_men).value_counts().index, color = \"cornflowerblue\", ) #lightblue #cornflowerblue #skyblue\n",
        "p.set_yscale('log')\n",
        "\n",
        "plt.title(\"Distribution of expressions for the men\", fontsize=15)\n",
        "plt.xlabel(\"Expression\")\n",
        "plt.ylabel(\"Count\")\n",
        "plt.xticks(rotation=45)\n",
        "plt.tight_layout()\n",
        "fig.set_size_inches(10, 6)\n",
        "plt.savefig('/content/drive/MyDrive/ADAprojet2021/distribution_of_expression_for_men_log_scale.png', bbox_inches='tight')\n",
        "plt.show()\n"
      ],
      "metadata": {
        "colab": {
          "base_uri": "https://localhost:8080/",
          "height": 424
        },
        "id": "QdgNVaKE7l4J",
        "outputId": "9ee1be26-de26-49b7-9954-07b45e16482f"
      },
      "execution_count": null,
      "outputs": [
        {
          "output_type": "stream",
          "name": "stderr",
          "text": [
            "/usr/local/lib/python3.7/dist-packages/seaborn/_decorators.py:43: FutureWarning: Pass the following variable as a keyword arg: x. From version 0.12, the only valid positional argument will be `data`, and passing other arguments without an explicit keyword will result in an error or misinterpretation.\n",
            "  FutureWarning\n"
          ]
        },
        {
          "output_type": "display_data",
          "data": {
            "image/png": "[encoded data removed]",
            "text/plain": [
              "<Figure size 720x432 with 1 Axes>"
            ]
          },
          "metadata": {
            "needs_background": "light"
          }
        }
      ]
    },
    {
      "cell_type": "code",
      "source": [
        "#plotting of the distribution of the expressions used by the women\n",
        "fig = plt.figure()\n",
        "\n",
        "p = sns.countplot(all_women, order = pd.Series(all_women).value_counts().index, color = \"orange\", ) \n",
        "p.set_yscale('log')\n",
        "\n",
        "plt.title(\"Distribution of expressions for the women\", fontsize=15)\n",
        "plt.xlabel(\"Expression\")\n",
        "plt.ylabel(\"Count\")\n",
        "plt.xticks(rotation=45)\n",
        "plt.tight_layout()\n",
        "fig.set_size_inches(10, 6)\n",
        "plt.savefig('/content/drive/MyDrive/ADAprojet2021/distribution_of_expression_for_women_log_scale.png', bbox_inches='tight')\n",
        "plt.show()"
      ],
      "metadata": {
        "colab": {
          "base_uri": "https://localhost:8080/",
          "height": 426
        },
        "id": "inUUrfU4Pu_r",
        "outputId": "810f3409-f186-4c44-f12c-aca6727f434a"
      },
      "execution_count": null,
      "outputs": [
        {
          "output_type": "stream",
          "name": "stderr",
          "text": [
            "/usr/local/lib/python3.7/dist-packages/seaborn/_decorators.py:43: FutureWarning: Pass the following variable as a keyword arg: x. From version 0.12, the only valid positional argument will be `data`, and passing other arguments without an explicit keyword will result in an error or misinterpretation.\n",
            "  FutureWarning\n"
          ]
        },
        {
          "output_type": "display_data",
          "data": {
            "image/png": "[encoded data removed]",
            "text/plain": [
              "<Figure size 720x432 with 1 Axes>"
            ]
          },
          "metadata": {
            "needs_background": "light"
          }
        }
      ]
    },
    {
      "cell_type": "markdown",
      "source": [
        "## Partie du code de Florrete pour les plots finie"
      ],
      "metadata": {
        "id": "plUPK8-n0UTS"
      }
    },
    {
      "cell_type": "code",
      "source": [
        ""
      ],
      "metadata": {
        "id": "slEHgPdS7mEp"
      },
      "execution_count": null,
      "outputs": []
    },
    {
      "cell_type": "code",
      "source": [
        ""
      ],
      "metadata": {
        "id": "1B9TFmNai177"
      },
      "execution_count": null,
      "outputs": []
    },
    {
      "cell_type": "code",
      "source": [
        ""
      ],
      "metadata": {
        "id": "VGK9YTDvi2F8"
      },
      "execution_count": null,
      "outputs": []
    },
    {
      "cell_type": "code",
      "source": [
        "g = sns.displot(data=y.score_max, bins = 20, kde = True, element = 'step', lw=2, height=8, aspect=1.6, color='orange') \n",
        "#g.set_xticklabels() \n",
        "sns.set_style('white')\n",
        "plt.xlabel('Score_max')\n",
        "plt.title(\"Distribution of max scores\", x = 0.5, y = 1, fontsize = 15)\n",
        "plt.tight_layout()\n",
        "plt.savefig('/content/drive/MyDrive/ADAprojet2021/dist_score-max_2020.png', bbox_inches='tight')\n",
        "plt.show()"
      ],
      "metadata": {
        "colab": {
          "base_uri": "https://localhost:8080/",
          "height": 585
        },
        "id": "pX5ff6ocZkOe",
        "outputId": "0566508b-2acb-4a42-8a87-d89d1f057019"
      },
      "execution_count": null,
      "outputs": [
        {
          "output_type": "display_data",
          "data": {
            "image/png": "[encoded data removed]",
            "text/plain": [
              "<Figure size 921.6x576 with 1 Axes>"
            ]
          },
          "metadata": {}
        }
      ]
    },
    {
      "cell_type": "code",
      "source": [
        "sns.displot(data=y.score_mean,  bins = 20, kde = True, element='step', lw = 2, height=8, aspect=1.6) \n",
        "sns.set_style('white')\n",
        "plt.xlabel('Score_mean')\n",
        "plt.title(\"Distribution of mean scores\", x = 0.5, y = 1, fontsize = 15)\n",
        "plt.tight_layout()\n",
        "plt.savefig('/content/drive/MyDrive/ADAprojet2021/dist_score-mean_2020.png', bbox_inches='tight')\n",
        "plt.show()"
      ],
      "metadata": {
        "colab": {
          "base_uri": "https://localhost:8080/",
          "height": 585
        },
        "outputId": "9e8695fd-1364-410a-d25c-fd558de3f165",
        "id": "qukSl1BQuyUj"
      },
      "execution_count": null,
      "outputs": [
        {
          "output_type": "display_data",
          "data": {
            "image/png": "[encoded data removed]",
            "text/plain": [
              "<Figure size 921.6x576 with 1 Axes>"
            ]
          },
          "metadata": {}
        }
      ]
    },
    {
      "cell_type": "code",
      "source": [
        "#quotes['findings_nbr'] = quotes.findings.apply(lambda x: x.size)\n",
        "#quotes['findings'] = quotes.findings.apply(lambda x: np.fromstring(x))\n",
        "#type(quotes.findings)\n",
        "#sns.barplot(x='findings', y='findings_nbr', data=quotes[['findings','findings_nbr']])\n",
        "\n",
        "plt.hist(y.findings.tolist())\n",
        "\n",
        "#type(quotes.findings[45])"
      ],
      "metadata": {
        "colab": {
          "base_uri": "https://localhost:8080/"
        },
        "id": "7fllUDNTxdeh",
        "outputId": "bd759724-f31b-4c85-e785-e780f6a6cf4e"
      },
      "execution_count": null,
      "outputs": [
        {
          "output_type": "stream",
          "name": "stderr",
          "text": [
            "/usr/local/lib/python3.7/dist-packages/numpy/core/_asarray.py:83: VisibleDeprecationWarning: Creating an ndarray from ragged nested sequences (which is a list-or-tuple of lists-or-tuples-or ndarrays with different lengths or shapes) is deprecated. If you meant to do this, you must specify 'dtype=object' when creating the ndarray\n",
            "  return array(a, dtype, copy=False, order=order)\n"
          ]
        }
      ]
    },
    {
      "cell_type": "code",
      "source": [
        "#quotes['findings_nbr'] = quotes.findings.apply(lambda x: x.size)\n",
        "#quotes['findings'] = quotes.findings.apply(lambda x: np.fromstring(x))\n",
        "#type(quotes.findings)\n",
        "#sns.barplot(x='findings', y='findings_nbr', data=quotes[['findings','findings_nbr']])\n",
        "\n",
        "#test = y.findings\n",
        "#test = test.apply(lambda x: if x.size != 1: for i in x.size: )\n",
        "\n",
        "#plt.hist(y.findings.tolist())\n",
        "\n",
        "y.findings.head()"
      ],
      "metadata": {
        "colab": {
          "base_uri": "https://localhost:8080/",
          "height": 201
        },
        "outputId": "a52c759b-d117-4f22-a199-f46033d4eef1",
        "id": "ddPLePeEdUNz"
      },
      "execution_count": null,
      "outputs": [
        {
          "output_type": "error",
          "ename": "NameError",
          "evalue": "ignored",
          "traceback": [
            "\u001b[0;31m---------------------------------------------------------------------------\u001b[0m",
            "\u001b[0;31mNameError\u001b[0m                                 Traceback (most recent call last)",
            "\u001b[0;32m<ipython-input-1-4b761409da4d>\u001b[0m in \u001b[0;36m<module>\u001b[0;34m()\u001b[0m\n\u001b[1;32m      9\u001b[0m \u001b[0;31m#plt.hist(y.findings.tolist())\u001b[0m\u001b[0;34m\u001b[0m\u001b[0;34m\u001b[0m\u001b[0;34m\u001b[0m\u001b[0m\n\u001b[1;32m     10\u001b[0m \u001b[0;34m\u001b[0m\u001b[0m\n\u001b[0;32m---> 11\u001b[0;31m \u001b[0my\u001b[0m\u001b[0;34m.\u001b[0m\u001b[0mfindings\u001b[0m\u001b[0;34m.\u001b[0m\u001b[0mhead\u001b[0m\u001b[0;34m(\u001b[0m\u001b[0;34m)\u001b[0m\u001b[0;34m\u001b[0m\u001b[0;34m\u001b[0m\u001b[0m\n\u001b[0m",
            "\u001b[0;31mNameError\u001b[0m: name 'y' is not defined"
          ]
        }
      ]
    },
    {
      "cell_type": "markdown",
      "metadata": {
        "id": "0vcltWgpGoXe"
      },
      "source": [
        "# CODE DE FLORETTE:\n"
      ]
    },
    {
      "cell_type": "code",
      "execution_count": null,
      "metadata": {
        "id": "k9JsuJQyGnyb"
      },
      "outputs": [],
      "source": [
        "#si besoin\n",
        "#pip install -U sentence-transformers\n",
        "\n",
        "#test de comparaison semantique avec des trucs randoms\n",
        "\n",
        "sentences = [\n",
        "    \"Three years later, the coffin was still full of Jello.\",\n",
        "    \"The fish dreamed of escaping the fishbowl and into the toilet where he saw his friend go.\",\n",
        "    \"The person box was packed with jelly many dozens of months later.\",\n",
        "    \"He found a leprechaun in his walnut shell.\"\n",
        "]\n",
        "\n",
        "from sentence_transformers import SentenceTransformer\n",
        "\n",
        "model = SentenceTransformer(r'C:\\Users\\flore\\Desktop\\EPFL\\MA1\\ada\\PROJET\\pretrained_model') #'bert-base-nli-mean-tokens'\n",
        "\n",
        "sentence_embeddings = model.encode(sentences)\n",
        "\n",
        "from sklearn.metrics.pairwise import cosine_similarity\n",
        "\n",
        "cosine_similarity(\n",
        "    [sentence_embeddings[0]],\n",
        "    sentence_embeddings[1:]"
      ]
    },
    {
      "cell_type": "code",
      "execution_count": null,
      "metadata": {
        "id": "eFNAId2eGu5e"
      },
      "outputs": [],
      "source": [
        "#test de comparaison semantique de quelques une de nos citations avec une des phrases types du paper\n",
        "#j'ai fait comme dans un exemple de BERT que j'ai trouvé sur internet. j'ai pris le pretrained model all-MiniLM-L6-v2\n",
        "\n",
        "\n",
        "#note: normalement pas besoin d'avoir le model sur l'ordi, il suffit de mettre le nom 'all-MiniLM-L6-v2' et SentenceTransformer va le chercher tout seul sur internet, mais là il y a un bug genre ajd, \n",
        "#donc j'ai téléchargé le model sur mon ordi et mis le path\n",
        "from sentence_transformers import SentenceTransformer\n",
        "model = SentenceTransformer(r'C:\\Users\\flore\\Desktop\\EPFL\\MA1\\ada\\PROJET\\pretrained_model') #with model all-MiniLM-L6-v2' # or use 'bert-base-nli-mean-tokens'\n",
        "\n",
        "\n",
        "#Extract a small part of the whole file to test \n",
        "path = r'C:\\Users\\flore\\Desktop\\EPFL\\MA1\\ada\\PROJET\\quotes-2020-precessed.json.bz2' #path de mon ordi\n",
        "test = pd.DataFrame(columns=('qids','quotation'))\n",
        "i = 0\n",
        "with bz2.open(path, 'rb') as s_file:\n",
        "  for instance in s_file:\n",
        "    instance = json.loads(instance) \n",
        "    print(instance)\n",
        "    #print(instance['quotation'])\n",
        "    i = i + 1\n",
        "    test = test.append({'quoteID': instance['quoteID'], 'quotation': instance['quotation']}, ignore_index=True)\n",
        "    #print(i)\n",
        "    if i == 10:\n",
        "      break\n",
        "\n",
        "#embedding des 10 citations\n",
        "sentence_embeddings = model.encode(test['quotation'])\n",
        "\n",
        "#comparaison avec une des phrase du paper: cosine similarity\n",
        "from sklearn.metrics.pairwise import cosine_similarity\n",
        "to_compare = [\"I'm sure it's\"]\n",
        "to_compare_embedding = model.encode(to_compare)\n",
        "\n",
        "cosine_similarity(\n",
        "    [to_compare_embedding[0]],\n",
        "    sentence_embeddings[0:]\n",
        ")\n",
        "\n",
        "#l'output ets un array des coefficients de similarité (là ils osnt tous ba vu qu'aucune citation n'a un truc prche de I'm sure it's)"
      ]
    },
    {
      "cell_type": "code",
      "execution_count": null,
      "metadata": {
        "id": "knH5ZFniGywc"
      },
      "outputs": [],
      "source": [
        "#autre test avec le début de citation pour voir si il donne bien un score plus élevé pour cette citation\n",
        "to_compare_2 = [\"Department of Homeland Security was livid and\"]\n",
        "to_compare_2_embedding = model.encode(to_compare_2)\n",
        "\n",
        "cosine_similarity(\n",
        "    [to_compare_2_embedding[0]],\n",
        "    sentence_embeddings[0:]\n",
        ")\n",
        "#le premier est bien plus élevé"
      ]
    },
    {
      "cell_type": "markdown",
      "source": [
        ""
      ],
      "metadata": {
        "id": "Ci_Uj9IcT_kZ"
      }
    },
    {
      "cell_type": "markdown",
      "source": [
        "# to do list (avec ± l'ordre)"
      ],
      "metadata": {
        "id": "wJfKBdzBUCUI"
      }
    },
    {
      "cell_type": "markdown",
      "source": [
        "- ajouter les citations au passé MAEVA 🆗\n",
        "\n",
        "- faire des chunks dataframe avec le set entier pour faire les manipulations dessus et stocker dans pickle\n",
        "NAOMI\n",
        "\n",
        "- choisir quelles expressions qu'on garde MAEVA 🆗\n",
        "\n",
        "- comparaison avec la prise en compte du temps (deja codé) MAEVA 🆗\n",
        "\n",
        "- aggreger les scores (mean/max) pour les comparaisons exactes.\n",
        "MAEVA 🆗\n",
        "\n",
        "- graph pour les deux types d'aggregats (distribution) 2 : ALEXY 🆗\n",
        "\n",
        "- stats !! Mettre les deviations standards (MAEVA) MAEVA 🆗\n",
        "\n",
        "- graphes des distributions des expressions exactement \n",
        "ALEXY\n",
        "\n",
        "- faire les n-grams/ou chunks\n",
        "FLORETTE\n",
        "\n",
        "- distributions des elements les plus utilisés en general ALEXY\n",
        "\n",
        "- faire les similarités FLORETTE\n",
        "\n",
        "- definir un threshold de similarité : bon sens TOUS ~0.7\n",
        "\n",
        "- aggreger les scores comme avant MAEVA\n",
        "\n",
        "- merger avec les speakers\n",
        "NAOMI\n",
        "\n",
        "- faire les tests statistiques H/F MAEVA\n",
        "\n",
        "- faire les tests statistiques avec les personnes du congrès  MAEVA\n",
        "\n",
        "- faire les distributions des mots les plus utilisés/expressions les plus utilisées par les speakers les plus confidents (sentiment analysis si on a le temps ca serait cool) ALEXY\n",
        "\n",
        "- faire un lien avec l'article et comparer a quel point resultats sont similaires à l'étude NAOMI\n",
        "\n",
        "- Trouver des visualisations sympathiques (plotly) ALEXY\n"
      ],
      "metadata": {
        "id": "znuCnQzwUM8P"
      }
    },
    {
      "cell_type": "code",
      "source": [
        ""
      ],
      "metadata": {
        "id": "5obbA0qTUGEK"
      },
      "execution_count": null,
      "outputs": []
    }
  ],
  "metadata": {
    "colab": {
      "collapsed_sections": [
        "5E6s11nPpS1S",
        "jImkrItnY9wA",
        "6kpooZQ3s3od",
        "GmVrSNIMqNFd",
        "gbhEbKWw75LC",
        "RJZMkIKi4y2y",
        "T7pNLSUcvqwR"
      ],
      "name": "plots florette.ipynb",
      "provenance": []
    },
    "kernelspec": {
      "display_name": "Python 3",
      "language": "python",
      "name": "python3"
    },
    "language_info": {
      "codemirror_mode": {
        "name": "ipython",
        "version": 3
      },
      "file_extension": ".py",
      "mimetype": "text/x-python",
      "name": "python",
      "nbconvert_exporter": "python",
      "pygments_lexer": "ipython3",
      "version": "3.8.3"
    }
  },
  "nbformat": 4,
  "nbformat_minor": 0
}