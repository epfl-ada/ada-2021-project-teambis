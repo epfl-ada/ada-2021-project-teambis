{
  "nbformat": 4,
  "nbformat_minor": 0,
  "metadata": {
    "colab": {
      "name": "Plots_naomi.ipynb",
      "provenance": []
    },
    "kernelspec": {
      "name": "python3",
      "display_name": "Python 3"
    },
    "language_info": {
      "name": "python"
    }
  },
  "cells": [
    {
      "cell_type": "code",
      "metadata": {
        "colab": {
          "base_uri": "https://localhost:8080/",
          "height": 324
        },
        "id": "pKubAlE63kwQ",
        "outputId": "2ccc7a12-4be1-488d-a476-3a35c48f325a"
      },
      "source": [
        "from google.colab import drive\n",
        "drive.mount('/content/drive')"
      ],
      "execution_count": null,
      "outputs": [
        {
          "output_type": "error",
          "ename": "MessageError",
          "evalue": "ignored",
          "traceback": [
            "\u001b[0;31m---------------------------------------------------------------------------\u001b[0m",
            "\u001b[0;31mMessageError\u001b[0m                              Traceback (most recent call last)",
            "\u001b[0;32m<ipython-input-1-d5df0069828e>\u001b[0m in \u001b[0;36m<module>\u001b[0;34m()\u001b[0m\n\u001b[1;32m      1\u001b[0m \u001b[0;32mfrom\u001b[0m \u001b[0mgoogle\u001b[0m\u001b[0;34m.\u001b[0m\u001b[0mcolab\u001b[0m \u001b[0;32mimport\u001b[0m \u001b[0mdrive\u001b[0m\u001b[0;34m\u001b[0m\u001b[0;34m\u001b[0m\u001b[0m\n\u001b[0;32m----> 2\u001b[0;31m \u001b[0mdrive\u001b[0m\u001b[0;34m.\u001b[0m\u001b[0mmount\u001b[0m\u001b[0;34m(\u001b[0m\u001b[0;34m'/content/drive'\u001b[0m\u001b[0;34m)\u001b[0m\u001b[0;34m\u001b[0m\u001b[0;34m\u001b[0m\u001b[0m\n\u001b[0m",
            "\u001b[0;32m/usr/local/lib/python3.7/dist-packages/google/colab/drive.py\u001b[0m in \u001b[0;36mmount\u001b[0;34m(mountpoint, force_remount, timeout_ms, use_metadata_server)\u001b[0m\n\u001b[1;32m    111\u001b[0m       \u001b[0mtimeout_ms\u001b[0m\u001b[0;34m=\u001b[0m\u001b[0mtimeout_ms\u001b[0m\u001b[0;34m,\u001b[0m\u001b[0;34m\u001b[0m\u001b[0;34m\u001b[0m\u001b[0m\n\u001b[1;32m    112\u001b[0m       \u001b[0muse_metadata_server\u001b[0m\u001b[0;34m=\u001b[0m\u001b[0muse_metadata_server\u001b[0m\u001b[0;34m,\u001b[0m\u001b[0;34m\u001b[0m\u001b[0;34m\u001b[0m\u001b[0m\n\u001b[0;32m--> 113\u001b[0;31m       ephemeral=ephemeral)\n\u001b[0m\u001b[1;32m    114\u001b[0m \u001b[0;34m\u001b[0m\u001b[0m\n\u001b[1;32m    115\u001b[0m \u001b[0;34m\u001b[0m\u001b[0m\n",
            "\u001b[0;32m/usr/local/lib/python3.7/dist-packages/google/colab/drive.py\u001b[0m in \u001b[0;36m_mount\u001b[0;34m(mountpoint, force_remount, timeout_ms, use_metadata_server, ephemeral)\u001b[0m\n\u001b[1;32m    134\u001b[0m   \u001b[0;32mif\u001b[0m \u001b[0mephemeral\u001b[0m\u001b[0;34m:\u001b[0m\u001b[0;34m\u001b[0m\u001b[0;34m\u001b[0m\u001b[0m\n\u001b[1;32m    135\u001b[0m     _message.blocking_request(\n\u001b[0;32m--> 136\u001b[0;31m         'request_auth', request={'authType': 'dfs_ephemeral'}, timeout_sec=None)\n\u001b[0m\u001b[1;32m    137\u001b[0m \u001b[0;34m\u001b[0m\u001b[0m\n\u001b[1;32m    138\u001b[0m   \u001b[0mmountpoint\u001b[0m \u001b[0;34m=\u001b[0m \u001b[0m_os\u001b[0m\u001b[0;34m.\u001b[0m\u001b[0mpath\u001b[0m\u001b[0;34m.\u001b[0m\u001b[0mexpanduser\u001b[0m\u001b[0;34m(\u001b[0m\u001b[0mmountpoint\u001b[0m\u001b[0;34m)\u001b[0m\u001b[0;34m\u001b[0m\u001b[0;34m\u001b[0m\u001b[0m\n",
            "\u001b[0;32m/usr/local/lib/python3.7/dist-packages/google/colab/_message.py\u001b[0m in \u001b[0;36mblocking_request\u001b[0;34m(request_type, request, timeout_sec, parent)\u001b[0m\n\u001b[1;32m    173\u001b[0m   request_id = send_request(\n\u001b[1;32m    174\u001b[0m       request_type, request, parent=parent, expect_reply=True)\n\u001b[0;32m--> 175\u001b[0;31m   \u001b[0;32mreturn\u001b[0m \u001b[0mread_reply_from_input\u001b[0m\u001b[0;34m(\u001b[0m\u001b[0mrequest_id\u001b[0m\u001b[0;34m,\u001b[0m \u001b[0mtimeout_sec\u001b[0m\u001b[0;34m)\u001b[0m\u001b[0;34m\u001b[0m\u001b[0;34m\u001b[0m\u001b[0m\n\u001b[0m",
            "\u001b[0;32m/usr/local/lib/python3.7/dist-packages/google/colab/_message.py\u001b[0m in \u001b[0;36mread_reply_from_input\u001b[0;34m(message_id, timeout_sec)\u001b[0m\n\u001b[1;32m    104\u001b[0m         reply.get('colab_msg_id') == message_id):\n\u001b[1;32m    105\u001b[0m       \u001b[0;32mif\u001b[0m \u001b[0;34m'error'\u001b[0m \u001b[0;32min\u001b[0m \u001b[0mreply\u001b[0m\u001b[0;34m:\u001b[0m\u001b[0;34m\u001b[0m\u001b[0;34m\u001b[0m\u001b[0m\n\u001b[0;32m--> 106\u001b[0;31m         \u001b[0;32mraise\u001b[0m \u001b[0mMessageError\u001b[0m\u001b[0;34m(\u001b[0m\u001b[0mreply\u001b[0m\u001b[0;34m[\u001b[0m\u001b[0;34m'error'\u001b[0m\u001b[0;34m]\u001b[0m\u001b[0;34m)\u001b[0m\u001b[0;34m\u001b[0m\u001b[0;34m\u001b[0m\u001b[0m\n\u001b[0m\u001b[1;32m    107\u001b[0m       \u001b[0;32mreturn\u001b[0m \u001b[0mreply\u001b[0m\u001b[0;34m.\u001b[0m\u001b[0mget\u001b[0m\u001b[0;34m(\u001b[0m\u001b[0;34m'data'\u001b[0m\u001b[0;34m,\u001b[0m \u001b[0;32mNone\u001b[0m\u001b[0;34m)\u001b[0m\u001b[0;34m\u001b[0m\u001b[0;34m\u001b[0m\u001b[0m\n\u001b[1;32m    108\u001b[0m \u001b[0;34m\u001b[0m\u001b[0m\n",
            "\u001b[0;31mMessageError\u001b[0m: Error: credential propagation was unsuccessful"
          ]
        }
      ]
    },
    {
      "cell_type": "markdown",
      "source": [
        "Plot of the distribution genders among speakers:"
      ],
      "metadata": {
        "id": "jjgvBgbGGTcM"
      }
    },
    {
      "cell_type": "code",
      "source": [
        "#load the file with speakers, includes quote_nbr (after merging with quotes) (2020)\n",
        "path_to_file = '/content/drive/MyDrive/ADAprojet2021/speakers-2020-quote_nbr.json.bz2'\n",
        "df_quote_nbr = pd.read_json(path_to_file, compression = 'bz2', orient = 'records')"
      ],
      "metadata": {
        "id": "yEcD9VuYGnt2"
      },
      "execution_count": null,
      "outputs": []
    },
    {
      "cell_type": "code",
      "metadata": {
        "id": "puPuY1Qo3rSU"
      },
      "source": [
        "#plot distribution of genders among speakers (2020)\n",
        "fig = plt.figure()\n",
        "fig.set_figheight(6)\n",
        "fig.set_figwidth(10)\n",
        "df_quote_nbr.gender.value_counts().plot(kind='bar')\n",
        "plt.title(\"Number of speakers of each gender \", fontsize=20)\n",
        "plt.xlabel(\"Gender\", fontsize=15)\n",
        "plt.ylabel(\"Numbers of individuals\", fontsize=15)\n",
        "plt.yscale('log')\n",
        "labels = ['male','female','transgender female','non-binary','transgender male','genderfluid','genderqueer', \n",
        "           'agender','third gender','neutrois', 'shemale'] #labels a changer si on change fichier de base cêst chiant if faut mettre en manierl, sinon ça met les qid\n",
        "plt.xticks(ticks = np.arange(11), labels = labels, rotation=45, fontsize=8)\n",
        "plt.savefig('/content/drive/MyDrive/ADAprojet2021/gender_speaker.png', bbox_inches='tight')\n",
        "plt.show()"
      ],
      "execution_count": null,
      "outputs": []
    },
    {
      "cell_type": "markdown",
      "source": [
        "Plot the number of quotes per speaker (distribution):"
      ],
      "metadata": {
        "id": "R9kocELrJ6i9"
      }
    },
    {
      "cell_type": "code",
      "source": [
        "#plot de la distribution de quotes par speaker\n",
        "fig = plt.figure()\n",
        "fig.set_figheight(6)\n",
        "fig.set_figwidth(10)\n",
        "sns.histplot(data= df_quote_nbr, x= 'quote_nbr', binwidth=1000) #binwidth potentiellement à ajuster\n",
        "sns.set_style('white')\n",
        "plt.xlabel('Number of quotes per speaker', fontsize=15)\n",
        "plt.title(\"Distribution of the number of quotes per speaker\", x = 0.5, y = 1, fontsize = 20)\n",
        "plt.yscale('symlog')\n",
        "plt.ylabel(\"Numbers of speakers\", fontsize=15)\n",
        "plt.yticks(fontsize=8)\n",
        "plt.xticks(fontsize=8)\n",
        "#plt.xscale('log')\n",
        "plt.tight_layout()\n",
        "plt.savefig('/content/drive/MyDrive/ADAprojet2021/quote_speaker.png', bbox_inches='tight')\n",
        "plt.show()"
      ],
      "metadata": {
        "id": "WAFb2XOaKEDC"
      },
      "execution_count": null,
      "outputs": []
    },
    {
      "cell_type": "markdown",
      "source": [
        "Plot the gender distribution among quotes:"
      ],
      "metadata": {
        "id": "8zM0Gj6THtvY"
      }
    },
    {
      "cell_type": "code",
      "source": [
        "#plot du nbr de quote par genre\n",
        "plot = df_quote_nbr.groupby(['gender']).quote_nbr.sum()\n",
        "plot = plot.sort_values(ascending=False)\n",
        "plot = plot[plot != 0]\n",
        "fig = plt.figure()\n",
        "fig.set_figheight(6)\n",
        "fig.set_figwidth(10)\n",
        "plot.plot(kind = 'bar')\n",
        "plt.title(\"Number of quotes per gender \", fontsize=20)\n",
        "plt.xlabel(\"Gender\", fontsize=15)\n",
        "plt.ylabel(\"Numbers of quotes\", fontsize=15)\n",
        "plt.yscale('log')\n",
        "labels = ['male', 'female', 'transgender female', 'non-binary', 'genderfluid', \n",
        " 'transgender male', 'shemale', 'genderqueer', 'agender', 'third gender', 'neutrois']# pareil il faut changer si on change de dataset\n",
        "plt.xticks(ticks = np.arange(11), labels = labels, rotation=45, fontsize=8)#le np.arange aussi si jamais y'a pas le meme nombre de gender\n",
        "\n",
        "plt.yticks(fontsize=8)\n",
        "plt.savefig('/content/drive/MyDrive/ADAprojet2021/gender_quote.png', bbox_inches='tight')\n",
        "plt.show()"
      ],
      "metadata": {
        "id": "Zh2N9rdhHnjl"
      },
      "execution_count": null,
      "outputs": []
    },
    {
      "cell_type": "code",
      "source": [
        "#series with sum of quote_nbr for male, female and other\n",
        "plot = df_quote_nbr.gender.value_counts()\n",
        "plot.index = np.arange(plot_bis.size).tolist()\n",
        "plot.iloc[2] = plot_bis.iloc[2:].sum()\n",
        "plot = plot_bis.drop(plot_bis.index[3:])\n",
        "plot.index = ['male','female','other']\n",
        "plot = plot_bis/plot_bis.sum()\n",
        "\n",
        "#pie chart with \"contribution\" of each gender to total quotes\n",
        "fig, ax = plt.subplots()\n",
        "fig.set_figwidth(8)\n",
        "plt.title(\"Percentage of quotes by each gender\", fontsize=15)\n",
        "ax.pie(plot, labels=plot.index, autopct='%1.1f%%', startangle=90)\n",
        "ax.axis('equal')  # Equal aspect ratio ensures that pie is drawn as a circle.\n",
        "plt.savefig('/content/drive/MyDrive/ADAprojet2021/piechart.png', bbox_inches='tight')\n",
        "plt.show()"
      ],
      "metadata": {
        "id": "woALsCDaIVP1"
      },
      "execution_count": null,
      "outputs": []
    }
  ]
}