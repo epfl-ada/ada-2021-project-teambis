{
 "cells": [
  {
   "cell_type": "markdown",
   "id": "f3e1d20f-abd8-4803-9884-53549b52ae76",
   "metadata": {},
   "source": [
    "### Idea 1:\n",
    "A first idea would be to study the number of citations quoting the name of politicians, to study the evolution along time (particularly to see the evolution before and during the elections) of the total number of citations quoting politicians, and also this for each politician to compare them to each other. We could try to see if there is a correlation with the results of the elections. It would also be interesting to look if politicians quote them to each other: for example, to look if a politician A quote other politicians and in what extent, and if he quotes all the other politicians or if he quotes one politician B in particular. In this case, we could look if this politician B also largely quote the politician A. To do this, we could use QuoteBank and search for the citations of politician people, and then search politician’s name in these citations. Then we could analyse the data, search for correlation, and visualise them for easy comparison. \n",
    "\n",
    "\n",
    "### Idea 2:\n",
    "A second idea would be to study the evolution of the number of women’s citations vs the number of men’s citations along time, the length of the citations, their subject (politic, sport, temonioning, quotidian life, …), the evolution for each subject.  To do this, we could use databases containing names associated with the most common sex for this name (we can find some database on internet, for example on “data.world” there is a database containing name and sex obtained from Social Security card applications for births that occurred in the United States after 1879. We could search several databases of this type, and merge them to construct our big name - most common associated sex database). We could then check the most common sex in this database for each speaker of citations in Quotebank. An imprecision could be that some names are used for both sexes. Another possibility could be to use Wikipedia’s database: to look for each speaker his informations on Wikipedia to determine his sex. But this will not be possible for people with no information on Wikipedia. So maybe the best option would be to use both options: if the speaker is on Wikipedia, the best choice would be to uses the Wikipedia database, and if not, we could look for the most common sex on our name-sex database.\n",
    "\n",
    "\n",
    "### Idea 3:\n",
    "A third idea of project could be to study outlanders’ citations. We could look how much state’s newspapers quote stranger people: 1) global study at the USA level, for quotation of people from other nationality, and 2) study at the states level: for each state, study the quotation of people established in different states. It would be interesting to compare this for the different states, to see if some states tend to quote their own people more. We could also look at the evolution along time. For this we could use the Quotebank database, and a database containing names of journals and the state which produce them. \n",
    "\n",
    "\n",
    "### Feedback: \n",
    "Needs minor improvements\n",
    "Some ideas can work, but if you have to choose one among these, we would suggest to develop Idea 1 or Idea 3 trying to give more details from a technical point of view. Below the comments for each idea:\n",
    "\n",
    "#### Idea 1\n",
    "Maybe it is not enough to search for quotations containing names of other politicians. First of all, you have to distinguish if a person is a politician or not, then you could think of creating a graph to have a global overview.\n",
    "\n",
    "#### Idea 2\n",
    "You basically want to determine the sex of each speaker, but, then, which kind of analysis would you perform?\n",
    "\n",
    "#### Idea 3\n",
    "Okay, this could be a good idea and you can think about developing more. Try to think how you would reach the objective.\n"
   ]
  }
 ],
 "metadata": {
  "kernelspec": {
   "display_name": "Python 3",
   "language": "python",
   "name": "python3"
  },
  "language_info": {
   "codemirror_mode": {
    "name": "ipython",
    "version": 3
   },
   "file_extension": ".py",
   "mimetype": "text/x-python",
   "name": "python",
   "nbconvert_exporter": "python",
   "pygments_lexer": "ipython3",
   "version": "3.8.8"
  }
 },
 "nbformat": 4,
 "nbformat_minor": 5
}
