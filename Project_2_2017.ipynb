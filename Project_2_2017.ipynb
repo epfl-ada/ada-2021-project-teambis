{
  "cells": [
    {
      "cell_type": "markdown",
      "metadata": {
        "id": "oA_fe4oxWT6p"
      },
      "source": [
        "# Applied data analysis\n",
        "## Self-confidence through quotations:\n",
        "\n"
      ]
    },
    {
      "cell_type": "markdown",
      "source": [
        "# Set the environment properly "
      ],
      "metadata": {
        "id": "YK_J_Eag8RRI"
      }
    },
    {
      "cell_type": "markdown",
      "metadata": {
        "id": "dnXvjWR9NWvZ"
      },
      "source": [
        "### Mount the Google Drive in order to access to the files which are located on our drive\n"
      ]
    },
    {
      "cell_type": "code",
      "execution_count": 1,
      "metadata": {
        "colab": {
          "base_uri": "https://localhost:8080/"
        },
        "id": "CEcIlRwfWY4C",
        "outputId": "b71f8b42-2c04-435d-ef8f-8018dc26d9c2"
      },
      "outputs": [
        {
          "output_type": "stream",
          "name": "stdout",
          "text": [
            "Mounted at /content/drive\n"
          ]
        }
      ],
      "source": [
        "from google.colab import drive\n",
        "drive._mount('/content/drive')"
      ]
    },
    {
      "cell_type": "markdown",
      "metadata": {
        "id": "5E6s11nPpS1S"
      },
      "source": [
        "### Install and import every packages that will be necessary for the analysis"
      ]
    },
    {
      "cell_type": "code",
      "execution_count": 2,
      "metadata": {
        "colab": {
          "base_uri": "https://localhost:8080/"
        },
        "id": "WDFHjZ-DpMXi",
        "outputId": "ec7a05e5-678b-447e-e689-5bf51f26f141"
      },
      "outputs": [
        {
          "output_type": "stream",
          "name": "stdout",
          "text": [
            "Collecting pickle-mixin\n",
            "  Downloading pickle-mixin-1.0.2.tar.gz (5.1 kB)\n",
            "Building wheels for collected packages: pickle-mixin\n",
            "  Building wheel for pickle-mixin (setup.py) ... \u001b[?25l\u001b[?25hdone\n",
            "  Created wheel for pickle-mixin: filename=pickle_mixin-1.0.2-py3-none-any.whl size=6008 sha256=bbf2e236603672b00bcb07d885b1d256045fb4bacd65cbf2ba51f3c84cb096af\n",
            "  Stored in directory: /root/.cache/pip/wheels/d0/70/0b/673e09a7ed429660d22352a1b117b4f616a8fc054bdd7eb157\n",
            "Successfully built pickle-mixin\n",
            "Installing collected packages: pickle-mixin\n",
            "Successfully installed pickle-mixin-1.0.2\n",
            "Requirement already satisfied: pyarrow in /usr/local/lib/python3.7/dist-packages (3.0.0)\n",
            "Requirement already satisfied: numpy>=1.16.6 in /usr/local/lib/python3.7/dist-packages (from pyarrow) (1.19.5)\n",
            "Requirement already satisfied: pathlib in /usr/local/lib/python3.7/dist-packages (1.0.1)\n",
            "Collecting contractions\n",
            "  Downloading contractions-0.0.58-py2.py3-none-any.whl (8.0 kB)\n",
            "Collecting textsearch>=0.0.21\n",
            "  Downloading textsearch-0.0.21-py2.py3-none-any.whl (7.5 kB)\n",
            "Collecting pyahocorasick\n",
            "  Downloading pyahocorasick-1.4.2.tar.gz (321 kB)\n",
            "\u001b[K     |████████████████████████████████| 321 kB 5.4 MB/s \n",
            "\u001b[?25hCollecting anyascii\n",
            "  Downloading anyascii-0.3.0-py3-none-any.whl (284 kB)\n",
            "\u001b[K     |████████████████████████████████| 284 kB 47.7 MB/s \n",
            "\u001b[?25hBuilding wheels for collected packages: pyahocorasick\n",
            "  Building wheel for pyahocorasick (setup.py) ... \u001b[?25l\u001b[?25hdone\n",
            "  Created wheel for pyahocorasick: filename=pyahocorasick-1.4.2-cp37-cp37m-linux_x86_64.whl size=85453 sha256=2c6d2ddb6b1ecd725b54e5679df1ef7d4539e588c3309845d83bac15dd446713\n",
            "  Stored in directory: /root/.cache/pip/wheels/25/19/a6/8f363d9939162782bb8439d886469756271abc01f76fbd790f\n",
            "Successfully built pyahocorasick\n",
            "Installing collected packages: pyahocorasick, anyascii, textsearch, contractions\n",
            "Successfully installed anyascii-0.3.0 contractions-0.0.58 pyahocorasick-1.4.2 textsearch-0.0.21\n"
          ]
        }
      ],
      "source": [
        "!pip install pickle-mixin\n",
        "!pip install pyarrow\n",
        "!pip install pathlib\n",
        "!pip install contractions\n",
        "\n",
        "\n",
        "import pyarrow\n",
        "import pandas as pd\n",
        "import numpy as np\n",
        "import pathlib\n",
        "from datetime import datetime\n",
        "import sys\n",
        "import bz2\n",
        "import json\n",
        "import pickle\n",
        "import seaborn as sns\n",
        "import matplotlib.pyplot as plt"
      ]
    },
    {
      "cell_type": "markdown",
      "metadata": {
        "id": "jImkrItnY9wA"
      },
      "source": [
        "# Preprocessing of the data\n",
        "\n"
      ]
    },
    {
      "cell_type": "code",
      "execution_count": 3,
      "metadata": {
        "id": "XsgGgvy_Qte3"
      },
      "outputs": [],
      "source": [
        "# The following function allows to only keep the attributes when a single evalue is given. \n",
        "#The function replaces array of size 1 by its first element\n",
        "#Indeed, some attributes are associated with an array of value, to make sure that the value we will use is the correct one, \n",
        "#we simple get rid of multiple valued element by replacing them with a 'Nan' value.\n",
        "\n",
        "def rem_mult(array):\n",
        "  if isinstance(array, np.ndarray):\n",
        "    if array.size == 1 :\n",
        "      array = array[0]\n",
        "    else :\n",
        "      array = np.nan\n",
        "  return array\n"
      ]
    },
    {
      "cell_type": "markdown",
      "metadata": {
        "id": "cKUy29h68N0J"
      },
      "source": [
        "#### Extracting the relevant data from the original files and saving them in a new file\n"
      ]
    },
    {
      "cell_type": "code",
      "execution_count": null,
      "metadata": {
        "id": "t7BjB7AW9qst"
      },
      "outputs": [],
      "source": [
        "path_to_file = '/content/drive/MyDrive/ADAprojet2021/Quotebank/quotes-2017.json.bz2' \n",
        "path_to_out = '/content/drive/MyDrive/ADAprojet2021/quotes-2017-clean.json.bz2'\n",
        "\n",
        "\n",
        "quotes_size =[]\n",
        "with bz2.open(path_to_out, 'wb') as d_file:\n",
        "    with bz2.open(path_to_file, 'rb') as s_file:\n",
        "        for instance in s_file:\n",
        "            instance = json.loads(instance) # loading a sample as a dictionnary\n",
        "            if (instance['speaker'] != 'None' and len(instance['qids']) == 1):\n",
        "              #Get rid of the quotes associated with no speaker as well as \n",
        "              # quotes associated with multiple qids\n",
        "                instance_out = {}\n",
        "                instance_out['speaker'] = instance['speaker']\n",
        "                instance_out['qids'] = instance['qids']\n",
        "                #remove [ and ] \n",
        "                instance_out['quotation'] = instance['quotation'].replace(\"[ \", \"\").replace(\" ]\", \"\")      \n",
        "                size = len(instance_out['quotation'].split())\n",
        "                quotes_size.append(size)\n",
        "                #Add the size of the quote in our new file\n",
        "                instance_out['size'] = size \n",
        "                d_file.write((json.dumps(instance_out)+'\\n').encode('utf-8')) # writing in the new file\n",
        "            "
      ]
    },
    {
      "cell_type": "markdown",
      "metadata": {
        "id": "6kpooZQ3s3od"
      },
      "source": [
        "## First step: pre-process the quotation\n",
        "\n",
        "  Indeed, since the whole analysis for this project is based on the quotations so it is important to keep only the quotations with comparable size\n"
      ]
    },
    {
      "cell_type": "code",
      "execution_count": null,
      "metadata": {
        "id": "aHMv0FD0Eh_W"
      },
      "outputs": [],
      "source": [
        "#See the distribution of the quotation length:\n",
        "sns.displot(data= quotes_size, kde = True, height=8, aspect=1.6) \n",
        "sns.set_style('white')\n",
        "plt.xlabel('Number of word in the quote')\n",
        "plt.title(\"Distribution of the number of word in the different quote\", x = 0.5, y = 1, fontsize = 15)\n",
        "plt.tight_layout()\n",
        "plt.savefig('/content/drive/MyDrive/ADAprojet2021/dist_quotes_2017.png', bbox_inches='tight')\n",
        "plt.show()"
      ]
    },
    {
      "cell_type": "markdown",
      "metadata": {
        "id": "0vOPobprkF2h"
      },
      "source": [
        "According to the distribution, the majority of the quotes are at most 100-words-long. In order to make sure that we analyse complete sentences, we are only going to keep sentences in a range 5 to 100 words long.\n"
      ]
    },
    {
      "cell_type": "code",
      "execution_count": null,
      "metadata": {
        "id": "-DzdyDHiwL9j"
      },
      "outputs": [],
      "source": [
        "#According to the distribution of the number of word in the quotes, we can select only the quotes containg between 5 and 100 words to make sure that we analyse at least one complete sentence.\n",
        "\n",
        "path_to_file = '/content/drive/MyDrive/ADAprojet2021/quotes-2017-clean.json.bz2'\n",
        "path_to_out= '/content/drive/MyDrive/ADAprojet2021/quotes-2017-processed.json.bz2'\n",
        "quotes_size1 =[]\n",
        "\n",
        "with bz2.open(path_to_out, 'wb') as d_file:\n",
        "    with bz2.open(path_to_file, 'rb') as s_file:\n",
        "        for instance in s_file:\n",
        "            instance = json.loads(instance) \n",
        "\n",
        "            if (5<= instance['size'] <= 100):\n",
        "              #We only copy the line associated with the qotation size between 5 and 100:\n",
        "                instance_out = instance\n",
        "\n",
        "                size = len(instance_out['quotation'].split())\n",
        "                quotes_size1.append(size)\n",
        "                d_file.write((json.dumps(instance_out)+'\\n').encode('utf-8'))\n",
        "\n"
      ]
    },
    {
      "cell_type": "code",
      "execution_count": null,
      "metadata": {
        "id": "FnzapNhNP6N_"
      },
      "outputs": [],
      "source": [
        "sns.displot(data= quotes_size1, kde = True, height=8, aspect=1.6) \n",
        "sns.set_style('white')\n",
        "plt.xlabel('Number of word in the quote')\n",
        "plt.title(\"Distribution of the number of word in the different quote\", x = 0.5, y = 1, fontsize = 15)\n",
        "plt.tight_layout()\n",
        "plt.savefig('/content/drive/MyDrive/ADAprojet2021/dist_quotes_processed_2017.png', bbox_inches='tight')\n",
        "plt.show()"
      ]
    },
    {
      "cell_type": "markdown",
      "metadata": {
        "id": "GmVrSNIMqNFd"
      },
      "source": [
        "## Second step : Pre-process the speakers attributes"
      ]
    },
    {
      "cell_type": "markdown",
      "metadata": {
        "id": "q3FnKKxRpiOw"
      },
      "source": [
        "During this analysis we are going to use some attributes of the speakers such as their gender, their qids ,their nationality and their US congress bio ID, if there is one.\n",
        "\n",
        "These extracted attributes will be save in a new file.\n",
        "\n",
        "The qIDs are kept so they will allow us to navigate between the quote file and the speaker file."
      ]
    },
    {
      "cell_type": "code",
      "execution_count": null,
      "metadata": {
        "id": "qGmQ7vkHvZdB"
      },
      "outputs": [],
      "source": [
        "#This function converts date of birth into datetime format, and replaces \n",
        "#by np.nan if speaker was born before 1900\n",
        "# According to the fact that we are performing a linguistic study, it is essential to make sure that the english spoken is fairily the same. \n",
        "#To do so, we decided to select the speakers of interest regarding the date of birth. \n",
        "#Such processing makes sure that the speakers are contemporary and may speak similarily.\n",
        "\n",
        "def dateofbirth(date):\n",
        "  #Remove speakers who are born before JC\n",
        "    if date[0] == '-' or date[1:5] == '0000': \n",
        "        date = np.nan\n",
        "    else:\n",
        "      #Notice here that we are only focusing on the year, this line will set the every birth days and months to first of january\n",
        "        date = datetime.strptime(date[1:5], '%Y')\n",
        "        if (date.year < 1900):\n",
        "            date = np.nan\n",
        "    return date\n",
        "\n",
        "#This function removes QIDS found in the sorted data that are irrelevant for the analysis\n",
        "def gender(id):\n",
        "    #remove erkek (which is a last name), homosexuality \n",
        "    if id == 'Q106299064' or id == 'Q6636':\n",
        "        return np.nan\n",
        "    #replace male organism, cis male by male\n",
        "    if id == 'Q44148' or id == 'Q15145778':\n",
        "        return 'Q6581097'\n",
        "    #same for female\n",
        "    if id== 'Q43445' or id == 'Q15145779':\n",
        "        return 'Q6581072'\n",
        "    else :\n",
        "        return id\n",
        "\n",
        "#function returns true if us citizen\n",
        "def us_to_bool(nat):\n",
        "    if isinstance(nat, np.ndarray):\n",
        "        return np.isin('Q30', nat)\n",
        "    else : return False\n",
        "\n",
        "#function returns true if in congress\n",
        "def congress(id):\n",
        "    if isinstance(id, str): return True\n",
        "    else : return False\n"
      ]
    },
    {
      "cell_type": "code",
      "execution_count": null,
      "metadata": {
        "id": "33bcd47KqGK0",
        "colab": {
          "base_uri": "https://localhost:8080/",
          "height": 753
        },
        "outputId": "3eda88d6-69c0-4c4f-9de9-8508a26dc0d0"
      },
      "outputs": [
        {
          "output_type": "display_data",
          "data": {
            "text/html": [
              "<div>\n",
              "<style scoped>\n",
              "    .dataframe tbody tr th:only-of-type {\n",
              "        vertical-align: middle;\n",
              "    }\n",
              "\n",
              "    .dataframe tbody tr th {\n",
              "        vertical-align: top;\n",
              "    }\n",
              "\n",
              "    .dataframe thead th {\n",
              "        text-align: right;\n",
              "    }\n",
              "</style>\n",
              "<table border=\"1\" class=\"dataframe\">\n",
              "  <thead>\n",
              "    <tr style=\"text-align: right;\">\n",
              "      <th></th>\n",
              "      <th>id</th>\n",
              "      <th>label</th>\n",
              "      <th>gender</th>\n",
              "      <th>date_of_birth</th>\n",
              "      <th>nationality</th>\n",
              "      <th>US_congress_bio_ID</th>\n",
              "    </tr>\n",
              "  </thead>\n",
              "  <tbody>\n",
              "    <tr>\n",
              "      <th>2</th>\n",
              "      <td>Q18933</td>\n",
              "      <td>Rhoda Griffis</td>\n",
              "      <td>Q6581072</td>\n",
              "      <td>1965-01-01 00:00:00</td>\n",
              "      <td>True</td>\n",
              "      <td>False</td>\n",
              "    </tr>\n",
              "    <tr>\n",
              "      <th>3</th>\n",
              "      <td>Q18953</td>\n",
              "      <td>Peter DeLuise</td>\n",
              "      <td>Q6581097</td>\n",
              "      <td>1966-01-01 00:00:00</td>\n",
              "      <td>True</td>\n",
              "      <td>False</td>\n",
              "    </tr>\n",
              "    <tr>\n",
              "      <th>4</th>\n",
              "      <td>Q18971</td>\n",
              "      <td>Arthur P. Jacobs</td>\n",
              "      <td>Q6581097</td>\n",
              "      <td>1922-01-01 00:00:00</td>\n",
              "      <td>True</td>\n",
              "      <td>False</td>\n",
              "    </tr>\n",
              "    <tr>\n",
              "      <th>8</th>\n",
              "      <td>Q19190</td>\n",
              "      <td>Rupert Grint</td>\n",
              "      <td>Q6581097</td>\n",
              "      <td>1988-01-01 00:00:00</td>\n",
              "      <td>False</td>\n",
              "      <td>False</td>\n",
              "    </tr>\n",
              "    <tr>\n",
              "      <th>9</th>\n",
              "      <td>Q19205</td>\n",
              "      <td>Rob Bourdon</td>\n",
              "      <td>Q6581097</td>\n",
              "      <td>1979-01-01 00:00:00</td>\n",
              "      <td>True</td>\n",
              "      <td>False</td>\n",
              "    </tr>\n",
              "    <tr>\n",
              "      <th>...</th>\n",
              "      <td>...</td>\n",
              "      <td>...</td>\n",
              "      <td>...</td>\n",
              "      <td>...</td>\n",
              "      <td>...</td>\n",
              "      <td>...</td>\n",
              "    </tr>\n",
              "    <tr>\n",
              "      <th>9055974</th>\n",
              "      <td>Q210228</td>\n",
              "      <td>Kozo Yuki</td>\n",
              "      <td>Q6581097</td>\n",
              "      <td>1979-01-01 00:00:00</td>\n",
              "      <td>False</td>\n",
              "      <td>False</td>\n",
              "    </tr>\n",
              "    <tr>\n",
              "      <th>9055975</th>\n",
              "      <td>Q210231</td>\n",
              "      <td>Hayato Sasaki</td>\n",
              "      <td>Q6581097</td>\n",
              "      <td>1982-01-01 00:00:00</td>\n",
              "      <td>False</td>\n",
              "      <td>False</td>\n",
              "    </tr>\n",
              "    <tr>\n",
              "      <th>9055976</th>\n",
              "      <td>Q210284</td>\n",
              "      <td>Marinaldo Cícero da Silva</td>\n",
              "      <td>Q6581097</td>\n",
              "      <td>1986-01-01 00:00:00</td>\n",
              "      <td>False</td>\n",
              "      <td>False</td>\n",
              "    </tr>\n",
              "    <tr>\n",
              "      <th>9055978</th>\n",
              "      <td>Q210462</td>\n",
              "      <td>Christina Hendricks</td>\n",
              "      <td>Q6581072</td>\n",
              "      <td>1975-01-01 00:00:00</td>\n",
              "      <td>True</td>\n",
              "      <td>False</td>\n",
              "    </tr>\n",
              "    <tr>\n",
              "      <th>9055980</th>\n",
              "      <td>Q210547</td>\n",
              "      <td>Aubrey Plaza</td>\n",
              "      <td>Q6581072</td>\n",
              "      <td>1984-01-01 00:00:00</td>\n",
              "      <td>True</td>\n",
              "      <td>False</td>\n",
              "    </tr>\n",
              "  </tbody>\n",
              "</table>\n",
              "<p>3223289 rows × 6 columns</p>\n",
              "</div>"
            ],
            "text/plain": [
              "              id                      label  ... nationality US_congress_bio_ID\n",
              "2         Q18933              Rhoda Griffis  ...        True              False\n",
              "3         Q18953              Peter DeLuise  ...        True              False\n",
              "4         Q18971           Arthur P. Jacobs  ...        True              False\n",
              "8         Q19190               Rupert Grint  ...       False              False\n",
              "9         Q19205                Rob Bourdon  ...        True              False\n",
              "...          ...                        ...  ...         ...                ...\n",
              "9055974  Q210228                  Kozo Yuki  ...       False              False\n",
              "9055975  Q210231              Hayato Sasaki  ...       False              False\n",
              "9055976  Q210284  Marinaldo Cícero da Silva  ...       False              False\n",
              "9055978  Q210462        Christina Hendricks  ...        True              False\n",
              "9055980  Q210547               Aubrey Plaza  ...        True              False\n",
              "\n",
              "[3223289 rows x 6 columns]"
            ]
          },
          "metadata": {}
        },
        {
          "output_type": "stream",
          "name": "stdout",
          "text": [
            "Index                  25786312\n",
            "id                    211539869\n",
            "label                 238764324\n",
            "gender                  3225420\n",
            "date_of_birth         180504184\n",
            "nationality             3223289\n",
            "US_congress_bio_ID      3223289\n",
            "dtype: int64\n"
          ]
        }
      ],
      "source": [
        "\n",
        "#files = pathlib.Path('./parquet').glob('part-*-0d587965-3d8f-41ce-9771-5b8c9024dce9-c000.snappy.parquet')\n",
        "files = pathlib.Path(\"/content/drive/MyDrive/ADAprojet2021/Project datasets/speaker_attributes.parquet/\").glob(\"part-*-0d587965-3d8f-41ce-9771-5b8c9024dce9-c000.snappy.parquet\")\n",
        "df = pd.DataFrame()\n",
        "columns = ['id', 'label', 'gender','date_of_birth', 'nationality', 'US_congress_bio_ID']\n",
        "for path in files:\n",
        "    df = pd.concat([df, pd.read_parquet(path, columns = columns)], join='outer', ignore_index=True)\n",
        "    df = df.drop_duplicates(subset='id', keep = False)\n",
        "\n",
        "df.gender = df.gender.apply(lambda x: rem_mult(x))\n",
        "df.gender = df.gender.apply(lambda x: gender(x))\n",
        "\n",
        "df.date_of_birth = df.date_of_birth.apply(lambda x: rem_mult(x))\n",
        "\n",
        "df = df.dropna(subset = ['id', 'gender','date_of_birth'])\n",
        "df = df.astype({'gender': 'category'})\n",
        "\n",
        "df.date_of_birth = df.date_of_birth.apply(lambda x: dateofbirth(x))\n",
        "df = df.dropna(subset = ['date_of_birth'])\n",
        "\n",
        "df.nationality = df.nationality.apply(lambda x: us_to_bool(x))\n",
        "df.US_congress_bio_ID = df.US_congress_bio_ID.apply(lambda x: congress(x))\n",
        "\n",
        "\n",
        "display(df)\n",
        "print(df.memory_usage(deep=True))\n",
        "genders = df.gender.unique()\n",
        "\n",
        "\n",
        "path_to_out = '/content/drive/MyDrive/ADAprojet2021/speaker_attributes_processed.json.bz2'\n",
        "df.to_json(path_to_out, orient = 'records', compression = 'bz2') "
      ]
    },
    {
      "cell_type": "markdown",
      "metadata": {
        "id": "qerKaZwczsKt"
      },
      "source": [
        "Since we are doing an observationnal study, it is important to have a great notion of the distribution according to the different features. "
      ]
    },
    {
      "cell_type": "code",
      "execution_count": null,
      "metadata": {
        "id": "FCDzJmXXlh_X",
        "colab": {
          "base_uri": "https://localhost:8080/",
          "height": 349
        },
        "outputId": "8e854722-cf53-435c-b066-956c4e662506"
      },
      "outputs": [
        {
          "output_type": "display_data",
          "data": {
            "image/png": "[encoded data removed]",
            "text/plain": [
              "<Figure size 3600x1440 with 1 Axes>"
            ]
          },
          "metadata": {
            "needs_background": "light"
          }
        }
      ],
      "source": [
        "plt.figure(figsize=(50,20))\n",
        "sns.histplot(df.gender)\n",
        "plt.title(\"Histogram showing the distribution of gender \", fontsize=30)\n",
        "plt.xlabel(\"Gender\", fontsize=25)\n",
        "plt.ylabel(\"Numbers of individuals\", fontsize=25)\n",
        "plt.yscale('log')\n",
        "labels = ['transgender female', 'intersex', 'neutrois', 'genderqueer', 'eunuch', 'genderfluid', 'transgender person', 'shemale',\n",
        "          'transgender male', 'transmasculine', 'two-spirit', 'muxe', 'non-binary', 'third gender', 'agender', 'neutral sex',\n",
        "         'female', 'male', 'pangender', 'khatoey', 'bigender', 'demiboy', 'X-gender']\n",
        "plt.xticks(ticks = np.arange(23), labels = labels, rotation=45, fontsize=20)\n",
        "plt.savefig('/content/drive/MyDrive/ADAprojet2021/hist_gender.png', bbox_inches='tight')\n",
        "plt.show()"
      ]
    },
    {
      "cell_type": "code",
      "execution_count": null,
      "metadata": {
        "id": "QqAnNMuOweoW",
        "colab": {
          "base_uri": "https://localhost:8080/",
          "height": 463
        },
        "outputId": "e4bb5511-34ff-405f-8cb0-8ee550fb644b"
      },
      "outputs": [
        {
          "output_type": "display_data",
          "data": {
            "image/png": "[encoded data removed]",
            "text/plain": [
              "<Figure size 921.6x576 with 1 Axes>"
            ]
          },
          "metadata": {
            "needs_background": "light"
          }
        }
      ],
      "source": [
        "\n",
        "x = []\n",
        "for i in df.date_of_birth:\n",
        "  x.append(i.year)\n",
        "\n",
        "sns.displot(data=x, kde = True, height=8, aspect=1.6) \n",
        "sns.set_style('white')\n",
        "plt.xlabel('Year of birth')\n",
        "plt.xlim(1900,2021)\n",
        "plt.title(\"Distribution of the birth years\", x = 0.5, y = 1, fontsize = 15)\n",
        "plt.tight_layout()\n",
        "plt.savefig('/content/drive/MyDrive/ADAprojet2021/dist_birth.png', bbox_inches='tight')\n",
        "plt.show()"
      ]
    },
    {
      "cell_type": "markdown",
      "metadata": {
        "id": "RJZMkIKi4y2y"
      },
      "source": [
        "# Natural language processing:\n",
        "\n",
        "Preprocessing of the citations: Put them in the right format, extract the tense of the citation to properly assign the right score.\n"
      ]
    },
    {
      "cell_type": "code",
      "execution_count": null,
      "metadata": {
        "id": "iEXXUZjT4yN7"
      },
      "outputs": [],
      "source": [
        "#NLP libraries\n",
        "import spacy, nltk, gensim, sklearn\n",
        "from nltk import pos_tag, word_tokenize\n",
        "nltk.download('punkt')\n",
        "nltk.download('averaged_perceptron_tagger')\n",
        "\n",
        "# je sais pas si ca va etre utile mais je le laisse pour le moment\n",
        "nlp = spacy.load('en_core_web_sm')\n"
      ]
    },
    {
      "cell_type": "markdown",
      "metadata": {
        "id": "go9y1BgxJkwU"
      },
      "source": [
        "Expression that we want to target in the citations and their associated score:"
      ]
    },
    {
      "cell_type": "markdown",
      "source": [
        "# Processing of the expressions of confidence for comparison\n"
      ],
      "metadata": {
        "id": "JSG4q19JNrJQ"
      }
    },
    {
      "cell_type": "code",
      "execution_count": null,
      "metadata": {
        "id": "UOKsSId6Jj4x"
      },
      "outputs": [],
      "source": [
        "#sentences and associated scores to be used as starting point (taken from the Wesson & Pulford paper)\n",
        "sentences = pd.DataFrame(columns = ['sentence', 'score_present','score_past'])\n",
        "\n",
        "\n",
        "#We also removed phrases that were in two parts (I think ... isn't it, I think ... but I can't be sure)\n",
        "sentences.sentence = [\"I'm absolutely certain\", \"I'm positive\", \"I'm certain\", \"I know for a fact\", \"I know\", \"I'm confident\", \"I have no doubt\", \"I'm sure\", \"I have no doubt, I mean I'm sure\", \"I'm fairly confident\", \"I remember\", \"I believe\", \"I would say\", \"I suspect\", \"I could be mistaken but I'm sure\", \"I think\", \"I'm not completely confident, but I think\", \"I can't say for sure, but\", \"I think ... but I can't be sure\", \"I'm not certain but\",\"I'm not sure but\",\"... I think\", \"I guess\", \"I could be wrong, but I think\", \"I think, I think\", \"I think ... isn't it\", \"I'm guessing, but I would say\", \"I suppose\", \"Oh, I don't know, I suppose\", \"I'm not sure, it's kind of ...\"]\n",
        "\n",
        "\n"
      ]
    },
    {
      "cell_type": "markdown",
      "source": [
        "Process the citation to have them in a convenient format:\n"
      ],
      "metadata": {
        "id": "JkF0kT-CXhU5"
      }
    },
    {
      "cell_type": "code",
      "source": [
        "#score in the article follow uk grading system (0-7, 7 being the best). \n",
        "sentences.score_present = [6.61, 6.57, 6.55, 6.5, 6.45, 6.43, 6.3, 6.02, 5.95, 5.32, 5.18, 4.86, 4.7, 4.68, 4.68, 4.66, 4.2, 4.16, 4.16, 4.14, 3.84, 3.75, 3.75, 3.68, 3.61, 3.48, 3.39, 3.34, 3.02, 2.91]\n",
        "sentences.score_past = [6.33, 5.96, 5.90, 6.25, 6.08, 6.06, 5.88, 5.52, 5.40, 5.25, 5.25, 4.56, 4.29, 4.25, 4.17, 4.06, 4.12, 3.81, 3.48, 3.65, 3.44, 3.40, 3.56, 3.67, 3.19, 3.08, 2.92, 3.13, 2.94, 2.88]\n",
        "\n",
        "#We change this to a 0-1 scale, as it is more intuitive. \n",
        "sentences.score_present = sentences['score_present'].apply(lambda x: x/7)\n",
        "sentences.score_past = sentences['score_past'].apply(lambda x: x/7)\n",
        "\n",
        "\n"
      ],
      "metadata": {
        "id": "Dy57mzK0Xa6a"
      },
      "execution_count": null,
      "outputs": []
    },
    {
      "cell_type": "markdown",
      "source": [
        "Due to the fact that some expressions are separated into two parts we decided to throw them out of the sentenced used for the comparison. We decided to also get rid of the expression that will probably won't appear in the quotes\n"
      ],
      "metadata": {
        "id": "2ih3GHUynD3L"
      }
    },
    {
      "cell_type": "code",
      "source": [
        "sentences = sentences[sentences.sentence != \"I think ... isn't it\"]\n",
        "sentences = sentences[sentences.sentence != \"I think ... but I can't be sure\"]\n",
        "sentences = sentences[sentences.sentence != \"... I think\"]\n",
        "sentences = sentences[sentences.sentence != \"I think, I think\"]\n",
        "sentences = sentences[sentences.sentence != \"I'm not sure, it's kind of ...\" ]\n"
      ],
      "metadata": {
        "id": "sCFb8D2unR6I"
      },
      "execution_count": null,
      "outputs": []
    },
    {
      "cell_type": "markdown",
      "source": [
        "To make sure that the expression will be recognized, we explicit the verb that are truncated e.g \"I'm\" and \"I am\""
      ],
      "metadata": {
        "id": "gfcRTOLVpFr5"
      }
    },
    {
      "cell_type": "code",
      "source": [
        "import contractions\n",
        "\n",
        "#this function allows to expand rhe contracted verb, it returns the expanded form as well as the score associated with it. \n",
        "#since the expanded form has the exat meaning, we kept the same score\n",
        "\n",
        "def expanded_form(exp):\n",
        "\n",
        "  expanded_words = []\n",
        "  for word in exp.split():\n",
        "    expanded_words.append(contractions.fix(word))\n",
        "  expanded_text = ' '.join(expanded_words)\n",
        "\n",
        "  return({'sentence': contractions.fix(expanded_text), 'score_present': sentences[sentences.sentence == exp].score_present.item(), 'score_past':sentences[sentences.sentence == exp].score_past.item()})\n",
        "\n"
      ],
      "metadata": {
        "id": "ls3S0njqpFR-"
      },
      "execution_count": null,
      "outputs": []
    },
    {
      "cell_type": "code",
      "source": [
        "#Now we add those expanded form of expression in the original set on sentences \n",
        "for expanded in sentences['sentence'].apply(lambda x: expanded_form(x)):\n",
        "  sentences = sentences.append(expanded, ignore_index=True)\n",
        "\n",
        "#since some expressions didn't need to be expanded there are duplicated, s we get rid of those\n",
        "sentences = sentences.drop_duplicates()\n",
        "\n",
        "#to enable proper comparison we need to case fold the expressions to avoid a missing\n",
        "sentences.sentence = sentences['sentence'].apply(lambda x: x.casefold())\n",
        "display(sentences)"
      ],
      "metadata": {
        "id": "YTXw8lA-NEwJ"
      },
      "execution_count": null,
      "outputs": []
    },
    {
      "cell_type": "markdown",
      "source": [
        "# Cellule pour generer des dataframe tests"
      ],
      "metadata": {
        "id": "T7pNLSUcvqwR"
      }
    },
    {
      "cell_type": "markdown",
      "source": [
        "Je laisse la cellule qui genere un data frame test si quelqu'un a besoin d'un sous ensemble pour tester ses trucs"
      ],
      "metadata": {
        "id": "1thY2CFI9kD-"
      }
    },
    {
      "cell_type": "code",
      "execution_count": null,
      "metadata": {
        "id": "jKBHW1vn66Z8"
      },
      "outputs": [],
      "source": [
        "#Extract a small part of the whole file to test \n",
        "path = '/content/drive/MyDrive/ADAprojet2021/quotes-2020-processed.json.bz2'\n",
        "test = pd.DataFrame(columns=('qids','quotation', 'findings', 'score'))\n",
        "i = 0\n",
        "with bz2.open(path, 'rb') as s_file:\n",
        "  for instance in s_file:\n",
        "    instance = json.loads(instance) \n",
        "    i = i + 1\n",
        "    test = test.append({'qids': instance['qids'], 'quotation': instance['quotation']}, ignore_index=True)\n",
        "    if i == 15:\n",
        "      break\n"
      ]
    },
    {
      "cell_type": "code",
      "source": [
        "#sous ensemble expression-score de test\n",
        "test_exp = pd.DataFrame(columns = ['sentence', 'score_past', 'score_present'])\n",
        "test_exp.score_present = ['1','2','3','4','5']\n",
        "test_exp.score_past = ['-1','-2','-3','-4','-5']\n",
        "test_exp.sentence = ['is', 'not', 'why', 'the', 'of']\n",
        "display(test_exp)"
      ],
      "metadata": {
        "id": "f9LvBCjVjQGN",
        "colab": {
          "base_uri": "https://localhost:8080/"
        },
        "outputId": "851f1894-b791-4f55-a066-fe1bbcb1fce9"
      },
      "execution_count": null,
      "outputs": [
        {
          "output_type": "display_data",
          "data": {
            "text/html": [
              "<div>\n",
              "<style scoped>\n",
              "    .dataframe tbody tr th:only-of-type {\n",
              "        vertical-align: middle;\n",
              "    }\n",
              "\n",
              "    .dataframe tbody tr th {\n",
              "        vertical-align: top;\n",
              "    }\n",
              "\n",
              "    .dataframe thead th {\n",
              "        text-align: right;\n",
              "    }\n",
              "</style>\n",
              "<table border=\"1\" class=\"dataframe\">\n",
              "  <thead>\n",
              "    <tr style=\"text-align: right;\">\n",
              "      <th></th>\n",
              "      <th>sentence</th>\n",
              "      <th>score_past</th>\n",
              "      <th>score_present</th>\n",
              "    </tr>\n",
              "  </thead>\n",
              "  <tbody>\n",
              "    <tr>\n",
              "      <th>0</th>\n",
              "      <td>is</td>\n",
              "      <td>-1</td>\n",
              "      <td>1</td>\n",
              "    </tr>\n",
              "    <tr>\n",
              "      <th>1</th>\n",
              "      <td>not</td>\n",
              "      <td>-2</td>\n",
              "      <td>2</td>\n",
              "    </tr>\n",
              "    <tr>\n",
              "      <th>2</th>\n",
              "      <td>why</td>\n",
              "      <td>-3</td>\n",
              "      <td>3</td>\n",
              "    </tr>\n",
              "    <tr>\n",
              "      <th>3</th>\n",
              "      <td>the</td>\n",
              "      <td>-4</td>\n",
              "      <td>4</td>\n",
              "    </tr>\n",
              "    <tr>\n",
              "      <th>4</th>\n",
              "      <td>of</td>\n",
              "      <td>-5</td>\n",
              "      <td>5</td>\n",
              "    </tr>\n",
              "  </tbody>\n",
              "</table>\n",
              "</div>"
            ],
            "text/plain": [
              "  sentence score_past score_present\n",
              "0       is         -1             1\n",
              "1      not         -2             2\n",
              "2      why         -3             3\n",
              "3      the         -4             4\n",
              "4       of         -5             5"
            ]
          },
          "metadata": {}
        }
      ]
    },
    {
      "cell_type": "markdown",
      "metadata": {
        "id": "JzEBUqBTF5IU"
      },
      "source": [
        "# Find the expressions of confidence in the quotations\n"
      ]
    },
    {
      "cell_type": "code",
      "execution_count": null,
      "metadata": {
        "id": "8_ndfm0aCi2B"
      },
      "outputs": [],
      "source": [
        "from nltk.text import Text\n",
        "import re \n",
        "import warnings; warnings.simplefilter('ignore')\n",
        "#to enable proper comparison we need to case fold the citations to avoid a missing\n",
        "\n",
        "quotes['quotation']= quotes['quotation'].apply(lambda x: x.casefold())\n",
        "\n",
        "\n",
        "\n"
      ]
    },
    {
      "cell_type": "code",
      "execution_count": null,
      "metadata": {
        "id": "UZa0bl0-JPnF"
      },
      "outputs": [],
      "source": [
        "#put the different expression in a format enable multiple comparison:\n",
        "rx = r\"(?=\\b({})\\b)\".format(\"|\".join(map(re.escape, sorted(sentences.sentence, key=len, reverse=True))))\n",
        "\n",
        "pattern = re.compile(rx)\n",
        "\n",
        "#create an array containing the tags associated with the tense \n",
        "present = [\"VBP\", \"VBZ\",\"VBG\"]\n",
        "past = [\"VBD\", \"VBN\"]\n",
        "\n"
      ]
    },
    {
      "cell_type": "code",
      "source": [
        "path = '/content/drive/MyDrive/ADAprojet2021/quotes-2017-processed.json.bz2'\n",
        "quotes = pd.DataFrame()\n",
        "\n",
        "\n",
        "with bz2.open(path, 'rb') as s_file:\n",
        "  for instance in s_file:\n",
        "    instance = json.loads(instance)  \n",
        "    #to enable proper comparison we need to case fold the citations to avoid a missing\n",
        "    quotation = instance['quotation'].casefold()\n",
        "    if re.findall(pattern, quotation):\n",
        "    #and np.isin(instance['qids'], speaker.id.tolist()):\n",
        "      instance_out = instance\n",
        "      quotes = quotes.append(instance_out, ignore_index=True)\n",
        "\n",
        "\n",
        "quotes.to_pickle('/content/drive/MyDrive/ADAprojet2021/quotes_found_2017.pk1', 'bz2')\n",
        "#quotes['quotation']= quotes['quotation'].apply(lambda x: x.casefold())"
      ],
      "metadata": {
        "id": "IryDSRJaZrER"
      },
      "execution_count": null,
      "outputs": []
    },
    {
      "cell_type": "markdown",
      "source": [
        "## Joinining both datasets\n",
        "In this step, we remove quotes by speakers we removed from the speaker dataframe (e.g. because we didn't know the gender), and we count the number of quotes per speaker, so as to remove speakers that don't have quotes assigned. "
      ],
      "metadata": {
        "id": "Tp2b93yudTM5"
      }
    },
    {
      "cell_type": "code",
      "source": [
        "#create a file merging the quotes with the speaker information, to remove quotes by speakers of which we did not have sufficient info\n",
        "path_to_file = '/content/drive/MyDrive/ADAprojet2021/quotes-2017-processed.json.bz2' \n",
        "path_to_pickle = '/content/picklefile.pkl'\n",
        "\n",
        "#function to turn the qids from the quotebank file from list to string format\n",
        "def list_to_first(qids):\n",
        "  return qids[0]\n",
        "\n",
        "\n",
        "#We set the number of quote to zero for every speakers first\n",
        "speaker = pd.read_pickle('/content/drive/MyDrive/ADAprojet2021/final_variables/speaker_attributes_processed.pk1', 'bz2')\n",
        "speaker['quote_nbr'] = np.zeros(speaker.shape[0])"
      ],
      "metadata": {
        "id": "Jha0OVCVdSWk"
      },
      "execution_count": null,
      "outputs": []
    },
    {
      "cell_type": "code",
      "source": [
        "#create a file merging the quotes with the speaker information,\n",
        "# to remove quotes by speakers of which we did not have sufficient info\n",
        "\n",
        "chunk_list = []\n",
        "\n",
        "#We open the file containing all the quotes separated in large chunks \n",
        "#at the same time we are going to extract the remaining quote for NLP:\n",
        "\n",
        "for chunk in pd.read_json(path_to_file, lines=True, compression='bz2', chunksize=1000, orient = 'records'):\n",
        "    chunk.qids = chunk.qids.apply(lambda x: list_to_first(x))\n",
        "\n",
        "    chunk['findings'] = chunk['quotation'].apply(lambda x: np.unique(re.findall(pattern, x)))\n",
        "    # get rid of the quotes that don't contain any expression of confidence\n",
        "    chunk = chunk[~chunk.findings.str.len().eq(0)]\n",
        "\n",
        "    #keep only the relevant ids\n",
        "    chunk = chunk[(chunk.qids).isin(df.id.tolist())]\n",
        "    chunk_list.append(chunk)\n",
        "\n",
        "    occurences = chunk.qids.value_counts()\n",
        "    occurences = pd.DataFrame(occurences)\n",
        "    occurences['id'] = occurences.index.to_series()\n",
        "    occurences.columns = ['quote_nbr', 'id']\n",
        "    speaker = pd.merge(speaker, occurences, on='id', how='left' )\n",
        "    speaker['quote_nbr'] = speaker.pop('quote_nbr_x')+ speaker.pop('quote_nbr_y')\n",
        "\n",
        "#we only keep quotations as well as the qids of the speaker associated with them\n",
        "quotes = pd.concat(chunk_list)[['qids','quotation']]"
      ],
      "metadata": {
        "id": "PPngkgJYc-C7"
      },
      "execution_count": null,
      "outputs": []
    },
    {
      "cell_type": "code",
      "source": [
        "quotes.to_pickle('/content/MyDrive/ADAprojet2021/quotes_final_2017.pk1', 'bz2')"
      ],
      "metadata": {
        "id": "UXgxq0F9djTW"
      },
      "execution_count": null,
      "outputs": []
    },
    {
      "cell_type": "code",
      "source": [
        "chunk_list = []\n",
        "\n",
        "for chunk in np.array_split(quotes, 80):\n",
        "  #keep the expressions found in an array to allow score assessing:\n",
        "\n",
        "  chunk['findings'] = chunk['quotation'].apply(lambda x: np.unique(re.findall(pattern, x)))\n",
        "\n",
        "\n",
        "  #We compare the tags obtained with the tense vector to assess a tense to tue quotes\n",
        "  chunk['tags'] = chunk['quotation'].apply(lambda x: [pos for word,pos in nltk.pos_tag(nltk.word_tokenize(x)) if np.isin(pos, past + present)])\n",
        "\n",
        "  chunk['tense'] = chunk['tags'].apply(lambda x: 'present' if set(x).issubset(set(present)) == True else 'past' )\n",
        "  chunk_list.append(chunk)\n",
        "\n",
        "quotes_info =  pd.concat(chunk_list)[['qids','quotation', 'findings', 'tags', 'tense']]\n",
        "\n"
      ],
      "metadata": {
        "id": "_qZViMBGcVtI"
      },
      "execution_count": null,
      "outputs": []
    },
    {
      "cell_type": "code",
      "source": [
        "quotes_info.to_pickle('/content/drive/MyDrive/ADAprojet2021/quotes_info_2017.pkl', 'bz2')"
      ],
      "metadata": {
        "id": "a2i_OxIrcaKT"
      },
      "execution_count": null,
      "outputs": []
    },
    {
      "cell_type": "markdown",
      "source": [
        "Some expressions take into account the tense of the sentences, hence we create a new column that indicates the tense in order to properly assess the score "
      ],
      "metadata": {
        "id": "NKjqSI-t93Pg"
      }
    },
    {
      "cell_type": "code",
      "source": [
        "#Now that we have both time and expressisons of confidence, we compare theses expressions with the different quotes and extract the expressions found as weel as the score associated to them.\n",
        "\n",
        "quotes.loc[quotes[\"tense\"] == 'present', 'score'] = quotes[quotes.tense == 'present']['findings'].apply(lambda x: [float(sentences['score_present'][ind]) for ind in sentences.index if(sentences['sentence'][ind] in x)])\n",
        "quotes.loc[quotes[\"tense\"] == 'past', 'score'] = quotes[quotes.tense == 'past']['findings'].apply(lambda x: [float(sentences['score_past'][ind]) for ind in sentences.index if(sentences['sentence'][ind] in x)])\n",
        "\n",
        "display(quotes)"
      ],
      "metadata": {
        "id": "lmeDxAqSwAjf"
      },
      "execution_count": null,
      "outputs": []
    },
    {
      "cell_type": "code",
      "source": [
        "#If we decide to define the quote score by averaging the values in the score array: \n",
        "\n",
        "quotes['score_mean'] = quotes['score'].apply(lambda x: np.mean(x))\n",
        "quotes['score_std'] = quotes['score'].apply(lambda x: np.std(x))\n",
        "\n",
        "\n",
        "#If we decide todefine the quote score by taking the maximum value \n",
        "#to handle empty score arrays, we initiate the minimum value of an output element to 0. It means that for empty vector the function will return zero.\n",
        "quotes['score_max'] = quotes['score'].apply(lambda x: np.amax(x, initial=0))\n",
        "\n"
      ],
      "metadata": {
        "id": "4GQqZ8Nrw9-F"
      },
      "execution_count": null,
      "outputs": []
    },
    {
      "cell_type": "code",
      "source": [
        "quotes.to_pickle('/content/drive/MyDrive/ADAprojet2021/quotes_info_2017.pkl', 'bz2')"
      ],
      "metadata": {
        "id": "RvRjdyPgbC-2"
      },
      "execution_count": null,
      "outputs": []
    },
    {
      "cell_type": "markdown",
      "source": [
        "# Data visualization"
      ],
      "metadata": {
        "id": "5U0ChQsicovx"
      }
    },
    {
      "cell_type": "code",
      "source": [
        "sns.displot(data=y.score_max, bins = 20, kde = True, height=8, aspect=1.6) \n",
        "sns.set_style('white')\n",
        "plt.xlabel('Score_mean')\n",
        "plt.title(\"Distribution of scores\", x = 0.5, y = 1, fontsize = 15)\n",
        "plt.tight_layout()\n",
        "plt.savefig('/content/drive/MyDrive/ADAprojet2021/dist_score_2017.png', bbox_inches='tight')\n",
        "plt.show()"
      ],
      "metadata": {
        "id": "pX5ff6ocZkOe"
      },
      "execution_count": null,
      "outputs": []
    },
    {
      "cell_type": "code",
      "source": [
        "sns.displot(data=y.score_max, bins = 20, kde = True, height=8, aspect=1.6) \n",
        "sns.set_style('white')\n",
        "plt.xlabel('Standard deviation')\n",
        "plt.title(\"Distribution of score maxstandard deviation\", x = 0.5, y = 1, fontsize = 15)\n",
        "plt.tight_layout()\n",
        "plt.savefig('/content/drive/MyDrive/ADAprojet2021/dist_std_2017.png', bbox_inches='tight')\n",
        "plt.show()"
      ],
      "metadata": {
        "id": "F6EYqXbYcyOX"
      },
      "execution_count": null,
      "outputs": []
    },
    {
      "cell_type": "markdown",
      "source": [
        "# to do list (avec ± l'ordre)"
      ],
      "metadata": {
        "id": "wJfKBdzBUCUI"
      }
    },
    {
      "cell_type": "markdown",
      "source": [
        "- ajouter les citations au passé MAEVA 🆗\n",
        "\n",
        "- faire des chunks dataframe avec le set entier pour faire les manipulations dessus et stocker dans pickle\n",
        "NAOMI\n",
        "\n",
        "- choisir quelles expressions qu'on garde MAEVA 🆗\n",
        "\n",
        "- comparaison avec la prise en compte du temps (deja codé) MAEVA 🆗\n",
        "\n",
        "- aggreger les scores (mean/max) pour les comparaisons exactes.\n",
        "MAEVA 🆗\n",
        "\n",
        "- graph pour les deux types d'aggregats (distribution) 2 : ALEXY\n",
        "\n",
        "- stats !! Mettre les deviations standards (MAEVA) MAEVA 🆗\n",
        "\n",
        "- graphes des distributions des expressions exactement \n",
        "ALEXY\n",
        "\n",
        "- faire les n-grams/ou chunks\n",
        "FLORETTE\n",
        "\n",
        "- distributions des elements les plus utilisés en general ALEXY\n",
        "\n",
        "- faire les similarités FLORETTE\n",
        "\n",
        "- definir un threshold de similarité : bon sens TOUS ~0.7\n",
        "\n",
        "- aggreger les scores comme avant MAEVA\n",
        "\n",
        "- merger avec les speakers\n",
        "NAOMI\n",
        "\n",
        "- faire les tests statistiques H/F MAEVA\n",
        "\n",
        "- faire les tests statistiques avec les personnes du congrès  MAEVA\n",
        "\n",
        "- faire les distributions des mots les plus utilisés/expressions les plus utilisées par les speakers les plus confidents (sentiment analysis si on a le temps ca serait cool) ALEXY\n",
        "\n",
        "- faire un lien avec l'article et comparer a quel point resultats sont similaires à l'étude NAOMI\n",
        "\n",
        "- Trouver des visualisations sympathiques (plotly) ALEXY\n"
      ],
      "metadata": {
        "id": "znuCnQzwUM8P"
      }
    },
    {
      "cell_type": "code",
      "source": [
        ""
      ],
      "metadata": {
        "id": "5obbA0qTUGEK"
      },
      "execution_count": null,
      "outputs": []
    }
  ],
  "metadata": {
    "colab": {
      "collapsed_sections": [
        "JSG4q19JNrJQ",
        "T7pNLSUcvqwR"
      ],
      "name": "Project_2_2017.ipynb",
      "provenance": []
    },
    "kernelspec": {
      "display_name": "Python 3",
      "language": "python",
      "name": "python3"
    },
    "language_info": {
      "codemirror_mode": {
        "name": "ipython",
        "version": 3
      },
      "file_extension": ".py",
      "mimetype": "text/x-python",
      "name": "python",
      "nbconvert_exporter": "python",
      "pygments_lexer": "ipython3",
      "version": "3.8.3"
    }
  },
  "nbformat": 4,
  "nbformat_minor": 0
}