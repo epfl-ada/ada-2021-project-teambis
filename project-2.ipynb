{
 "cells": [
  {
   "cell_type": "code",
   "execution_count": null,
   "id": "2a3dd7e9-01f2-4380-ad2a-72341eeb8dd1",
   "metadata": {},
   "outputs": [],
   "source": [
    "from google.colab import drive\n",
    "from tld import get_tld\n",
    "import bz2\n",
    "import json\n",
    "\n",
    "drive.mount('/content/drive')\n",
    "def get_domain(url):\n",
    "    res = get_tld(url, as_object=True)\n",
    "    return res.tld\n",
    "\n",
    "path_to_file = '/content/drive/MyDrive/Quotebank/quotes-2020.json.bz2' \n",
    "path_to_out = '/content/quotes-2020-domains.json.bz2'\n",
    "\n",
    "with bz2.open(path_to_file, 'rb') as s_file:\n",
    "    with bz2.open(path_to_out, 'wb') as d_file:\n",
    "        for instance in s_file:\n",
    "            instance = json.loads(instance) # loading a sample\n",
    "            urls = instance['urls'] # extracting list of links\n",
    "            domains = []\n",
    "            for url in urls:\n",
    "                tld = get_domain(url)\n",
    "                domains.append(tld)\n",
    "            instance['domains'] = domains # updating the sample with domain name\n",
    "            d_file.write((json.dumps(instance)+'\\n').encode('utf-8')) # writing in the new file\n",
    "            \n",
    "            \n",
    "df = pd.read_parquet('./Project-datasets/speaker_attributes.parquet')\n"
   ]
  },
  {
   "cell_type": "code",
   "execution_count": null,
   "id": "6f50d386-113b-4700-8ded-2542088882af",
   "metadata": {},
   "outputs": [],
   "source": [
    "from google.colab import drive\n",
    "from tld import get_tld\n",
    "import bz2\n",
    "import json"
   ]
  },
  {
   "cell_type": "code",
   "execution_count": null,
   "id": "3e204bea-99d0-4b44-b47d-01de6c3ddc75",
   "metadata": {},
   "outputs": [],
   "source": []
  }
 ],
 "metadata": {
  "kernelspec": {
   "display_name": "Python 3",
   "language": "python",
   "name": "python3"
  },
  "language_info": {
   "codemirror_mode": {
    "name": "ipython",
    "version": 3
   },
   "file_extension": ".py",
   "mimetype": "text/x-python",
   "name": "python",
   "nbconvert_exporter": "python",
   "pygments_lexer": "ipython3",
   "version": "3.8.3"
  }
 },
 "nbformat": 4,
 "nbformat_minor": 5
}
